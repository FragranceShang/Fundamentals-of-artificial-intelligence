{
 "cells": [
  {
   "cell_type": "markdown",
   "id": "a74cc33c",
   "metadata": {
    "id": "819e7379",
    "papermill": {
     "duration": 0.024233,
     "end_time": "2024-05-03T07:46:34.125756",
     "exception": false,
     "start_time": "2024-05-03T07:46:34.101523",
     "status": "completed"
    },
    "tags": []
   },
   "source": [
    "# Transformer\n",
    "\n",
    "同学们好，在这个notebook中，我们将一步步实现self-attention算法和transformer的结构，同时复习Pytorch中的矩阵操作。\n",
    "\n",
    "到目前为止，我们已经看到了循环神经网络（RNNs），它在序列到序列的任务上表现出色，但有两个主要缺点：（1）对于长序列，它们可能会出现梯度消失的问题；（2）由于隐藏状态之间的顺序依赖关系，它们可能需要很长时间来训练，这并未充分利用现代 GPU 的并行架构。第一个问题在一定程度上可以通过使用替代的 RNN 架构（如 LSTM、GRU）来解决，但第二个问题没有得到解决。\n",
    "\n",
    "Transformer 在一定程度上解决了这些问题，它可以在训练期间并行处理输入，即使是长序列也能处理。在这个notebook中，我们将逐步实现 Transformer 模型，参考原始论文[Attention is all you need](https://arxiv.org/pdf/1706.03762.pdf)。我们还将使用一个AddSub数据集来解决一个向量到向量的问题。\n",
    "\n",
    "在序列到序列的任务中，通常我们会同时使用编码器和解码器。在这次作业中，你将学习如何逐步实现基于编码器-解码器的 Transformer。我们将在这里实现一个更简单的版本，完成一个向量到向量的任务。这基本上意味着输入和输出序列的长度是**固定的**，我们不必担心输入序列的可变长度。\n",
    "\n",
    "1. [**第一部分（准备工作）**](#第一部分：准备工作)：导入需要的包，运行项目中所需要的function\n",
    "1. [**第二部分（实现 Transformer 模块）**](#第二部分：实现Transformer构建模块)：我们将学习如何实现 Transformer 的构建模块。它将包括以下模块：\n",
    "   1. 多头注意力（MultiHeadAttention）\n",
    "   2. 前馈网络（FeedForward）\n",
    "   3. 层归一化（LayerNorm）\n",
    "   4. 编码器块（Encoder Block）\n",
    "   5. 解码器块（Decoder Block）\n",
    "1. [**第三部分（数据加载）**](#第三部分：数据加载器)：我们将预处理一个AddSub数据集，其中包含输入算术表达式和表达式的输出结果。我们将使用位置编码（Positional Embedding）模块，同时我们将会构建数据加载器（DataLoader）。\n",
    "1. [**第四部分（训练模型）**](#第四部分:在AddSub数据集上训练Transformer)：在最后一部分，我们将看看如何将实现的 Transformer 模型拟合到AddSub数据集上。\n",
    "\n",
    "你可以在 CPU 上运行所有事情直到第3部分。第4部分需要 GPU，而在切换到此部分的运行时时，你还需要运行所有之前的部分，因为第4部分依赖于之前的部分。\n",
    "\n"
   ]
  },
  {
   "cell_type": "markdown",
   "id": "93f977ce",
   "metadata": {
    "id": "3e1c7486",
    "papermill": {
     "duration": 0.02243,
     "end_time": "2024-05-03T07:46:34.171213",
     "exception": false,
     "start_time": "2024-05-03T07:46:34.148783",
     "status": "completed"
    },
    "tags": []
   },
   "source": [
    "# 第一部分：准备工作"
   ]
  },
  {
   "cell_type": "markdown",
   "id": "56cb4998",
   "metadata": {
    "papermill": {
     "duration": 0.02233,
     "end_time": "2024-05-03T07:46:34.217076",
     "exception": false,
     "start_time": "2024-05-03T07:46:34.194746",
     "status": "completed"
    },
    "tags": []
   },
   "source": [
    "请同学们运行一下block，导入所需要的包以及功能函数。"
   ]
  },
  {
   "cell_type": "code",
   "execution_count": 1,
   "id": "ad1badca",
   "metadata": {
    "execution": {
     "iopub.execute_input": "2024-05-03T07:46:34.263505Z",
     "iopub.status.busy": "2024-05-03T07:46:34.263159Z",
     "iopub.status.idle": "2024-05-03T07:46:39.450861Z",
     "shell.execute_reply": "2024-05-03T07:46:39.449941Z"
    },
    "id": "2cbf5f86",
    "papermill": {
     "duration": 5.213638,
     "end_time": "2024-05-03T07:46:39.453175",
     "exception": false,
     "start_time": "2024-05-03T07:46:34.239537",
     "status": "completed"
    },
    "tags": []
   },
   "outputs": [],
   "source": [
    "# 导入所需的包\n",
    "import torch\n",
    "import torch.nn.functional as F\n",
    "from torch import Tensor\n",
    "from torch import nn, optim\n",
    "import torch.nn.functional as F\n",
    "import matplotlib.pyplot as plt\n",
    "import time\n",
    "from IPython.display import Image\n",
    "import math\n",
    "import random\n",
    "from tqdm import tqdm\n",
    "import json\n",
    "import seaborn\n",
    "import os\n",
    "\n",
    "\n",
    "# for plotting\n",
    "%matplotlib inline\n",
    "plt.rcParams[\"figure.figsize\"] = (10.0, 8.0)  # set default size of plots\n",
    "plt.rcParams[\"image.interpolation\"] = \"nearest\"\n",
    "plt.rcParams[\"image.cmap\"] = \"gray\""
   ]
  },
  {
   "cell_type": "markdown",
   "id": "83b04943",
   "metadata": {
    "id": "b807888a",
    "papermill": {
     "duration": 0.024684,
     "end_time": "2024-05-03T07:46:39.502286",
     "exception": false,
     "start_time": "2024-05-03T07:46:39.477602",
     "status": "completed"
    },
    "tags": []
   },
   "source": [
    "我们将在第四部分使用GPU，前三个部分可以不开启GPU加速。\n",
    "在第四部分，我们将使用 GPU 来加速我们的计算，运行此单元格以确保你正在使用 GPU。\n",
    "\n",
    "我们将使用 `torch.float = torch.float32` 来表示数据，以及 `torch.long = torch.int64` 来表示标签。\n",
    "\n",
    "请参阅 [torch.dtype](https://pytorch.org/docs/stable/tensor_attributes.html#torch-dtype) 了解有关数据类型的更多细节。"
   ]
  },
  {
   "cell_type": "code",
   "execution_count": 2,
   "id": "286787bf",
   "metadata": {
    "execution": {
     "iopub.execute_input": "2024-05-03T07:46:39.551300Z",
     "iopub.status.busy": "2024-05-03T07:46:39.550336Z",
     "iopub.status.idle": "2024-05-03T07:46:39.629489Z",
     "shell.execute_reply": "2024-05-03T07:46:39.628523Z"
    },
    "id": "0150e9a5",
    "papermill": {
     "duration": 0.105122,
     "end_time": "2024-05-03T07:46:39.631599",
     "exception": false,
     "start_time": "2024-05-03T07:46:39.526477",
     "status": "completed"
    },
    "tags": []
   },
   "outputs": [
    {
     "name": "stdout",
     "output_type": "stream",
     "text": [
      "Good to go!\n"
     ]
    }
   ],
   "source": [
    "to_float = torch.float\n",
    "to_long = torch.long\n",
    "\n",
    "if torch.cuda.is_available():\n",
    "    print(\"Good to go!\")\n",
    "    DEVICE = torch.device(\"cuda\")\n",
    "else:\n",
    "    print(\"Please set GPU via Edit -> Notebook Settings.\")\n",
    "    DEVICE = torch.device(\"cpu\")"
   ]
  },
  {
   "cell_type": "markdown",
   "id": "a6a436cb",
   "metadata": {
    "papermill": {
     "duration": 0.023926,
     "end_time": "2024-05-03T07:46:39.679116",
     "exception": false,
     "start_time": "2024-05-03T07:46:39.655190",
     "status": "completed"
    },
    "tags": []
   },
   "source": [
    "项目中需要用到的一些function，请运行一下。"
   ]
  },
  {
   "cell_type": "code",
   "execution_count": 3,
   "id": "be28dfd7",
   "metadata": {
    "execution": {
     "iopub.execute_input": "2024-05-03T07:46:39.727850Z",
     "iopub.status.busy": "2024-05-03T07:46:39.727539Z",
     "iopub.status.idle": "2024-05-03T07:46:39.733969Z",
     "shell.execute_reply": "2024-05-03T07:46:39.733123Z"
    },
    "papermill": {
     "duration": 0.033354,
     "end_time": "2024-05-03T07:46:39.736040",
     "exception": false,
     "start_time": "2024-05-03T07:46:39.702686",
     "status": "completed"
    },
    "tags": []
   },
   "outputs": [],
   "source": [
    "def reset_seed(number):\n",
    "    \"\"\"\n",
    "    重置随机种子为指定的数字\n",
    "\n",
    "    输入：\n",
    "    - number：要使用的种子数\n",
    "    \"\"\"\n",
    "    random.seed(number)\n",
    "    torch.manual_seed(number)\n",
    "    return\n",
    "\n",
    "def rel_error(x, y, eps=1e-10):\n",
    "    \"\"\"\n",
    "    这个函数用于计算两个张量 x 和 y 之间的相对误差。相对误差被定义为：\n",
    "    \n",
    "                            max_i |x_i - y_i]|\n",
    "    rel_error(x, y) = -------------------------------\n",
    "                      max_i |x_i| + max_i |y_i| + eps\n",
    "\n",
    "    输入：\n",
    "    - x，y：具有相同形状的张量\n",
    "    - eps：用于数值稳定性的小正常数\n",
    "\n",
    "    返回：\n",
    "    - rel_error：给出 x 和 y 之间相对误差的标量\n",
    "    \"\"\"\n",
    "    top = (x - y).abs().max().item()\n",
    "    bot = (x.abs() + y.abs()).clamp(min=eps).max().item()\n",
    "    return top / bot"
   ]
  },
  {
   "attachments": {
    "611236e2-803a-4a4b-808f-82de5b10bf59.png": {
     "image/png": "[encoded data removed]"
    }
   },
   "cell_type": "markdown",
   "id": "39fb2ed0",
   "metadata": {
    "id": "58aed0ae",
    "papermill": {
     "duration": 0.024641,
     "end_time": "2024-05-03T07:46:39.784342",
     "exception": false,
     "start_time": "2024-05-03T07:46:39.759701",
     "status": "completed"
    },
    "tags": []
   },
   "source": [
    "# 第二部分：实现Transformer构建模块\n",
    "\n",
    "在这一部分，我们将看到如何实现用于构建 Transformer 模型的各种模块。然后我们将使用这些模块来构建 Transformer 编码器和解码器，最终实现完整的 Transformer 模型。\n",
    "每个模块都将被实现为 `nn.Module` 的子类；我们将使用 PyTorch 的自动微分来计算梯度，因此不需要手动实现反向传播。\n",
    "<img src=\"attachment:611236e2-803a-4a4b-808f-82de5b10bf59.png\" alt=\"image\" width=\"300\" height=\"200\">\n",
    "\n",
    "我们将按照原始论文的参考来实现以下模块：\n",
    "\n",
    "1. 多头注意力（MultiHeadAttention）模块\n",
    "2. 前馈网络（FeedForward）模块\n",
    "3. 层归一化（Layer Normalization）\n",
    "4. 位置编码（Positional Encoding）模块\n",
    "\n",
    "然后，我们将使用这些构建模块，结合输入嵌入层，来构建 Transformer 编码器和解码器。我们将从实现多头注意力（MultiHeadAttention）、前馈网络（FeedForward）和层归一化（Layer Normalization）开始，稍后再看位置编码和输入嵌入。 \n",
    "\n",
    "**注意：** 在实现这些模块时，所有这些模块的输入和输出张量的形状应该相同,可以通过检查检查输入和输出张量的形状判断代码补全是否正确。"
   ]
  },
  {
   "attachments": {
    "1363dc0d-1aa1-481a-af9e-2ceaf1041249.png": {
     "image/png": "[encoded data removed]"
    },
    "621c66e2-2fc2-4b37-85ce-10a9ee0c3b99.png": {
     "image/png": "[encoded data removed]"
    }
   },
   "cell_type": "markdown",
   "id": "c8e83dbc",
   "metadata": {
    "papermill": {
     "duration": 0.023167,
     "end_time": "2024-05-03T07:46:39.830834",
     "exception": false,
     "start_time": "2024-05-03T07:46:39.807667",
     "status": "completed"
    },
    "tags": []
   },
   "source": [
    "## 多头注意力模块\n",
    "\n",
    "Transformers是一种序列到序列的网络，它接收一个序列（例如英文句子）作为输入，输出一个序列（例如西班牙文句子）。输入序列首先被转换为嵌入向量，类似于我们在RNN部分讨论的内容，然后这些嵌入向量被传递到一个位置编码模块。接着，这些嵌入向量被转换为三个向量：查询（query）、键（key）和值（value），这个转换过程使用的是可学习的权重。然后我们使用一个Transformer编码器和解码器来得到最终的输出序列。\n",
    "\n",
    "![image.png](attachment:1363dc0d-1aa1-481a-af9e-2ceaf1041249.png)\n",
    "\n",
    "在这一部分，我们假设我们已经得到了查询、键和值向量(即我们需要处理的输入是如上图所示的$Q，K，V$)，并且我们将对它们进行处理。为了实现基本的多头注意力模块，我们首先将实现自注意力模块，然后从自注意力模块扩展到多头注意力模块。\n",
    "\n",
    "### 自注意力模块\n",
    "\n",
    "受到信息检索范式的启发，Transformers引入了查询、键和值(*query*、*key* 和*value*)的概念。在给定一个 *query* 的情况下，我们尝试从 *key*-*value* 对中提取信息。按照这些思路，我们通过对每个 *query* 计算 *key* 的加权和来数学上实现这一过程，其中权重由 *query* 和 *key* 的点积计算得到。更确切地说，对于每个 *query* ，我们计算其与所有 *key* 的点积，然后使用这些点积的标量输出作为权重，以找到 *values* 的加权和。请注意，在找到加权和之前，我们还会对权重向量应用 softmax 函数。我们将实现一个注意力模块，它接收查询、键和值向量作为输入，并返回一个张量，即值的加权和。\n",
    "\n",
    "<img src=\"attachment:621c66e2-2fc2-4b37-85ce-10a9ee0c3b99.png\" alt=\"image\" width=\"200\" height=\"100\">\n",
    "\n",
    "\n",
    "\n",
    "\n",
    "$$Attention(Q, K, V) = softmax(\\frac{QK^T}{\\sqrt{d_k}})V$$\n",
    "\n",
    "其中，$Q$、$K$ 和 $V$ 分别代表查询（Query）、键（Key）和值（Value）。这些都是通过对输入数据进行线性变换得到的。$d_k$ 是键向量的维度。\n",
    "\n",
    "这个公式的含义是：\n",
    "\n",
    "1. 计算查询和所有键的点积，得到一个得分。这个得分表示查询和每个键的匹配程度。\n",
    "\n",
    "2. 除以 $\\sqrt{d_k}$ 是进行scale操作。\n",
    "\n",
    "3. 通过 softmax 函数，将得分转换为概率分布。这个概率分布表示模型在每个位置的“注意力”。\n",
    "\n",
    "4. 最后，这个注意力分布和值向量相乘，得到最终的输出。这个输出是一个加权和，其中的权重就是注意力分布。\n",
    "\n",
    "\n",
    "\n",
    "\n",
    "在这一部分中，你需要实现`scaled_dot_product_no_loop_batch`函数，请**不要用任何loop语句**。\n",
    "\n",
    "可以参考使用:\n",
    "1. [torch.bmm](https://pytorch.org/docs/stable/generated/torch.bmm.html)\n",
    "2. [torch.softmax](https://pytorch.org/docs/stable/generated/torch.softmax.html)\n",
    "3. [转置](https://pytorch.org/docs/stable/generated/torch.transpose.html)"
   ]
  },
  {
   "cell_type": "markdown",
   "id": "6bac182d",
   "metadata": {
    "papermill": {
     "duration": 0.023712,
     "end_time": "2024-05-03T07:46:39.878534",
     "exception": false,
     "start_time": "2024-05-03T07:46:39.854822",
     "status": "completed"
    },
    "tags": []
   },
   "source": [
    "#### 代码填空1: 实现注意力计算（10分）"
   ]
  },
  {
   "cell_type": "code",
   "execution_count": 4,
   "id": "ecef6bb9",
   "metadata": {
    "execution": {
     "iopub.execute_input": "2024-05-03T07:46:39.927480Z",
     "iopub.status.busy": "2024-05-03T07:46:39.927165Z",
     "iopub.status.idle": "2024-05-03T07:46:39.934570Z",
     "shell.execute_reply": "2024-05-03T07:46:39.933819Z"
    },
    "papermill": {
     "duration": 0.034049,
     "end_time": "2024-05-03T07:46:39.936582",
     "exception": false,
     "start_time": "2024-05-03T07:46:39.902533",
     "status": "completed"
    },
    "tags": []
   },
   "outputs": [],
   "source": [
    "def scaled_dot_product_no_loop_batch(\n",
    "    query: Tensor, key: Tensor, value: Tensor, mask: Tensor = None\n",
    ") -> Tensor:\n",
    "    \"\"\"\n",
    "    该函数执行注意力机制的基本块，即缩放点积。我们将输入的 query、key 和 value 映射到输出。\n",
    "    它使用矩阵-矩阵乘法来找到缩放权重，然后使用矩阵-矩阵乘法来找到最终输出。\n",
    "\n",
    "    参数：\n",
    "        query：形状为 (N,K, M) 的张量，其中 N 是批次大小，K 是序列长度，M 是序列嵌入维度\n",
    "        key：形状为 (N, K, M) 的张量，其中 N 是批次大小，K 是序列长度，M 是序列嵌入维度\n",
    "        value：形状为 (N, K, M) 的张量，其中 N 是批次大小，K 是序列长度，M 是序列嵌入维度\n",
    "        mask：形状为 (N, K, K) 的布尔张量，用于掩盖计算加权和的权重\n",
    "\n",
    "    返回：\n",
    "        y：形状为 (N, K, M) 的张量，包含值的加权和\n",
    "        weights_softmax：形状为 (N, K, K) 的张量，包含 softmax 后的权重矩阵。\n",
    "\n",
    "    \"\"\"\n",
    "    _, _, M = query.shape\n",
    "    ###############################################################################\n",
    "    # TODO: 该函数执行自注意力操作， 请不要用任何loop实现。 \n",
    "    ###############################################################################\n",
    "    scores = torch.bmm(query,key.transpose(-1,-2)) / math.sqrt(M)# TODO: 计算query与key的点积，张量之间的乘法请参考(1)torch.bmm (2)张量的转置操作\n",
    "    if mask is not None: # 将掩码应用于权重矩阵，将 -1e9 赋值给掩码值为 True 的位置，否则保持不变\n",
    "        scores = scores.masked_fill(mask, -1e9)\n",
    "    weights = torch.softmax(scores, dim=-1)# TODO： 对权重应用softmax函数，请参考torch.softmax\n",
    "    y = torch.bmm(weights,value)# TODO: 作为权重的标量和value进行加权\n",
    "    return y, weights"
   ]
  },
  {
   "cell_type": "markdown",
   "id": "993a4800",
   "metadata": {
    "papermill": {
     "duration": 0.0254,
     "end_time": "2024-05-03T07:46:39.986616",
     "exception": false,
     "start_time": "2024-05-03T07:46:39.961216",
     "status": "completed"
    },
    "tags": []
   },
   "source": [
    "#### 测试代码1: 测试注意力代码"
   ]
  },
  {
   "cell_type": "code",
   "execution_count": 5,
   "id": "91133f1e",
   "metadata": {
    "execution": {
     "iopub.execute_input": "2024-05-03T07:46:40.039812Z",
     "iopub.status.busy": "2024-05-03T07:46:40.039429Z",
     "iopub.status.idle": "2024-05-03T07:46:40.119074Z",
     "shell.execute_reply": "2024-05-03T07:46:40.117988Z"
    },
    "id": "b13b2d96",
    "papermill": {
     "duration": 0.108217,
     "end_time": "2024-05-03T07:46:40.120995",
     "exception": false,
     "start_time": "2024-05-03T07:46:40.012778",
     "status": "completed"
    },
    "tags": []
   },
   "outputs": [
    {
     "name": "stdout",
     "output_type": "stream",
     "text": [
      "Shapes of y and y_expected are the same\n",
      "scaled_dot_product_no_loop_batch error:  4.020571992067902e-06\n",
      "The error is less than 1e-5. Done!\n"
     ]
    }
   ],
   "source": [
    "N = 2  # 句子数量\n",
    "K = 5  # 每个句子里的单词数\n",
    "M = 4  # 每个单词embedding的特征维度\n",
    "\n",
    "query = torch.linspace(-0.4, 0.6, steps=N * K * M).reshape(N, K, M)  # **to_double_cuda\n",
    "key = torch.linspace(-0.8, 0.5, steps=N * K * M).reshape(N, K, M)  # **to_double_cuda\n",
    "value = torch.linspace(-0.3, 0.8, steps=N * K * M).reshape(N, K, M)  # *to_double_cuda\n",
    "\n",
    "\n",
    "y, _ = scaled_dot_product_no_loop_batch(query, key, value)\n",
    "\n",
    "y_expected = torch.tensor(\n",
    "    [\n",
    "        [\n",
    "            [-0.09603, -0.06782, -0.03962, -0.01141],\n",
    "            [-0.08991, -0.06170, -0.03350, -0.00529],\n",
    "            [-0.08376, -0.05556, -0.02735, 0.00085],\n",
    "            [-0.07760, -0.04939, -0.02119, 0.00702],\n",
    "            [-0.07143, -0.04322, -0.01502, 0.01319],\n",
    "        ],\n",
    "        [\n",
    "            [0.49884, 0.52705, 0.55525, 0.58346],\n",
    "            [0.50499, 0.53319, 0.56140, 0.58960],\n",
    "            [0.51111, 0.53931, 0.56752, 0.59572],\n",
    "            [0.51718, 0.54539, 0.57359, 0.60180],\n",
    "            [0.52321, 0.55141, 0.57962, 0.60782],\n",
    "        ],\n",
    "    ]\n",
    ").to(torch.float32)\n",
    "\n",
    "if y.shape == y_expected.shape:\n",
    "    print(f'Shapes of y and y_expected are the same')\n",
    "else:\n",
    "    print('Check the output shape of your funtion')\n",
    "print(\"scaled_dot_product_no_loop_batch error: \", rel_error(y_expected, y))\n",
    "if rel_error(y_expected, y) > 1e-5:\n",
    "    print('There are some problems with your code, please check!')\n",
    "else:\n",
    "    print('The error is less than 1e-5. Done!')\n",
    "\n",
    "# Error应该小于1e-5"
   ]
  },
  {
   "cell_type": "markdown",
   "id": "e03d68fd",
   "metadata": {
    "id": "56e21e2d",
    "papermill": {
     "duration": 0.0229,
     "end_time": "2024-05-03T07:46:40.167266",
     "exception": false,
     "start_time": "2024-05-03T07:46:40.144366",
     "status": "completed"
    },
    "tags": []
   },
   "source": [
    "### 观察时间复杂度：\n",
    "\n",
    "Transformers 时间复杂度取决于输入序列的大小。\n",
    "现在我们已经实现了 `self_attention_no_loop`，我们可以验证这一点。\n",
    "运行下面的单元格：第一个具有长度为 256 的序列，第二个具有长度为 512 的序列。您应该会发现长度为 512 的情况大约慢 4 倍，从而显示出 Transformers 的复杂度随着序列长度的增加呈二次增长。\n",
    "`%timeit` 行可能需要几秒钟才能运行。"
   ]
  },
  {
   "cell_type": "code",
   "execution_count": 6,
   "id": "8b02518a",
   "metadata": {
    "execution": {
     "iopub.execute_input": "2024-05-03T07:46:40.215618Z",
     "iopub.status.busy": "2024-05-03T07:46:40.215318Z",
     "iopub.status.idle": "2024-05-03T07:46:42.864740Z",
     "shell.execute_reply": "2024-05-03T07:46:42.863631Z"
    },
    "id": "e7d58596",
    "papermill": {
     "duration": 2.676621,
     "end_time": "2024-05-03T07:46:42.867033",
     "exception": false,
     "start_time": "2024-05-03T07:46:40.190412",
     "status": "completed"
    },
    "tags": []
   },
   "outputs": [
    {
     "name": "stdout",
     "output_type": "stream",
     "text": [
      "244 ms ± 3.51 ms per loop (mean ± std. dev. of 2 runs, 5 loops each)\n"
     ]
    }
   ],
   "source": [
    "N = 64\n",
    "K = 256  \n",
    "M = emb_size = 2048\n",
    "dim_q = dim_k = 2048\n",
    "query = torch.linspace(-0.4, 0.6, steps=N * K * M).reshape(N, K, M)  # **to_double_cuda\n",
    "key = torch.linspace(-0.8, 0.5, steps=N * K * M).reshape(N, K, M)  # **to_double_cuda\n",
    "value = torch.linspace(-0.3, 0.8, steps=N * K * M).reshape(N, K, M)  # *to_double_cuda\n",
    "\n",
    "%timeit -n 5 -r 2  y = scaled_dot_product_no_loop_batch(query, key, value)"
   ]
  },
  {
   "cell_type": "code",
   "execution_count": 7,
   "id": "ee0948eb",
   "metadata": {
    "execution": {
     "iopub.execute_input": "2024-05-03T07:46:42.916380Z",
     "iopub.status.busy": "2024-05-03T07:46:42.916055Z",
     "iopub.status.idle": "2024-05-03T07:46:51.745132Z",
     "shell.execute_reply": "2024-05-03T07:46:51.744026Z"
    },
    "id": "a85adf69",
    "papermill": {
     "duration": 8.855519,
     "end_time": "2024-05-03T07:46:51.747255",
     "exception": false,
     "start_time": "2024-05-03T07:46:42.891736",
     "status": "completed"
    },
    "tags": []
   },
   "outputs": [
    {
     "name": "stdout",
     "output_type": "stream",
     "text": [
      "841 ms ± 42.1 ms per loop (mean ± std. dev. of 2 runs, 5 loops each)\n"
     ]
    }
   ],
   "source": [
    "N = 64\n",
    "K = 512  \n",
    "M = emb_size = 2048\n",
    "dim_q = dim_k = 2048\n",
    "query = torch.linspace(-0.4, 0.6, steps=N * K * M).reshape(N, K, M)  # **to_double_cuda\n",
    "key = torch.linspace(-0.8, 0.5, steps=N * K * M).reshape(N, K, M)  # **to_double_cuda\n",
    "value = torch.linspace(-0.3, 0.8, steps=N * K * M).reshape(N, K, M)  # *to_double_cuda\n",
    "\n",
    "%timeit -n 5 -r 2  y = scaled_dot_product_no_loop_batch(query, key, value)"
   ]
  },
  {
   "attachments": {
    "4585b0c1-1491-4e56-a76c-69977ad94fdf.png": {
     "image/png": "[encoded data removed]"
    }
   },
   "cell_type": "markdown",
   "id": "3531531e",
   "metadata": {
    "id": "9d6e92b0",
    "papermill": {
     "duration": 0.023664,
     "end_time": "2024-05-03T07:46:51.794926",
     "exception": false,
     "start_time": "2024-05-03T07:46:51.771262",
     "status": "completed"
    },
    "tags": []
   },
   "source": [
    "#### 代码填空2: 自注意力层的实现（5分）\n",
    "\n",
    "现在我们已经实现了 `scaled_dot_product_no_loop_batch`，让我们实现 `SingleHeadAttention`，它将作为 `MultiHeadAttention` 块的构建模块。对于这个练习，我们创建了一个 `SingleHeadAttention` 类，它继承自 PyTorch 的 `nn.module` 类。你需要 `forward` 函数。\n",
    "\n",
    "<img src=\"attachment:4585b0c1-1491-4e56-a76c-69977ad94fdf.png\" alt=\"image\" width=\"300\" height=\"200\">\n",
    "\n",
    "自注意力层中，我们初始化的三个linear层，即为上图所示的$W^q, W^k, W^v$权重。\n"
   ]
  },
  {
   "cell_type": "code",
   "execution_count": 8,
   "id": "ec2fadb2",
   "metadata": {
    "execution": {
     "iopub.execute_input": "2024-05-03T07:46:51.844186Z",
     "iopub.status.busy": "2024-05-03T07:46:51.843844Z",
     "iopub.status.idle": "2024-05-03T07:46:51.854709Z",
     "shell.execute_reply": "2024-05-03T07:46:51.853898Z"
    },
    "papermill": {
     "duration": 0.03829,
     "end_time": "2024-05-03T07:46:51.856582",
     "exception": false,
     "start_time": "2024-05-03T07:46:51.818292",
     "status": "completed"
    },
    "tags": []
   },
   "outputs": [],
   "source": [
    "class SelfAttention(nn.Module):\n",
    "    def __init__(self, dim_in: int, dim_q: int, dim_v: int):\n",
    "        super().__init__()\n",
    "\n",
    "        \"\"\"\n",
    "        该类封装了自注意力层的实现。我们使用 MLP 层映射输入的查询、键和值，\n",
    "        然后使用 scaled_dot_product_no_loop_batch 得到最终输出。\n",
    "\n",
    "        参数：\n",
    "            dim_in：输入序列嵌入维度的整数值\n",
    "            dim_q：查询和键向量输出维度的整数值\n",
    "            dim_v：值向量的输出维度的整数值\n",
    "\n",
    "        \"\"\"\n",
    "        ##########################################################################\n",
    "        # 初始化三个 nn.Linear 层，可以将输入维度为 dim_in 的输入转换为维度为 dim_q 的查询， #\n",
    "        # 维度为 dim_q 的键，和维度为 dim_v 的值。                #\n",
    "        ##########################################################################\n",
    "        # 初始化q, k, v， 由于qk要进行点积计算，其维度需要保持一致\n",
    "        self.q = nn.Linear(dim_in, dim_q)\n",
    "        self.k = nn.Linear(dim_in, dim_q)\n",
    "        self.v = nn.Linear(dim_in, dim_v)\n",
    "        self.weights_softmax = None\n",
    "        # 对于每个 Linear 层，使用以下策略初始化权重： #\n",
    "        # 如果一个 Linear 层具有输入维度 D_in 和输出维度 D_out，则将权重初始化为从 [-c, c]  #\n",
    "        # 范围内的均匀分布中抽取的值，其中 c = sqrt(6/(D_in + D_out))。   \n",
    "        self.q.weight.data.uniform_(-math.sqrt(6/(dim_in+dim_q)), math.sqrt(6/(dim_in+dim_q)))\n",
    "        self.k.weight.data.uniform_(-math.sqrt(6/(dim_in+dim_q)), math.sqrt(6/(dim_in+dim_q)))\n",
    "        self.v.weight.data.uniform_(-math.sqrt(6/(dim_in+dim_v)), math.sqrt(6/(dim_in+dim_v)))\n",
    "\n",
    "    def forward(\n",
    "        self, query: Tensor, key: Tensor, value: Tensor, mask: Tensor = None\n",
    "    ) -> Tensor:\n",
    "\n",
    "        \"\"\"\n",
    "        该函数执行自注意力层的前向传播。\n",
    "\n",
    "        参数：\n",
    "            query：形状为 (N, K, M) 的张量\n",
    "            key：形状为 (N, K, M) 的张量\n",
    "            value：形状为 (N, K, M) 的张量\n",
    "            mask：形状为 (N, K, K) 的张量\n",
    "        返回：\n",
    "            y：形状为 (N, K, dim_v) 的张量\n",
    "        \"\"\"\n",
    "        ##########################################################################\n",
    "        # TODO: 使用 init 函数中初始化的函数找到输出张量。确切地说，将输入 query、key 和 value #\n",
    "        # 传递给上面初始化的三个函数。然后，将这三个转换后的 query、key 和 value 张量传递给 #\n",
    "        # self_attention_no_loop_batch，以获得最终输出。只需将其作为 self_attention_no_loop_batch #\n",
    "        # 中的一个变量传递。将 self_attention_no_loop_batch 的输出权重矩阵值赋给变量 self.weights_softmax。#\n",
    "        ##########################################################################\n",
    "        # 应用self_attention_no_loop_batch\n",
    "        # y和self.weights_softmax为self_attention_no_loop_batch 应用后的输出\n",
    "        # TODO: 添加你的代码\n",
    "        Q = self.q(query)# TODO\n",
    "        K = self.k(key)# TODO\n",
    "        V = self.v(value)# TODO\n",
    "        y, self.weights_softmax = scaled_dot_product_no_loop_batch(Q,K,V)# TODO\n",
    "\n",
    "        return y\n"
   ]
  },
  {
   "cell_type": "markdown",
   "id": "aa2861c3",
   "metadata": {
    "papermill": {
     "duration": 0.023028,
     "end_time": "2024-05-03T07:46:51.903015",
     "exception": false,
     "start_time": "2024-05-03T07:46:51.879987",
     "status": "completed"
    },
    "tags": []
   },
   "source": [
    "#### 测试代码2: 自注意力层的实现\n"
   ]
  },
  {
   "cell_type": "code",
   "execution_count": 9,
   "id": "78f1d608",
   "metadata": {
    "execution": {
     "iopub.execute_input": "2024-05-03T07:46:51.990870Z",
     "iopub.status.busy": "2024-05-03T07:46:51.990510Z",
     "iopub.status.idle": "2024-05-03T07:46:52.092795Z",
     "shell.execute_reply": "2024-05-03T07:46:52.091789Z"
    },
    "papermill": {
     "duration": 0.168471,
     "end_time": "2024-05-03T07:46:52.095089",
     "exception": false,
     "start_time": "2024-05-03T07:46:51.926618",
     "status": "completed"
    },
    "tags": []
   },
   "outputs": [
    {
     "name": "stdout",
     "output_type": "stream",
     "text": [
      "SelfAttention error:  5.567700453666357e-07\n",
      "SelfAttention error:  2.5410489503651006e-06\n",
      "The error is less than 1e-5. Done!\n"
     ]
    }
   ],
   "source": [
    "reset_seed(0)\n",
    "N = 2\n",
    "K = 4\n",
    "M = emb_size = 4\n",
    "dim_q = dim_k = 4\n",
    "atten_single = SelfAttention(emb_size, dim_q, dim_k)\n",
    "\n",
    "for k, v in atten_single.named_parameters():\n",
    "    # print(k, v.shape) \n",
    "    v.data.copy_(torch.linspace(-1.4, 1.3, steps=v.numel()).reshape(*v.shape))\n",
    "\n",
    "query = torch.linspace(-0.4, 0.6, steps=N * K * M, requires_grad=True).reshape(\n",
    "    N, K, M\n",
    ")  \n",
    "key = torch.linspace(-0.8, 0.5, steps=N * K * M, requires_grad=True).reshape(\n",
    "    N, K, M\n",
    ")  \n",
    "value = torch.linspace(-0.3, 0.8, steps=N * K * M, requires_grad=True).reshape(\n",
    "    N, K, M\n",
    ")  \n",
    "\n",
    "query.retain_grad()\n",
    "key.retain_grad()\n",
    "value.retain_grad()\n",
    "\n",
    "y_expected = torch.tensor(\n",
    "    [\n",
    "        [\n",
    "            [-1.10382, -0.37219, 0.35944, 1.09108],\n",
    "            [-1.45792, -0.50067, 0.45658, 1.41384],\n",
    "            [-1.74349, -0.60428, 0.53493, 1.67414],\n",
    "            [-1.92584, -0.67044, 0.58495, 1.84035],\n",
    "        ],\n",
    "        [\n",
    "            [-4.59671, -1.63952, 1.31767, 4.27486],\n",
    "            [-4.65586, -1.66098, 1.33390, 4.32877],\n",
    "            [-4.69005, -1.67339, 1.34328, 4.35994],\n",
    "            [-4.71039, -1.68077, 1.34886, 4.37848],\n",
    "        ],\n",
    "    ]\n",
    ")\n",
    "\n",
    "dy_expected = torch.tensor(\n",
    "    [\n",
    "        [\n",
    "            [-0.09084, -0.08961, -0.08838, -0.08715],\n",
    "            [0.69305, 0.68366, 0.67426, 0.66487],\n",
    "            [-0.88989, -0.87783, -0.86576, -0.85370],\n",
    "            [0.25859, 0.25509, 0.25158, 0.24808],\n",
    "        ],\n",
    "        [\n",
    "            [-0.05360, -0.05287, -0.05214, -0.05142],\n",
    "            [0.11627, 0.11470, 0.11312, 0.11154],\n",
    "            [-0.01048, -0.01034, -0.01019, -0.01005],\n",
    "            [-0.03908, -0.03855, -0.03802, -0.03749],\n",
    "        ],\n",
    "    ]\n",
    ")\n",
    "\n",
    "y = atten_single(query, key, value)\n",
    "dy = torch.randn(*y.shape)  \n",
    "\n",
    "y.backward(dy)\n",
    "query_grad = query.grad\n",
    "\n",
    "print(\"SelfAttention error: \", rel_error(y_expected, y))\n",
    "print(\"SelfAttention error: \", rel_error(dy_expected, query_grad))\n",
    "if rel_error(y_expected, y) > 1e-5 and rel_error(dy_expected, query_grad) > 1e-5:\n",
    "    print('There are some problems with your code, please check!')\n",
    "else:\n",
    "    print('The error is less than 1e-5. Done!')"
   ]
  },
  {
   "attachments": {
    "6226c844-483a-4452-9e3c-1b7867a5be75.png": {
     "image/png": "[encoded data removed]"
    }
   },
   "cell_type": "markdown",
   "id": "ada394d6",
   "metadata": {
    "id": "f4b80b79",
    "papermill": {
     "duration": 0.023367,
     "end_time": "2024-05-03T07:46:52.144127",
     "exception": false,
     "start_time": "2024-05-03T07:46:52.120760",
     "status": "completed"
    },
    "tags": []
   },
   "source": [
    "#### 代码填空3: 多头注意力（10分）\n",
    "\n",
    "我们已经实现了 `SingleHeadAttention` 块，这让我们非常接近实现 `MultiHeadAttention`。现在我们将看到，通过根据 Multi-Attention 块中的头数来操作输入张量的形状，可以实现这一点。我们设计了一个网络，该网络在相同的输入上使用多个 SingleHeadAttention 块来计算输出张量，并最终将它们连接起来生成单个输出。这不是实际使用的实现方式，因为它强制你初始化多个层，但我们在这里出于简单起见，使用 `SingleHeadAttention` 块实现 `MultiHeadAttention` 块。\n",
    "\n",
    "<img src=\"attachment:6226c844-483a-4452-9e3c-1b7867a5be75.png\" alt=\"image\" width=\"300\" height=\"200\">\n",
    "\n",
    "\n",
    "\n",
    "可以参考：\n",
    "1. [nn.ModuleList](https://pytorch.org/docs/stable/generated/torch.nn.ModuleList.html)\n",
    "2. [nn.Linear](https://pytorch.org/docs/stable/generated/torch.nn.Linear.html)\n",
    "3. [torch.cat](https://pytorch.org/docs/stable/generated/torch.cat.html#torch-cat)"
   ]
  },
  {
   "cell_type": "code",
   "execution_count": 10,
   "id": "535eff1d",
   "metadata": {
    "execution": {
     "iopub.execute_input": "2024-05-03T07:46:52.192462Z",
     "iopub.status.busy": "2024-05-03T07:46:52.192172Z",
     "iopub.status.idle": "2024-05-03T07:46:52.203161Z",
     "shell.execute_reply": "2024-05-03T07:46:52.202347Z"
    },
    "id": "6da2558e",
    "papermill": {
     "duration": 0.037392,
     "end_time": "2024-05-03T07:46:52.205024",
     "exception": false,
     "start_time": "2024-05-03T07:46:52.167632",
     "status": "completed"
    },
    "tags": []
   },
   "outputs": [],
   "source": [
    "class MultiHeadAttention(nn.Module):\n",
    "    def __init__(self, num_heads: int, dim_in: int, dim_out: int):\n",
    "        super().__init__()\n",
    "\n",
    "        \"\"\"\n",
    "        \n",
    "        一个简单的 Transformer 模型中 MultiheadAttention 层的实现。\n",
    "        我们在相同的输入上并行使用多个 SelfAttention 层，然后将它们连接成单个张量。\n",
    "        然后通过 MLP 将该张量传递以生成最终输出。\n",
    "        输入形状将为 (N, K, M)，其中 N 是批量大小，K 是序列长度，M 是序列嵌入维度。\n",
    "        参数：\n",
    "            num_heads：指定头数的整数值\n",
    "            dim_in：指定查询、键和值的输入维度的整数值。这将是每个 SingleHeadAttention 块的输入维度\n",
    "            dim_out：指定完整 MultiHeadAttention 块的输出维度的整数值\n",
    "\n",
    "\n",
    "\n",
    "        注意：在这里，当我们说维度时，我们指的是嵌入的维度。\n",
    "              在 Transformers 中，输入是形状为 (N, K, M) 的张量，这里 N 是批量大小，K 是序列长度，\n",
    "              而 M 是输入嵌入的大小。由于序列长度(K)和批量数(N)通常不会改变，我们通常只转换\n",
    "              维度(M) 维度。\n",
    "        \"\"\"\n",
    "        ##########################################################################\n",
    "        # TODO: 在这里初始化两个东西：                                              #\n",
    "        # 1.) 使用 nn.ModuleList 初始化一系列 SingleHeadAttention 层模块。          #\n",
    "        #    这个列表的长度应该等于 num_heads，每个 SingleHeadAttention 层的输入维度为 dim_in， #\n",
    "        #    查询、键和值的维度均为 dim_out。                                       #\n",
    "        # 2.) 使用 nn.Linear 将 nn.Modulelist 块的输出映射回 dim_in。               #\n",
    "        ##########################################################################\n",
    "        self.heads = nn.ModuleList([SelfAttention(dim_in, dim_out, dim_out) for i in range(num_heads)])# TODO: self.heads = nn.ModuleList('add your code here')\n",
    "        self.linear = nn.Linear(num_heads*dim_out, dim_in)# TODO: nn.Linear\n",
    "        nn.init.uniform_(self.linear.weight, -torch.sqrt(torch.tensor(6. / (num_heads * dim_out + dim_in))), torch.sqrt(torch.tensor(6. / (num_heads * dim_out + dim_in))))# 权重初始化\n",
    "\n",
    "    def forward(\n",
    "        self, query: Tensor, key: Tensor, value: Tensor, mask: Tensor = None\n",
    "    ) -> Tensor:\n",
    "\n",
    "        \"\"\"\n",
    "        MultiHeadAttention 层的前向传播的实现。\n",
    "\n",
    "        参数：\n",
    "            query：形状为 (N, K, M) 的张量，其中 N 是批量中的序列数，\n",
    "                K 是序列长度，M 是输入嵌入维度。M 应与初始化函数中的 dim_in 相等\n",
    "\n",
    "            key：形状为 (N, K, M) 的张量，其中 N 是批量中的序列数，\n",
    "                K 是序列长度，M 是输入嵌入维度。M 应与初始化函数中的 dim_in 相等\n",
    "\n",
    "            value：形状为 (N, K, M) 的张量，其中 N 是批量中的序列数，\n",
    "                K 是序列长度，M 是输入嵌入维度。M 应与初始化函数中的 dim_in 相等\n",
    "\n",
    "            mask：形状为 (N, K, M) 的张量，其中 N 是批量中的序列数，\n",
    "                K 是序列长度，M 是输入嵌入维度。M 应与初始化函数中的 dim_in 相等\n",
    "\n",
    "        返回：\n",
    "            y：形状为 (N, K, M) 的张量\n",
    "        \"\"\"\n",
    "        y = None\n",
    "        ##########################################################################\n",
    "        # TODO: 使用初始化函数中定义的变量，通过 MultiHeadAttention 块进行前向传播。\n",
    "        # nn.ModuleList 的行为类似一个列表，你可以使用 for 循环或列表解析来提取其中的不同元素。\n",
    "        # nn.ModuleList 中的每个元素都是一个 SingleHeadAttention，它将使用相同的查询、键、值和掩码张量，\n",
    "        # 并且你将得到一个张量列表作为输出。将这个张量列表连接起来，然后通过\n",
    "        # nn.Linear 映射函数进行处理。                                        #\n",
    "        ##########################################################################\n",
    "        outputs = []\n",
    "        for head in self.heads:\n",
    "            output_head = head(query,key,value,mask)# TODO\n",
    "            outputs.append(output_head)\n",
    "        concat = torch.cat(outputs, dim=2) # torch.cat\n",
    "        y = self.linear(concat)# TODO\n",
    "        return y\n"
   ]
  },
  {
   "cell_type": "markdown",
   "id": "ba5ce233",
   "metadata": {
    "papermill": {
     "duration": 0.023708,
     "end_time": "2024-05-03T07:46:52.252223",
     "exception": false,
     "start_time": "2024-05-03T07:46:52.228515",
     "status": "completed"
    },
    "tags": []
   },
   "source": [
    "#### 测试代码3: 多头注意力"
   ]
  },
  {
   "cell_type": "code",
   "execution_count": 11,
   "id": "fcba5520",
   "metadata": {
    "execution": {
     "iopub.execute_input": "2024-05-03T07:46:52.301603Z",
     "iopub.status.busy": "2024-05-03T07:46:52.301316Z",
     "iopub.status.idle": "2024-05-03T07:46:52.329833Z",
     "shell.execute_reply": "2024-05-03T07:46:52.328819Z"
    },
    "id": "87bf04ff",
    "papermill": {
     "duration": 0.055369,
     "end_time": "2024-05-03T07:46:52.331730",
     "exception": false,
     "start_time": "2024-05-03T07:46:52.276361",
     "status": "completed"
    },
    "tags": []
   },
   "outputs": [
    {
     "name": "stdout",
     "output_type": "stream",
     "text": [
      "MultiHeadAttention error:  6.577880512731245e-07\n",
      "MultiHeadAttention error:  1.0631412556891023e-06\n",
      "The error is less than 1e-5. Done!\n"
     ]
    }
   ],
   "source": [
    "reset_seed(0)\n",
    "N = 2\n",
    "num_heads = 2\n",
    "K = 4\n",
    "M = inp_emb_size = 4\n",
    "out_emb_size = 8\n",
    "atten_multihead = MultiHeadAttention(num_heads, inp_emb_size, out_emb_size)\n",
    "\n",
    "for k, v in atten_multihead.named_parameters():\n",
    "#     print(f'key of parameter:{k}, shape of its value:{v.shape}') \n",
    "    v.data.copy_(torch.linspace(-1.4, 1.3, steps=v.numel()).reshape(*v.shape))\n",
    "\n",
    "query = torch.linspace(-0.4, 0.6, steps=N * K * M, requires_grad=True).reshape(\n",
    "    N, K, M\n",
    ")  \n",
    "key = torch.linspace(-0.8, 0.5, steps=N * K * M, requires_grad=True).reshape(\n",
    "    N, K, M\n",
    ")  \n",
    "value = torch.linspace(-0.3, 0.8, steps=N * K * M, requires_grad=True).reshape(\n",
    "    N, K, M\n",
    ")  \n",
    "\n",
    "query.retain_grad()\n",
    "key.retain_grad()\n",
    "value.retain_grad()\n",
    "\n",
    "y_expected = torch.tensor(\n",
    "    [\n",
    "        [\n",
    "            [-0.23104, 0.50132, 1.23367, 1.96603],\n",
    "            [0.68324, 1.17869, 1.67413, 2.16958],\n",
    "            [1.40236, 1.71147, 2.02058, 2.32969],\n",
    "            [1.77330, 1.98629, 2.19928, 2.41227],\n",
    "        ],\n",
    "        [\n",
    "            [6.74946, 5.67302, 4.59659, 3.52015],\n",
    "            [6.82813, 5.73131, 4.63449, 3.53767],\n",
    "            [6.86686, 5.76001, 4.65315, 3.54630],\n",
    "            [6.88665, 5.77466, 4.66268, 3.55070],\n",
    "        ],\n",
    "    ]\n",
    ")\n",
    "dy_expected = torch.tensor(\n",
    "    [[[ 0.56268,  0.55889,  0.55510,  0.55131],\n",
    "         [ 0.43286,  0.42994,  0.42702,  0.42411],\n",
    "         [ 2.29865,  2.28316,  2.26767,  2.25218],\n",
    "         [ 0.49172,  0.48841,  0.48509,  0.48178]],\n",
    "\n",
    "        [[ 0.25083,  0.24914,  0.24745,  0.24576],\n",
    "         [ 0.14949,  0.14849,  0.14748,  0.14647],\n",
    "         [-0.03105, -0.03084, -0.03063, -0.03043],\n",
    "         [-0.02082, -0.02068, -0.02054, -0.02040]]]\n",
    ")\n",
    "\n",
    "y = atten_multihead(query, key, value)\n",
    "dy = torch.randn(*y.shape)  \n",
    "\n",
    "y.backward(dy)\n",
    "query_grad = query.grad\n",
    "print(\"MultiHeadAttention error: \", rel_error(y_expected, y)) # error < 1e-5\n",
    "print(\"MultiHeadAttention error: \", rel_error(dy_expected, query_grad)) # error < 1e-5\n",
    "if rel_error(y_expected, y)> 1e-5 and rel_error(dy_expected, query_grad) > 1e-5:\n",
    "    print('There are some problems with your code, please check!')\n",
    "else:\n",
    "    print('The error is less than 1e-5. Done!')"
   ]
  },
  {
   "cell_type": "markdown",
   "id": "280b08c0",
   "metadata": {
    "id": "9be6374e-a968-4b56-a1e4-31d745330b62",
    "papermill": {
     "duration": 0.024831,
     "end_time": "2024-05-03T07:46:52.381436",
     "exception": false,
     "start_time": "2024-05-03T07:46:52.356605",
     "status": "completed"
    },
    "tags": []
   },
   "source": [
    "## LayerNormalization"
   ]
  },
  {
   "cell_type": "markdown",
   "id": "0997f9cb",
   "metadata": {
    "id": "524ff12e",
    "papermill": {
     "duration": 0.024703,
     "end_time": "2024-05-03T07:46:52.430734",
     "exception": false,
     "start_time": "2024-05-03T07:46:52.406031",
     "status": "completed"
    },
    "tags": []
   },
   "source": [
    "我们在处理 CNN 时实现了 BatchNorm。BatchNorm 的一个问题是它依赖于完整的批次，当批次大小较小时可能会导致结果不佳。Ba 等人提出了 `LayerNormalization`，它考虑了这些问题，在序列到序列任务中已成为标准。在本节中，我们将实现 `LayerNormalization`。`LayerNormalization` 的另一个好处是，它依赖于序列的各个时间步骤或每个元素，因此可以并行化，并且测试时间的运行方式类似，因此在实现上更好。同样，您只需实现前向传播，而反向传播将由 Pytorch 自动求导来处理。在 `transformers.py` 中实现 `LayerNormalization` 类。可参考[LayerNorm](https://arxiv.org/abs/1607.06450)原理。\n",
    "\n",
    "\n",
    "可参考：\n",
    "1. [torch.mean](https://pytorch.org/docs/stable/generated/torch.mean.html#torch-mean)\n",
    "2. [torch.sqrt](https://pytorch.org/docs/stable/generated/torch.sqrt.html#torch-sqrt)"
   ]
  },
  {
   "cell_type": "markdown",
   "id": "81be6a46",
   "metadata": {
    "papermill": {
     "duration": 0.023979,
     "end_time": "2024-05-03T07:46:52.479339",
     "exception": false,
     "start_time": "2024-05-03T07:46:52.455360",
     "status": "completed"
    },
    "tags": []
   },
   "source": [
    "#### 代码填空4: 层归一化（10分）"
   ]
  },
  {
   "cell_type": "code",
   "execution_count": 12,
   "id": "e3452a7b",
   "metadata": {
    "execution": {
     "iopub.execute_input": "2024-05-03T07:46:52.529289Z",
     "iopub.status.busy": "2024-05-03T07:46:52.528603Z",
     "iopub.status.idle": "2024-05-03T07:46:52.537404Z",
     "shell.execute_reply": "2024-05-03T07:46:52.536459Z"
    },
    "id": "cdbc1bf9",
    "papermill": {
     "duration": 0.035938,
     "end_time": "2024-05-03T07:46:52.539480",
     "exception": false,
     "start_time": "2024-05-03T07:46:52.503542",
     "status": "completed"
    },
    "tags": []
   },
   "outputs": [],
   "source": [
    "class LayerNormalization(nn.Module):\n",
    "    def __init__(self, emb_dim: int, epsilon: float = 1e-10):\n",
    "        super().__init__()\n",
    "        \"\"\"\n",
    "        该类实现了 Transformers 中线性层的层归一化。与 BatchNorm 不同，它估计每个批次中的每个元素的归一化统计量，因此不依赖于完整的批次。\n",
    "        输入形状类似 (N, K, M)，其中 N 是批次大小，K 是序列长度，M 是序列长度的嵌入。我们使用形状为 (N, K) 的均值和形状为 (N, K) 的标准差来归一化每个序列。\n",
    "\n",
    "        参数:\n",
    "            emb_dim: 表示嵌入维度的整数\n",
    "            epsilon: 浮点数值\n",
    "\n",
    "        \"\"\"\n",
    "        self.epsilon = epsilon\n",
    "        self.gamma = nn.Parameter(torch.ones(emb_dim))\n",
    "        self.beta = nn.Parameter(torch.zeros(emb_dim))\n",
    "\n",
    "    def forward(self, x: Tensor):\n",
    "        \"\"\"\n",
    "        层归一化层的前向传播的实现。\n",
    "\n",
    "        参数:\n",
    "            x: 形状为 (N, K, M) 或 (N, K) 的张量，其中 N 是批次大小，K 是序列长度，M 是嵌入维度\n",
    "\n",
    "        返回:\n",
    "            y: 在应用层归一化后的形状为 (N, K, M) 或 (N, K) 的张量\n",
    "\n",
    "        \"\"\"\n",
    "        ##########################################################################\n",
    "        # TODO: 实现层归一化层的前向传播。                                      #\n",
    "        # 计算输入的均值和标准差，并使用它们对输入进行归一化。                       #\n",
    "        # 进一步，使用 self.gamma 和 self.beta 来缩放和偏移这个归一化的输入。         #\n",
    "        # 不要使用 torch.std 来计算标准差。                                      #\n",
    "        ##########################################################################\n",
    "        mean = torch.mean(x,-1,keepdim=True)# TODO:计算输入的均值，在最后1个维度上计算的， 可参考torch.mean，注意keepdim的用法\n",
    "        var = torch.mean((x - mean) ** 2, dim=-1, keepdim=True)# TODO：计算方差，在最后一个维度上计算,注意keepdim的用法\n",
    "        std = torch.sqrt(var+self.epsilon)# TODO: 计算标准差\n",
    "        y = (x - mean) / std # 进行归一化\n",
    "        return self.gamma * y + self.beta # 使用self.gamma和self.beta来缩放和偏移归一化的输入"
   ]
  },
  {
   "cell_type": "markdown",
   "id": "a7b56722",
   "metadata": {
    "papermill": {
     "duration": 0.024658,
     "end_time": "2024-05-03T07:46:52.588068",
     "exception": false,
     "start_time": "2024-05-03T07:46:52.563410",
     "status": "completed"
    },
    "tags": []
   },
   "source": [
    "#### 测试代码4: 层归一化"
   ]
  },
  {
   "cell_type": "code",
   "execution_count": 13,
   "id": "b44d4bdd",
   "metadata": {
    "execution": {
     "iopub.execute_input": "2024-05-03T07:46:52.637343Z",
     "iopub.status.busy": "2024-05-03T07:46:52.637039Z",
     "iopub.status.idle": "2024-05-03T07:46:52.655122Z",
     "shell.execute_reply": "2024-05-03T07:46:52.654086Z"
    },
    "id": "cdf95ed8",
    "papermill": {
     "duration": 0.044776,
     "end_time": "2024-05-03T07:46:52.657098",
     "exception": false,
     "start_time": "2024-05-03T07:46:52.612322",
     "status": "completed"
    },
    "tags": []
   },
   "outputs": [
    {
     "name": "stdout",
     "output_type": "stream",
     "text": [
      "LayerNormalization error:  1.3772273765080196e-06\n",
      "LayerNormalization grad error:  2.2087854796632033e-07\n",
      "The error is less than 1e-5. Done!\n"
     ]
    }
   ],
   "source": [
    "reset_seed(0)\n",
    "N = 2\n",
    "K = 4\n",
    "norm = LayerNormalization(K)\n",
    "inp = torch.linspace(-0.4, 0.6, steps=N * K, requires_grad=True).reshape(N, K)\n",
    "\n",
    "inp.retain_grad()\n",
    "y = norm(inp)\n",
    "\n",
    "y_expected = torch.tensor(\n",
    "    [[-1.34164, -0.44721, 0.44721, 1.34164], [-1.34164, -0.44721, 0.44721, 1.34164]]\n",
    ")\n",
    "\n",
    "dy_expected = torch.tensor(\n",
    "    [[  5.70524,  -2.77289, -11.56993,   8.63758],\n",
    "        [  2.26242,  -4.44330,   2.09933,   0.08154]]\n",
    ")\n",
    "\n",
    "dy = torch.randn(*y.shape)\n",
    "y.backward(dy)\n",
    "inp_grad = inp.grad\n",
    "\n",
    "print(\"LayerNormalization error: \", rel_error(y_expected, y)) # error < 1e-5\n",
    "print(\"LayerNormalization grad error: \", rel_error(dy_expected, inp_grad)) # error < 1e-5\n",
    "if rel_error(y_expected, y)> 1e-5 and rel_error(dy_expected, inp_grad) > 1e-5:\n",
    "    print('There are some problems with your code, please check!')\n",
    "else:\n",
    "    print('The error is less than 1e-5. Done!')"
   ]
  },
  {
   "cell_type": "markdown",
   "id": "e09ea36b",
   "metadata": {
    "id": "5e86954f-f7df-4d7f-ab6c-2fe1dcb1f5b0",
    "papermill": {
     "duration": 0.024305,
     "end_time": "2024-05-03T07:46:52.705748",
     "exception": false,
     "start_time": "2024-05-03T07:46:52.681443",
     "status": "completed"
    },
    "tags": []
   },
   "source": [
    "## FeedForward Block"
   ]
  },
  {
   "cell_type": "markdown",
   "id": "fbf05f1c",
   "metadata": {
    "id": "5d49a145",
    "papermill": {
     "duration": 0.02377,
     "end_time": "2024-05-03T07:46:52.753579",
     "exception": false,
     "start_time": "2024-05-03T07:46:52.729809",
     "status": "completed"
    },
    "tags": []
   },
   "source": [
    "接下来，我们将实现 `Feedforward` 块。这些在 Transformer 的编码器和解码器网络中都会使用，它们由堆叠的 MLP 和 ReLU 层组成。在总体架构中，`MultiHeadAttention` 的输出被输入到 `FeedForward` 块中。在 `transformers.py` 中实现 `FeedForwardBlock`，并执行以下单元格以检查你的实现。可参考：[nn.ReLU](https://pytorch.org/docs/stable/generated/torch.nn.ReLU.html)\n",
    "\n",
    "\n"
   ]
  },
  {
   "cell_type": "code",
   "execution_count": 14,
   "id": "f071ccd7",
   "metadata": {
    "execution": {
     "iopub.execute_input": "2024-05-03T07:46:52.803413Z",
     "iopub.status.busy": "2024-05-03T07:46:52.803087Z",
     "iopub.status.idle": "2024-05-03T07:46:52.812097Z",
     "shell.execute_reply": "2024-05-03T07:46:52.811259Z"
    },
    "papermill": {
     "duration": 0.036195,
     "end_time": "2024-05-03T07:46:52.813971",
     "exception": false,
     "start_time": "2024-05-03T07:46:52.777776",
     "status": "completed"
    },
    "tags": []
   },
   "outputs": [],
   "source": [
    "class FeedForwardBlock(nn.Module):\n",
    "    def __init__(self, inp_dim: int, hidden_dim_feedforward: int):\n",
    "        super().__init__()\n",
    "        \"\"\"\n",
    "        Transformers 中 FeedForward 块的实现。我们通过两个堆叠的 MLP 和一个 ReLU 层传递输入。\n",
    "        前向传播具有以下架构:\n",
    "        \n",
    "        线性层 - ReLU - 线性层\n",
    "        \n",
    "        输入的形状将是 (N, K, M)，其中 N 是批量大小，K 是序列长度，M 是嵌入维度。\n",
    "        \n",
    "        参数:\n",
    "            inp_dim: 输入张量的嵌入维度的整数表示\n",
    "                     \n",
    "            hidden_dim_feedforward: feedforward 块的隐藏维度\n",
    "        \"\"\"\n",
    "        ##########################################################################\n",
    "        # 在这里初始化两个 MLP，第一个使用 inp_dim 作为输入维度，hidden_dim_feedforward 作为输出，\n",
    "        # 第二个使用 hidden_dim_feedforward 作为输入。使用 inp_dim 作为输出维度         \n",
    "        ##########################################################################\n",
    "        \n",
    "        self.linear1 = nn.Linear(inp_dim, hidden_dim_feedforward)\n",
    "        self.linear2 = nn.Linear(hidden_dim_feedforward, inp_dim)\n",
    "        self.relu = nn.ReLU()\n",
    "\n",
    "        nn.init.uniform_(self.linear1.weight, -torch.sqrt(torch.tensor(6. / (inp_dim + hidden_dim_feedforward))), torch.sqrt(torch.tensor(6. / (inp_dim + hidden_dim_feedforward))))\n",
    "        nn.init.uniform_(self.linear2.weight, -torch.sqrt(torch.tensor(6. / (hidden_dim_feedforward + inp_dim))), torch.sqrt(torch.tensor(6. / (hidden_dim_feedforward + inp_dim))))\n",
    "\n",
    "    def forward(self, x):\n",
    "        \"\"\"\n",
    "        FeedForward 块的前向传播的实现。\n",
    "\n",
    "        参数:\n",
    "            x: 形状为 (N, K, M) 的张量，是 MultiHeadAttention 的输出\n",
    "        返回:\n",
    "            y: 形状为 (N, K, M) 的张量\n",
    "            \n",
    "        两个 MLP 层执行前向传播。在第一个 MLP 后使用 ReLU 层，\n",
    "        在第二个 MLP 后不使用激活函数。\n",
    "        结构： linear1 -> relu -> linear2\n",
    "        \"\"\"\n",
    "        y = self.linear1(x)\n",
    "        y = self.relu(y)\n",
    "        y = self.linear2(y)\n",
    "\n",
    "        return y\n"
   ]
  },
  {
   "cell_type": "markdown",
   "id": "db2ee5a9",
   "metadata": {
    "id": "09489f50",
    "papermill": {
     "duration": 0.025804,
     "end_time": "2024-05-03T07:46:52.863970",
     "exception": false,
     "start_time": "2024-05-03T07:46:52.838166",
     "status": "completed"
    },
    "tags": []
   },
   "source": [
    "## Encoder 模块\n",
    "现在，如果你回顾一下原始论文《Attention is all you Need》，那么我们几乎完成了 Transformer 的构建模块。剩下的是：\n",
    "\n",
    "- 将构建模块封装成编码器块\n",
    "- 将构建模块封装成解码器块\n",
    "- 处理输入数据的预处理和位置编码。\n",
    "\n",
    "\n",
    "我们首先来实现编码器块和解码器块。位置编码是一个非可学习的嵌入，我们可以将其视为 DataLoader 中的预处理步骤。"
   ]
  },
  {
   "cell_type": "markdown",
   "id": "e55b8973",
   "metadata": {
    "id": "c1364689-db62-44f4-85ca-ed005a357f54",
    "papermill": {
     "duration": 0.024095,
     "end_time": "2024-05-03T07:46:52.913527",
     "exception": false,
     "start_time": "2024-05-03T07:46:52.889432",
     "status": "completed"
    },
    "tags": []
   },
   "source": [
    "编码器块的输入是三个张量。我们假设我们有这三个张量，查询（query）、键（key）和值（value）。运行下面的单元格来检查你的 EncoderBlock 实现。你应该期望错误在 1e-5 以下。"
   ]
  },
  {
   "cell_type": "markdown",
   "id": "15955c9b",
   "metadata": {
    "papermill": {
     "duration": 0.023855,
     "end_time": "2024-05-03T07:46:52.961695",
     "exception": false,
     "start_time": "2024-05-03T07:46:52.937840",
     "status": "completed"
    },
    "tags": []
   },
   "source": [
    "#### 代码填空5: Encoder模块（10分）"
   ]
  },
  {
   "cell_type": "code",
   "execution_count": 15,
   "id": "9a392098",
   "metadata": {
    "execution": {
     "iopub.execute_input": "2024-05-03T07:46:53.012876Z",
     "iopub.status.busy": "2024-05-03T07:46:53.012469Z",
     "iopub.status.idle": "2024-05-03T07:46:53.024538Z",
     "shell.execute_reply": "2024-05-03T07:46:53.023707Z"
    },
    "id": "b9fa5fea",
    "papermill": {
     "duration": 0.040507,
     "end_time": "2024-05-03T07:46:53.026543",
     "exception": false,
     "start_time": "2024-05-03T07:46:52.986036",
     "status": "completed"
    },
    "tags": []
   },
   "outputs": [],
   "source": [
    "class EncoderBlock(nn.Module):\n",
    "    def __init__(\n",
    "        self, num_heads: int, emb_dim: int, feedforward_dim: int, dropout: float\n",
    "    ):\n",
    "        super().__init__()\n",
    "        \"\"\"\n",
    "        这个类实现了 Transformer 模型的编码器块。原始论文中使用了 6 个这样的块串行地训练了最终模型。\n",
    "        在这里，我们首先使用已经实现的构建块初始化所需的层，然后最终编写前向传播过程，其中包括残差连接和 dropout。\n",
    "\n",
    "        如论文中的图1所示，注意力就是你所需要的，\n",
    "        编码器由四个组件组成:\n",
    "\n",
    "        1. MultiHead Attention\n",
    "        2. FeedForward 层\n",
    "        3. 多头注意力和前馈层之后的残差连接\n",
    "        4. LayerNorm\n",
    "\n",
    "        架构如下:\n",
    "\n",
    "       输入 - 多头注意力 - 输出1 - 层规范化(输出1 + 输入) - dropout - 输出2 \\ \n",
    "        - 前馈 - 输出3 - 层规范化(输出3 + 输出2) - dropout - 输出\n",
    "\n",
    "        这里，输入是多头注意力的输入，形状为 (N, K, M)，输出1、输出2 和输出3 是相应层的输出，\n",
    "        我们将这些输出添加到它们各自的输入中以实现残差连接。\n",
    "\n",
    "        参数:\n",
    "            num_heads: int 值，指定编码器中 MultiHeadAttention 块的头数\n",
    "            emb_dim: int 值，指定输入序列的嵌入维度\n",
    "            feedforward_dim: int 值，指定 Transformer 的 FeedForward 层中的隐藏单元数\n",
    "            dropout: float 值，指定 dropout 值\n",
    "        \"\"\"\n",
    "\n",
    "        if emb_dim % num_heads != 0:\n",
    "            raise ValueError(\n",
    "                f\"\"\"嵌入维度 emb_dim = {emb_dim} 不能被\n",
    "                             num_heads = {num_heads} 整除。请选择一个\n",
    "                             合适的值。\"\"\"\n",
    "            )\n",
    "\n",
    "        ##########################################################################\n",
    "        # 初始化以下层:                                                    #\n",
    "        # 1. 一个 MultiHead Attention 块，使用 num_heads 作为头数和             #\n",
    "        #    emb_dim 作为输入维度。您还应该能够计算 MultiheadHead 注意力的输出  #\n",
    "        #    维度，给定 num_heads 和 emb_dim。                                    #\n",
    "        #    提示: 使用的逻辑是在 MultiHead Attention 块内连接每个               #\n",
    "        #    SingleHeadAttention 的输出，并选择输出维度，使得连接后的张量和    #\n",
    "        #    输入张量具有相同的嵌入维度。                                       #\n",
    "        #                                                                        #\n",
    "        # 2. 两个输入维度等于 emb_dim 的 LayerNorm 层                          #\n",
    "        # 3. 一个以 emb_dim 为输入，feedforward_dim 为隐藏单元的 FeedForward 块  #\n",
    "        # 4. 一个具有给定 dropout 参数的 Dropout 层                             #\n",
    "        ##########################################################################\n",
    "        self.multihead_attention = MultiHeadAttention(num_heads, emb_dim, int(emb_dim // num_heads))\n",
    "        self.layer_norm1 = LayerNormalization(emb_dim)\n",
    "        self.dropout1 = nn.Dropout(dropout)\n",
    "\n",
    "        self.feedforward = FeedForwardBlock(emb_dim, feedforward_dim)\n",
    "        self.layer_norm2 = LayerNormalization(emb_dim)\n",
    "        self.dropout2 = nn.Dropout(dropout)\n",
    "\n",
    "    def forward(self, x):\n",
    "\n",
    "        \"\"\"\n",
    "        Transformer 模型的 EncoderBlock 的前向传播的实现。\n",
    "        参数:\n",
    "            x: 形状为 (N, K, M) 的张量，作为输入序列\n",
    "        返回:\n",
    "            y: 形状为 (N, K, M) 的张量，作为前向传播的输出\n",
    "         \n",
    "       架构如下:\n",
    "\n",
    "       输入 - 多头注意力 - 输出1 - 层规范化(输出1 + 输入) - dropout - 输出2 \\ \n",
    "        - 前馈 - 输出3 - 层规范化(输出3 + 输出2) - dropout - 输出\n",
    "\n",
    "        \"\"\"\n",
    "        y = None\n",
    "        ##########################################################################\n",
    "        # TODO: 使用在 init 函数中初始化的层完成前向传播。由于 Multihead Attention #\n",
    "        # 需要3个输入，因此将同一个输入x用三次作为输入。\n",
    "        ##########################################################################\n",
    "        out1 = self.multihead_attention(x,x,x)# TODO\n",
    "        out2 = self.dropout1(self.layer_norm1(out1+x))# TODO\n",
    "        out3 = self.feedforward(out2)# TODO\n",
    "        y = self.dropout1(self.layer_norm1(out2+out3))# TODO\n",
    "        return y\n"
   ]
  },
  {
   "cell_type": "markdown",
   "id": "8f1b14ad",
   "metadata": {
    "papermill": {
     "duration": 0.024601,
     "end_time": "2024-05-03T07:46:53.076026",
     "exception": false,
     "start_time": "2024-05-03T07:46:53.051425",
     "status": "completed"
    },
    "tags": []
   },
   "source": [
    "#### 测试代码5：Encoder"
   ]
  },
  {
   "cell_type": "code",
   "execution_count": 16,
   "id": "4e0dd444",
   "metadata": {
    "execution": {
     "iopub.execute_input": "2024-05-03T07:46:53.127973Z",
     "iopub.status.busy": "2024-05-03T07:46:53.127285Z",
     "iopub.status.idle": "2024-05-03T07:46:53.158238Z",
     "shell.execute_reply": "2024-05-03T07:46:53.157179Z"
    },
    "id": "76e8ccb0",
    "papermill": {
     "duration": 0.0594,
     "end_time": "2024-05-03T07:46:53.160300",
     "exception": false,
     "start_time": "2024-05-03T07:46:53.100900",
     "status": "completed"
    },
    "tags": []
   },
   "outputs": [
    {
     "name": "stdout",
     "output_type": "stream",
     "text": [
      "EncoderBlock error 1:  5.951869338703975e-07\n",
      "EncoderBlock error 2:  6.344433064213184e-07\n"
     ]
    }
   ],
   "source": [
    "reset_seed(0)\n",
    "N = 2\n",
    "num_heads = 2\n",
    "emb_dim = K = 4\n",
    "feedforward_dim = 8\n",
    "M = inp_emb_size = 4\n",
    "out_emb_size = 8\n",
    "dropout = 0.2\n",
    "\n",
    "enc_seq_inp = torch.linspace(-0.4, 0.6, steps=N * K * M, requires_grad=True).reshape(\n",
    "    N, K, M\n",
    ")\n",
    "\n",
    "enc_block = EncoderBlock(num_heads, emb_dim, feedforward_dim, dropout)\n",
    "\n",
    "\n",
    "for k, v in enc_block.named_parameters():\n",
    "#     print(k, v.shape) \n",
    "    v.data.copy_(torch.linspace(-1.4, 1.3, steps=v.numel()).reshape(*v.shape))\n",
    "\n",
    "encoder_out1_expected = torch.tensor(\n",
    "    [[[ 0.00000, -0.31357,  0.69126,  0.00000],\n",
    "         [ 0.42630, -0.25859,  0.72412,  3.87013],\n",
    "         [ 0.00000, -0.31357,  0.69126,  3.89884],\n",
    "         [ 0.47986, -0.30568,  0.69082,  3.90563]],\n",
    "\n",
    "        [[ 0.00000, -0.31641,  0.69000,  3.89921],\n",
    "         [ 0.47986, -0.30568,  0.69082,  3.90563],\n",
    "         [ 0.47986, -0.30568,  0.69082,  3.90563],\n",
    "         [ 0.51781, -0.30853,  0.71598,  3.85171]]]\n",
    ")\n",
    "encoder_out1 = enc_block(enc_seq_inp)\n",
    "print(\"EncoderBlock error 1: \", rel_error(encoder_out1, encoder_out1_expected))\n",
    "\n",
    "\n",
    "\n",
    "N = 2\n",
    "num_heads = 1\n",
    "emb_dim = K = 4\n",
    "feedforward_dim = 8\n",
    "M = inp_emb_size = 4\n",
    "out_emb_size = 8\n",
    "dropout = 0.2\n",
    "\n",
    "enc_seq_inp = torch.linspace(-0.4, 0.6, steps=N * K * M, requires_grad=True).reshape(\n",
    "    N, K, M\n",
    ")  \n",
    "\n",
    "enc_block = EncoderBlock(num_heads, emb_dim, feedforward_dim, dropout)\n",
    "\n",
    "for k, v in enc_block.named_parameters():\n",
    "    # print(k, v.shape) \n",
    "    v.data.copy_(torch.linspace(-1.4, 1.3, steps=v.numel()).reshape(*v.shape))\n",
    "\n",
    "encoder_out2_expected = torch.tensor(\n",
    "    [[[ 0.42630, -0.00000,  0.72412,  3.87013],\n",
    "         [ 0.49614, -0.31357,  0.00000,  3.89884],\n",
    "         [ 0.47986, -0.30568,  0.69082,  0.00000],\n",
    "         [ 0.51654, -0.32455,  0.69035,  3.89216]],\n",
    "\n",
    "        [[ 0.47986, -0.30568,  0.69082,  0.00000],\n",
    "         [ 0.49614, -0.31357,  0.69126,  3.89884],\n",
    "         [ 0.00000, -0.30354,  0.76272,  3.75311],\n",
    "         [ 0.49614, -0.31357,  0.69126,  3.89884]]]\n",
    ")\n",
    "encoder_out2 = enc_block(enc_seq_inp)\n",
    "print(\"EncoderBlock error 2: \", rel_error(encoder_out2, encoder_out2_expected))"
   ]
  },
  {
   "cell_type": "markdown",
   "id": "779d99c9",
   "metadata": {
    "id": "4b2616ef-5934-4a50-8f51-642ef635e2cb",
    "papermill": {
     "duration": 0.024813,
     "end_time": "2024-05-03T07:46:53.210768",
     "exception": false,
     "start_time": "2024-05-03T07:46:53.185955",
     "status": "completed"
    },
    "tags": []
   },
   "source": [
    "## Decoder Block"
   ]
  },
  {
   "cell_type": "markdown",
   "id": "5e515dbf",
   "metadata": {
    "id": "19e2d5d7-6918-4ea8-a369-0d53304ff1a7",
    "papermill": {
     "duration": 0.024186,
     "end_time": "2024-05-03T07:46:53.259566",
     "exception": false,
     "start_time": "2024-05-03T07:46:53.235380",
     "status": "completed"
    },
    "tags": []
   },
   "source": [
    "现在，我们将看一下解码器的实现。对于更复杂的任务，如序列到序列的任务，我们需要一个解码器网络，它可以将编码器的输出转换为目标序列。这种架构在诸如语言翻译之类的任务中非常重要，其中我们有一个序列作为输入和一个序列作为输出。这个解码器从编码器获取输入和先前生成的值来生成下一个值。在训练过程中，我们在输入上使用掩码，以便解码器网络不能预先查看未来，在推理过程中，我们顺序处理数据。\n",
    "\n",
    "在转到实现解码器块之前，我们应该注意\"Masked MultiHead Attention\"，实际上防止了解码器预测未来。让我们通过一个例子来理解这个。我们有一个表达式 `BOS POSITIVE 01 add POSITIVE 00 EOS`，即 `1+0`，它的输出是 `BOS POSITIVE 01 EOS`，即 `+1`。让我们关注输出序列。这是一个长度为5的序列（经过我们的预处理代码），将会转换成维度为$5\\times128$的 *key*、*query* 和 *value* 矩阵，其中128是Transformer的嵌入维度。现在，在训练过程中，我们将这些向量输入到 `self_attention_no_loop_batch` 中而不使用掩码。它将计算 *query* 和 *key* 之间的点积，生成一个 $5\\times5$ 的矩阵，其中第一行（形状为 $1\\times5$）告诉我们单词 `EOS` 与 `EOS`、`POSITIVE`、`0`、`1` 和 `EOS` 之间的相关程度。这意味着它将使用所有这些标记的权重来学习最终要预测的序列。当我们训练模型时，这是可以接受的，但当我们进行推理时会发生什么呢？我们从一个全新的表达式开始，将这个表达式输入编码器，但这次我们只有解码器的第一个起始标记 `EOS`，我们不知道序列中的其他标记。因此，解决这个问题的方法是在函数 `self_attention_no_loop_batch` 中为解码器部分掩码权重。这种掩码应该防止解码器访问未来或下一个元素。"
   ]
  },
  {
   "cell_type": "code",
   "execution_count": 17,
   "id": "e478c849",
   "metadata": {
    "execution": {
     "iopub.execute_input": "2024-05-03T07:46:53.311151Z",
     "iopub.status.busy": "2024-05-03T07:46:53.310417Z",
     "iopub.status.idle": "2024-05-03T07:46:53.316510Z",
     "shell.execute_reply": "2024-05-03T07:46:53.315637Z"
    },
    "papermill": {
     "duration": 0.033834,
     "end_time": "2024-05-03T07:46:53.318453",
     "exception": false,
     "start_time": "2024-05-03T07:46:53.284619",
     "status": "completed"
    },
    "tags": []
   },
   "outputs": [],
   "source": [
    "def get_subsequent_mask(seq):\n",
    "    \"\"\"\n",
    "    解码器自注意力掩码的实现。在训练模型时，这将用于屏蔽目标序列。这里的输入形状是 (N, K)，其中 N 是批量大小，K 是序列长度。\n",
    "\n",
    "    参数:\n",
    "        seq: 形状为 (N, K) 的张量，其中 N 是批量大小，K 是序列长度\n",
    "    返回:\n",
    "        mask: 形状为 (N, K, K) 的张量，其中 N 是批量大小，K 是序列长度\n",
    "\n",
    "    给定长度为 K 的序列，我们希望在函数 `self_attention_no_loop_batch` 中掩码权重，\n",
    "    以防止解码器预测未来。\n",
    "    \"\"\"\n",
    "    ###############################################################################\n",
    "    # 这个函数构造了 Transformer 解码器部分的掩码。                         #\n",
    "    # 要实现这一点，对于批量（N）中的每个序列（长度为 K），返回一个布尔矩阵，       #\n",
    "    # 在应用掩码的地方为 True，不应用掩码的地方为 False。                         #                                                                           #\n",
    "    ###############################################################################\n",
    "    N, K = seq.shape\n",
    "    ones_matrix = torch.ones((N, K, K), device=seq.device, dtype=torch.bool)\n",
    "    mask = torch.triu(ones_matrix, diagonal=1)\n",
    "\n",
    "    return mask\n"
   ]
  },
  {
   "cell_type": "code",
   "execution_count": 18,
   "id": "cc89cae2",
   "metadata": {
    "execution": {
     "iopub.execute_input": "2024-05-03T07:46:53.369537Z",
     "iopub.status.busy": "2024-05-03T07:46:53.369270Z",
     "iopub.status.idle": "2024-05-03T07:46:53.381360Z",
     "shell.execute_reply": "2024-05-03T07:46:53.380626Z"
    },
    "papermill": {
     "duration": 0.040337,
     "end_time": "2024-05-03T07:46:53.383291",
     "exception": false,
     "start_time": "2024-05-03T07:46:53.342954",
     "status": "completed"
    },
    "tags": []
   },
   "outputs": [],
   "source": [
    "class DecoderBlock(nn.Module):\n",
    "    def __init__(\n",
    "        self, num_heads: int, emb_dim: int, feedforward_dim: int, dropout: float\n",
    "    ):\n",
    "        super().__init__()\n",
    "        if emb_dim % num_heads != 0:\n",
    "            raise ValueError(\n",
    "                f\"\"\"The value emb_dim = {emb_dim} is not divisible\n",
    "                             by num_heads = {num_heads}. Please select an\n",
    "                             appropriate value.\"\"\"\n",
    "            )\n",
    "\n",
    "        \"\"\"\n",
    "        该函数实现了Transformer模型的解码器块。\n",
    "    \n",
    "        args:\n",
    "            num_heads: 表示头数的整数值\n",
    "\n",
    "            emb_dim: 表示嵌入维度的整数值\n",
    "\n",
    "            feedforward_dim: 表示前馈模型中的隐藏层的整数值\n",
    "\n",
    "            dropout: 表示丢弃概率的浮点数值\n",
    "        \"\"\"\n",
    "        ##########################################################################\n",
    "        # 初始化以下层:                                                   #\n",
    "        # 1. 两个具有 num_heads 个头数和 emb_dim 作为嵌入维度的MultiheadAttention 层。#\n",
    "        #     与编码器一样，你应该能够确定两个MultiHeadAttention的输出维度。            #\n",
    "        # 2. 一个FeedForward块，它将emb_dim作为输入维度，feedforward_dim作为隐藏层的维度 #\n",
    "        # 3. 在每个块之后添加LayerNormalization层                                      #\n",
    "        # 4. 在每个块之后添加丢弃层                                                    #\n",
    "        ##########################################################################\n",
    "\n",
    "        self.attention_self = MultiHeadAttention(num_heads, emb_dim, int(emb_dim/num_heads))\n",
    "        self.attention_cross = MultiHeadAttention(num_heads, emb_dim, int(emb_dim/num_heads))\n",
    "\n",
    "        self.feed_forward = FeedForwardBlock(emb_dim, feedforward_dim)\n",
    "\n",
    "        self.norm1 = LayerNormalization(emb_dim)\n",
    "        self.norm2 = LayerNormalization(emb_dim)\n",
    "        self.norm3 = LayerNormalization(emb_dim)\n",
    "\n",
    "        self.dropout = nn.Dropout(dropout)\n",
    "\n",
    "    def forward(\n",
    "        self, dec_inp: Tensor, enc_inp: Tensor, mask: Tensor = None\n",
    "    ) -> Tensor:\n",
    "\n",
    "        \"\"\"\n",
    "        args:\n",
    "            dec_inp: 形状为 (N, K, M) 的张量\n",
    "            enc_inp: 形状为 (N, K, M) 的张量\n",
    "            mask: 形状为 (N, K, K) 的张量\n",
    "\n",
    "        此函数将处理解码器块的前向传递。它将输入 enc_inp 作为编码器输出，\n",
    "        以及一个张量 dec_inp 作为目标序列，训练时目标序列将向后移动一个位置，\n",
    "        推理时为一个初始标记 \"BOS\"。\n",
    "        \"\"\"\n",
    "        ##########################################################################\n",
    "        # 使用init函数中初始化的层，实现解码器块的前向传递。将 dec_inp 传递给  #\n",
    "        # self.attention_self 层。这一层负责解码器输入的自我交互。                # \n",
    "        # 架构如下:\n",
    "        \n",
    "        # 输入 - 带有mask的多头注意力 - 输出1 - 层归一化(输入 + 输出1) - \\\n",
    "        # dp层 - (输出2和编码器输出) - 多头注意力 - 输出3 - \\\n",
    "        # 层归一化(输出3 + 输出2) - dp层 - 输出4 - 前馈网络 - 输出5 - \\\n",
    "        # 层归一化(输出5 + 输出4) - dp层 - 输出\n",
    "        \n",
    "        # 这里，输出1、输出2、输出3、输出4、输出5是各层对应的输出，编码器输出是编码器的输出，\n",
    "        # 我们将这些输出添加到它们各自的输入中以实现残差连接。\n",
    "        \n",
    "        ##########################################################################\n",
    "        out1 = self.attention_self(dec_inp, dec_inp, dec_inp, mask) # (N, K2, M)\n",
    "        out2 = self.norm1(out1 + dec_inp) # (N, K2, M)\n",
    "        out2 = self.dropout(out2) # (N, K2, M)\n",
    "        out3 = self.attention_cross(out2, enc_inp, enc_inp) # query: out2, key&values: enc_inp\n",
    "                                                            # out3: (N, K2, M)\n",
    "        out4 = self.norm2(out3 + out2) # (N, K2, M)\n",
    "        out4 = self.dropout(out4) # (N, K2, M)\n",
    "        out5 = self.feed_forward(out4) # (N, K2, M)\n",
    "        out = self.norm3(out5 + out4) # (N, K2, M)\n",
    "        y = self.dropout(out) # (N, K2, M)\n",
    "        return y\n"
   ]
  },
  {
   "cell_type": "markdown",
   "id": "4b4ea8fb",
   "metadata": {
    "papermill": {
     "duration": 0.025564,
     "end_time": "2024-05-03T07:46:53.435256",
     "exception": false,
     "start_time": "2024-05-03T07:46:53.409692",
     "status": "completed"
    },
    "tags": []
   },
   "source": [
    "## 构建Transformer结构"
   ]
  },
  {
   "cell_type": "markdown",
   "id": "dcd115a3",
   "metadata": {
    "papermill": {
     "duration": 0.024113,
     "end_time": "2024-05-03T07:46:53.484496",
     "exception": false,
     "start_time": "2024-05-03T07:46:53.460383",
     "status": "completed"
    },
    "tags": []
   },
   "source": [
    "Transformer的结构由N个encoder和decoder结构组成，以下代码将使用nn.ModuleList将N个编码器和解码器串联起来。"
   ]
  },
  {
   "cell_type": "code",
   "execution_count": 19,
   "id": "d42632b8",
   "metadata": {
    "execution": {
     "iopub.execute_input": "2024-05-03T07:46:53.534916Z",
     "iopub.status.busy": "2024-05-03T07:46:53.534624Z",
     "iopub.status.idle": "2024-05-03T07:46:53.545369Z",
     "shell.execute_reply": "2024-05-03T07:46:53.544585Z"
    },
    "papermill": {
     "duration": 0.038205,
     "end_time": "2024-05-03T07:46:53.547248",
     "exception": false,
     "start_time": "2024-05-03T07:46:53.509043",
     "status": "completed"
    },
    "tags": []
   },
   "outputs": [],
   "source": [
    "class Encoder(nn.Module):\n",
    "    def __init__(\n",
    "        self,\n",
    "        num_heads: int,\n",
    "        emb_dim: int,\n",
    "        feedforward_dim: int,\n",
    "        num_layers: int,\n",
    "        dropout: float,\n",
    "    ):\n",
    "        \"\"\"\n",
    "        该类封装了使用多个EncoderBlock层的最终编码器的实现。\n",
    "\n",
    "        args:\n",
    "            num_heads: 表示EncoderBlock中要使用的头数的整数值\n",
    "            emb_dim: 表示Transformer模型的嵌入维度的整数值\n",
    "            feedforward_dim: 表示前馈块的隐藏层维度的整数值\n",
    "\n",
    "        \"\"\"\n",
    "\n",
    "        super().__init__()\n",
    "        self.layers = nn.ModuleList(\n",
    "            [\n",
    "                EncoderBlock(num_heads, emb_dim, feedforward_dim, dropout)\n",
    "                for _ in range(num_layers)\n",
    "            ]\n",
    "        )\n",
    "\n",
    "    def forward(self, src_seq: Tensor):\n",
    "        for _layer in self.layers:\n",
    "            src_seq = _layer(src_seq)\n",
    "\n",
    "        return src_seq\n",
    "\n",
    "\n",
    "class Decoder(nn.Module):\n",
    "    def __init__(\n",
    "        self,\n",
    "        num_heads: int,\n",
    "        emb_dim: int,\n",
    "        feedforward_dim: int,\n",
    "        num_layers: int,\n",
    "        dropout: float,\n",
    "        vocab_len: int,\n",
    "    ):\n",
    "        super().__init__()\n",
    "        \"\"\"\n",
    "        解码器从编码器接收输入和目标序列，生成输出的最终序列。我们首先将输入通过堆叠的DecoderBlock，\n",
    "        然后将输出投影到vocab_len，这是获取实际序列所需的。\n",
    "\n",
    "        args:\n",
    "            num_heads: 表示Transformer中MultiheadAttention的头数的整数\n",
    "            emb_dim: 表示序列的嵌入维度的整数\n",
    "            feedforward_dim: 表示前馈块中隐藏层的维度的整数\n",
    "            num_layers: 表示解码器中DecoderBlock的数量的整数\n",
    "            dropout: 表示每个DecoderBlock中的丢弃率的浮点数\n",
    "            vocab_len: 词汇表的长度\n",
    "\n",
    "\n",
    "        \"\"\"\n",
    "\n",
    "        self.layers = nn.ModuleList(\n",
    "            [\n",
    "                DecoderBlock(num_heads, emb_dim, feedforward_dim, dropout)\n",
    "                for _ in range(num_layers)\n",
    "            ]\n",
    "        )\n",
    "        self.proj_to_vocab = nn.Linear(emb_dim, vocab_len)\n",
    "        a = (6 / (emb_dim + vocab_len)) ** 0.5\n",
    "        nn.init.uniform_(self.proj_to_vocab.weight, -a, a)\n",
    "\n",
    "    def forward(self, target_seq: Tensor, enc_out: Tensor, mask: Tensor):\n",
    "\n",
    "        out = target_seq.clone()\n",
    "        for _layer in self.layers:\n",
    "            out = _layer(out, enc_out, mask)\n",
    "        out = self.proj_to_vocab(out)\n",
    "        return out\n",
    "\n",
    "    \n"
   ]
  },
  {
   "cell_type": "code",
   "execution_count": 20,
   "id": "a3f66d7c",
   "metadata": {
    "execution": {
     "iopub.execute_input": "2024-05-03T07:46:53.598792Z",
     "iopub.status.busy": "2024-05-03T07:46:53.598551Z",
     "iopub.status.idle": "2024-05-03T07:46:53.608844Z",
     "shell.execute_reply": "2024-05-03T07:46:53.608033Z"
    },
    "papermill": {
     "duration": 0.038918,
     "end_time": "2024-05-03T07:46:53.610649",
     "exception": false,
     "start_time": "2024-05-03T07:46:53.571731",
     "status": "completed"
    },
    "tags": []
   },
   "outputs": [],
   "source": [
    "class Transformer(nn.Module):\n",
    "    def __init__(\n",
    "        self,\n",
    "        num_heads: int,\n",
    "        emb_dim: int,\n",
    "        feedforward_dim: int,\n",
    "        dropout: float,\n",
    "        num_enc_layers: int,\n",
    "        num_dec_layers: int,\n",
    "        vocab_len: int,\n",
    "    ):\n",
    "        super().__init__()\n",
    "\n",
    "        \"\"\"\n",
    "        该类实现了带有编码器和解码器的Transformer模型。模型的输入是形状为(N, K)的张量，\n",
    "        输出是形状为(N*O, V)的张量。这里，N是批量大小，K是输入序列长度，O是输出序列长度，\n",
    "        V是词汇表大小。输入通过共享的nn.Embedding层传递，然后加上输入位置编码。\n",
    "        类似地，目标通过相同的nn.Embedding层传递，然后加上目标位置编码。唯一的区别是，\n",
    "        我们在目标中取倒数第二个值。总结的输入（请查看代码了解详情）然后通过编码器和解码器\n",
    "        块以获得最终输出。\n",
    "        args:\n",
    "            num_heads: 表示Encoder和Decoder中要使用的头数的整数\n",
    "            emb_dim: 表示Transformer的嵌入维度的整数\n",
    "            dim_feedforward: 表示Encoder和Decoder中隐藏层的数量的整数\n",
    "            dropout: 表示丢弃层的概率的浮点数\n",
    "            num_enc_layers: 表示编码器块的数量的整数\n",
    "            num_dec_layers: 表示解码器块的数量的整数\n",
    "\n",
    "        \"\"\"\n",
    "        self.emb_layer = None\n",
    "        ##########################################################################\n",
    "        # 初始化一个Embedding层，将vocab_len映射到emb_dim。这是我们模型的第一个输入，\n",
    "        # 并将此输入转换为整个模型中保持不变的emb_dim。请使用self.emb_layer作为此层的名称。 #\n",
    "        ##########################################################################\n",
    "        self.emb_layer = nn.Embedding(vocab_len, emb_dim)\n",
    "        self.encoder = Encoder(\n",
    "            num_heads, emb_dim, feedforward_dim, num_enc_layers, dropout\n",
    "        )\n",
    "        self.decoder = Decoder(\n",
    "            num_heads,\n",
    "            emb_dim,\n",
    "            feedforward_dim,\n",
    "            num_dec_layers,\n",
    "            dropout,\n",
    "            vocab_len,\n",
    "        )\n",
    "\n",
    "    def forward(\n",
    "        self, ques_b: Tensor, ques_pos: Tensor, ans_b: Tensor, ans_pos: Tensor\n",
    "    ) -> Tensor:\n",
    "\n",
    "        \"\"\"\n",
    "\n",
    "        实现Transformer的前向传递。\n",
    "\n",
    "        args:\n",
    "            ques_b: 形状为(N, K)的张量，包含算术表达式的输入序列\n",
    "            ques_pos: 形状为(N, K, M)的张量，包含输入序列的位置编码\n",
    "            ans_b: 形状为(N, K)的张量，包含算术表达式的目标序列\n",
    "            ans_pos: 形状为(N, K, M)的张量，包含目标序列的位置编码\n",
    "\n",
    "        返回:\n",
    "            dec_out: 形状为(N*O, M)的张量，其中O是目标序列的大小。\n",
    "        \"\"\"\n",
    "        q_emb = self.emb_layer(ques_b)\n",
    "        a_emb = self.emb_layer(ans_b)\n",
    "        q_emb_inp = q_emb + ques_pos\n",
    "        a_emb_inp = a_emb[:, :-1] + ans_pos[:, :-1]\n",
    "        dec_out = None\n",
    "        ##########################################################################\n",
    "        # 此部分包括编写完整Transformer的前向部分。首先，将q_emb_inp传递给编码器，\n",
    "        # 这将是解码器输入之一。除了编码器输出外，还应构建一个适当的掩码，使用get_subsequent_mask。\n",
    "        # 最后，将a_emb_inp、编码器输出和掩码传递给解码器。任务是屏蔽目标(a_emb_inp)的值。  #\n",
    "        # 掩码形状将取决于张量ans_b                                      #\n",
    "        ##########################################################################\n",
    "        enc_out = self.encoder(q_emb_inp)\n",
    "        mask = get_subsequent_mask(ans_b[:,:-1])\n",
    "        dec_out = self.decoder(a_emb_inp, enc_out, mask)\n",
    "        dec_out = dec_out.reshape(-1, dec_out.shape[2])\n",
    "\n",
    "        return dec_out\n"
   ]
  },
  {
   "cell_type": "markdown",
   "id": "e09e6850",
   "metadata": {
    "id": "20a41e64-4de5-4289-be47-3e7282e88f35",
    "papermill": {
     "duration": 0.025014,
     "end_time": "2024-05-03T07:46:53.661979",
     "exception": false,
     "start_time": "2024-05-03T07:46:53.636965",
     "status": "completed"
    },
    "tags": []
   },
   "source": [
    "# 第三部分：数据加载器\n",
    "\n",
    "在这一部分中，我们将创建用于训练Transformer模型的最终数据加载器。这将包括两件事情：\n",
    "\n",
    "- 实现位置编码（Positional Encoding）\n",
    "- 使用我们在第一部分创建的`prepocess_input_sequence`函数创建一个数据加载器。"
   ]
  },
  {
   "cell_type": "markdown",
   "id": "abf56fad",
   "metadata": {
    "id": "1249f651-4de3-4dd7-aa85-7d8bfb3e1e4f",
    "papermill": {
     "duration": 0.024484,
     "end_time": "2024-05-03T07:46:53.710987",
     "exception": false,
     "start_time": "2024-05-03T07:46:53.686503",
     "status": "completed"
    },
    "tags": []
   },
   "source": [
    "让我们开始实现输入的位置编码。位置编码使得Transformer在处理序列时能够感知位置信息。这些位置编码通常被添加到输入中，因此它们的形状应该与输入相同。由于位置编码不可学习，在训练过程中它们保持不变。因此，我们可以将其视为对输入进行的预处理步骤。我们的策略是实现位置编码函数，并在稍后创建玩具数据集的DataLoader时使用它。"
   ]
  },
  {
   "cell_type": "markdown",
   "id": "819ae39b",
   "metadata": {
    "id": "8c8ddbbc-1631-4781-849d-3fd27a3b0619",
    "papermill": {
     "duration": 0.024224,
     "end_time": "2024-05-03T07:46:53.759584",
     "exception": false,
     "start_time": "2024-05-03T07:46:53.735360",
     "status": "completed"
    },
    "tags": []
   },
   "source": [
    "### Sinusoid positional encoding"
   ]
  },
  {
   "cell_type": "markdown",
   "id": "b661fb68",
   "metadata": {
    "id": "1e3db3a0",
    "papermill": {
     "duration": 0.024154,
     "end_time": "2024-05-03T07:46:53.808074",
     "exception": false,
     "start_time": "2024-05-03T07:46:53.783920",
     "status": "completed"
    },
    "tags": []
   },
   "source": [
    "对于简单位置编码的一个主要缺点，那就是如果序列长度变大，两个连续位置编码之间的差异会变得越来越小，从而失去了位置感知的目的，因为连续位置之间的差异非常小。另一个问题是，对于每个位置，我们都沿着嵌入维度进行了复制，引入了冗余，这可能不会帮助网络学到任何新知识。可以使用不同的技巧来创建一个位置编码来解决这些问题。\n",
    "\n",
    "让我们看一下更成熟的位置编码版本，它使用正弦和余弦函数的组合，也称为正弦波。这也是原始Transformer论文中使用的位置编码。对于序列（长度为 K）中的每个元素，具有位置 $p$ 和嵌入（维度 M）位置 $i$，我们可以将位置编码定义为：\n",
    "\n",
    "$$PE_{(p, 2i)} = \\sin\\left(\\frac{p}{10000^a}\\right)$$\n",
    "$$PE_{(p, 2i+1)} = \\cos\\left(\\frac{p}{10000^a}\\right)$$\n",
    "\n",
    "$$\\text{其中 }a = \\left\\lfloor{\\frac{2i}{M}}\\right\\rfloor \\text{，而 M 是Transformer的嵌入维度}$$\n",
    "\n",
    "在这里，$p$ 对于序列中的位置保持不变，并且我们沿着嵌入维度交替分配正弦和余弦。\n"
   ]
  },
  {
   "cell_type": "code",
   "execution_count": 21,
   "id": "da0af583",
   "metadata": {
    "execution": {
     "iopub.execute_input": "2024-05-03T07:46:53.858585Z",
     "iopub.status.busy": "2024-05-03T07:46:53.858297Z",
     "iopub.status.idle": "2024-05-03T07:46:53.865429Z",
     "shell.execute_reply": "2024-05-03T07:46:53.864545Z"
    },
    "papermill": {
     "duration": 0.035283,
     "end_time": "2024-05-03T07:46:53.867309",
     "exception": false,
     "start_time": "2024-05-03T07:46:53.832026",
     "status": "completed"
    },
    "tags": []
   },
   "outputs": [],
   "source": [
    "def position_encoding_sinusoid(K: int, M: int) -> Tensor:\n",
    "\n",
    "    \"\"\"\n",
    "    正弦位置编码的实现。\n",
    "\n",
    "    参数:\n",
    "        K: 表示序列长度的整数\n",
    "        M: 表示序列的嵌入维度的整数\n",
    "\n",
    "    返回:\n",
    "        y: 形状为 (1, K, M) 的张量\n",
    "    \"\"\"\n",
    "    ##############################################################################\n",
    "    # 给定输入序列长度 K 和嵌入维度 M，构造形状为 (K, M) 的张量，其中沿着     #\n",
    "    # 维度的值遵循上面给出的方程。请注意在嵌入维度 M 上交替使用正弦和余弦。         #\n",
    "    ##############################################################################\n",
    "    y = torch.zeros(1, K, M)\n",
    "    temp = torch.arange(M)\n",
    "    temp = torch.div(temp, M, rounding_mode=\"floor\").reshape(1, -1) #(1, M)\n",
    "    p = torch.arange(K).unsqueeze(dim=-1)\n",
    "    \"\"\"\n",
    "    temp:我们得到的是从 0 到 1 之间的均匀间隔的值。\n",
    "    接下来，我们创建一个形状为 (K, 1) 的张量 num，其中包含从 0 到 K-1 的整数，并在最后一个维度上增加一个维度。\n",
    "    \"\"\"\n",
    "    y[0, :, 0::2] = torch.sin(p / torch.pow(10000, temp[0, 0::2]))\n",
    "    y[0, :, 1::2] = torch.cos(p / torch.pow(10000, temp[0, 1::2]))\n",
    "    return y\n"
   ]
  },
  {
   "cell_type": "markdown",
   "id": "8a0b5ff2",
   "metadata": {
    "papermill": {
     "duration": 0.024203,
     "end_time": "2024-05-03T07:46:53.916647",
     "exception": false,
     "start_time": "2024-05-03T07:46:53.892444",
     "status": "completed"
    },
    "tags": []
   },
   "source": [
    "### 加载数据"
   ]
  },
  {
   "cell_type": "markdown",
   "id": "85fc1202",
   "metadata": {
    "papermill": {
     "duration": 0.024252,
     "end_time": "2024-05-03T07:46:53.965801",
     "exception": false,
     "start_time": "2024-05-03T07:46:53.941549",
     "status": "completed"
    },
    "tags": []
   },
   "source": [
    "由于Transformer在序列到序列任务上表现非常好，我们将在一个算术操作的玩具任务上实现它。我们将使用Transformer模型来执行两个整数的加法和减法，其中整数的绝对值最多为50。一个简单的例子是使用Transformer模型执行 `-5 + 2` 的计算，并得到正确的结果 `-3`。由于解决这个问题可以有多种方法，我们将看到如何将其作为序列到序列问题提出，并使用Transformer模型解决它。\n",
    "让我们先看一下数据："
   ]
  },
  {
   "cell_type": "code",
   "execution_count": 22,
   "id": "c53ab24a",
   "metadata": {
    "execution": {
     "iopub.execute_input": "2024-05-03T07:46:54.017034Z",
     "iopub.status.busy": "2024-05-03T07:46:54.016668Z",
     "iopub.status.idle": "2024-05-03T07:46:54.036853Z",
     "shell.execute_reply": "2024-05-03T07:46:54.035944Z"
    },
    "papermill": {
     "duration": 0.048357,
     "end_time": "2024-05-03T07:46:54.038783",
     "exception": false,
     "start_time": "2024-05-03T07:46:53.990426",
     "status": "completed"
    },
    "tags": []
   },
   "outputs": [],
   "source": [
    "train_data_path = '/kaggle/input/hw-transformer-addsub/train_data.json'\n",
    "val_data_path = '/kaggle/input/hw-transformer-addsub/val_data.json'\n",
    "test_data_path = '/kaggle/input/hw-transformer-addsub/test_data.json'\n",
    "\n",
    "train_data = json.load(open(train_data_path))\n",
    "val_data = json.load(open(val_data_path))\n",
    "test_data = json.load(open(test_data_path))"
   ]
  },
  {
   "cell_type": "code",
   "execution_count": 23,
   "id": "274ed4d6",
   "metadata": {
    "execution": {
     "iopub.execute_input": "2024-05-03T07:46:54.090844Z",
     "iopub.status.busy": "2024-05-03T07:46:54.090228Z",
     "iopub.status.idle": "2024-05-03T07:46:54.095527Z",
     "shell.execute_reply": "2024-05-03T07:46:54.094668Z"
    },
    "papermill": {
     "duration": 0.03385,
     "end_time": "2024-05-03T07:46:54.097506",
     "exception": false,
     "start_time": "2024-05-03T07:46:54.063656",
     "status": "completed"
    },
    "tags": []
   },
   "outputs": [
    {
     "name": "stdout",
     "output_type": "stream",
     "text": [
      "Expression: BOS POSITIVE 17 add NEGATIVE 49 EOS Output: BOS NEGATIVE 32 EOS\n",
      "Expression: BOS POSITIVE 30 add POSITIVE 01 EOS Output: BOS POSITIVE 31 EOS\n",
      "Expression: BOS POSITIVE 21 subtract NEGATIVE 43 EOS Output: BOS POSITIVE 64 EOS\n",
      "Expression: BOS NEGATIVE 22 subtract NEGATIVE 44 EOS Output: BOS POSITIVE 22 EOS\n"
     ]
    }
   ],
   "source": [
    "num_examples = 4\n",
    "for q, a in zip(\n",
    "    train_data[\"inp_expression\"][:num_examples], \n",
    "    train_data[\"out_expression\"][:num_examples]\n",
    "    ):\n",
    "  print(\"Expression: \" + q + \" Output: \" + a)"
   ]
  },
  {
   "cell_type": "markdown",
   "id": "39ad5143",
   "metadata": {
    "papermill": {
     "duration": 0.024879,
     "end_time": "2024-05-03T07:46:54.147242",
     "exception": false,
     "start_time": "2024-05-03T07:46:54.122363",
     "status": "completed"
    },
    "tags": []
   },
   "source": [
    "## 这些示例代表什么意思：\n",
    "\n",
    "让我们首先看一下这里的第一个和第三个示例，并理解它们代表了什么：\n",
    "\n",
    "- 表达式：`BOS NEGATIVE 30 subtract NEGATIVE 34 EOS` 输出：`BOS POSITIVE 04 EOS`：这里的表达式是 $(-30) - (-34)$。这里符号 `+` 有两个含义：一个是表示数字的符号，另一个是两个整数之间的加法操作。为了简化神经网络的问题，我们用不同的文本标记表示它们。$(-30) - (-34)$ 的输出是 $+4$。这里的 `BOS` 和 `EOS` 分别指示序列的开头和结尾。\n",
    "- 同样，第二个表达式，`BOS NEGATIVE 34 add NEGATIVE 15 EOS` 输出：`BOS NEGATIVE 49 EOS` 意味着我们正在进行计算 $(-34) + (-15)$。与上面类似，这里的符号 `-` 表示两个东西：第一个是整数的符号，第二个是两个整数之间的操作。同样，我们用不同的标记表示，以简化神经网络的问题。这里的输出是 -49。这里的 `BOS` 和 `EOS` 分别指示序列的开头和结尾。\n",
    "\n",
    "现在我们对数据有了一定的了解，让我们开始对数据进行预处理，因为神经网络无法理解字符串，我们需要将它们表示为数字。\n",
    "\n",
    "## 预处理数据\n",
    "我们需要将原始输入序列转换为可以用神经网络处理的格式。\n",
    "具体来说，我们需要将一个人类可读的字符串（例如 `BOS NEGATIVE 30 subtract NEGATIVE 34 EOS`）转换为一系列**标记**，其中每个标记将是一个整数。\n",
    "将输入字符串转换为一系列标记的过程称为**标记化**。\n",
    "\n",
    "在我们可以对任何特定序列进行标记化之前，我们首先需要构建一个**词汇表**；这是一个包含数据集中所有标记的详尽列表，并且从每个标记到一个唯一整数值的映射。\n",
    "在我们的例子中，我们的词汇表将包含16个元素：一个条目表示每个数字 `0` 到 `9`，两个标记用于表示数字的符号（`POSITIVE` 和 `NEGATIVE`），两个标记表示加法和减法运算（`add` 和 `subtract`），最后两个特殊标记表示序列的开头和结尾（`BOS`，`EOS`）。\n",
    "\n",
    "我们通常使用一对数据结构来表示词汇表。\n",
    "第一个是所有字符串标记的列表（下面的 `vocab`），使得 `vocab[i] = s` 意味着字符串 `s` 被分配了整数值 `i`。这使我们能够查找与任何数值索引 `i` 关联的字符串。\n",
    "我们还需要一个数据结构，使我们能够反向映射：给定一个字符串 `s`，找到它分配的索引 `i`。通常，这表示为一个哈希映射（Python中的 `dict` 对象），其键是字符串，其值是分配给这些字符串的索引。\n",
    "您将实现函数 `generate_token_dict`，该函数输入列表 `vocab` 并返回给定此映射的字典 `convert_str_to_token`。\n",
    "\n",
    "一旦您构建了词汇表，然后您可以实现函数 `preprocess_input_sequence`，它使用词汇表数据结构将输入字符串转换为整数标记列表。"
   ]
  },
  {
   "cell_type": "code",
   "execution_count": 24,
   "id": "ea24ac4b",
   "metadata": {
    "execution": {
     "iopub.execute_input": "2024-05-03T07:46:54.199471Z",
     "iopub.status.busy": "2024-05-03T07:46:54.199191Z",
     "iopub.status.idle": "2024-05-03T07:46:54.203524Z",
     "shell.execute_reply": "2024-05-03T07:46:54.202655Z"
    },
    "papermill": {
     "duration": 0.032479,
     "end_time": "2024-05-03T07:46:54.205436",
     "exception": false,
     "start_time": "2024-05-03T07:46:54.172957",
     "status": "completed"
    },
    "tags": []
   },
   "outputs": [],
   "source": [
    "SPECIAL_TOKENS = [\"POSITIVE\", \"NEGATIVE\", \"add\", \"subtract\", \"BOS\", \"EOS\"]\n",
    "vocab = [\"0\", \"1\", \"2\", \"3\", \"4\", \"5\", \"6\", \"7\", \"8\", \"9\"] + SPECIAL_TOKENS"
   ]
  },
  {
   "cell_type": "code",
   "execution_count": 25,
   "id": "865a9cb5",
   "metadata": {
    "execution": {
     "iopub.execute_input": "2024-05-03T07:46:54.256030Z",
     "iopub.status.busy": "2024-05-03T07:46:54.255751Z",
     "iopub.status.idle": "2024-05-03T07:46:54.260816Z",
     "shell.execute_reply": "2024-05-03T07:46:54.260001Z"
    },
    "papermill": {
     "duration": 0.032343,
     "end_time": "2024-05-03T07:46:54.262695",
     "exception": false,
     "start_time": "2024-05-03T07:46:54.230352",
     "status": "completed"
    },
    "tags": []
   },
   "outputs": [],
   "source": [
    "def generate_token_dict(vocab):\n",
    "    \"\"\"\n",
    "    该函数从词汇表中的元素创建一个哈希映射，将其映射到唯一的正整数值。\n",
    "\n",
    "    参数:\n",
    "        - vocab: 这是一个包含词汇表中所有项目的字符串的一维列表\n",
    "\n",
    "    返回值:\n",
    "        - token_dict: 一个Python字典，键是词汇表中的字符串项，值是唯一的整数值\n",
    "    \"\"\"\n",
    "\n",
    "    ##############################################################################                             #\n",
    "    # 使用此函数为词汇表列表中的每个元素分配一个唯一的整数元素。\n",
    "    #  将词汇表中的第一个元素映射为0，将词汇表中的最后一个元素映射为len(vocab)，\n",
    "    #  并将中间的元素映射为连续的数字。\n",
    "    ##############################################################################\n",
    "    token_dict = {}\n",
    "    for idx, item in enumerate(vocab):\n",
    "      token_dict[item] = idx\n",
    "    return token_dict\n"
   ]
  },
  {
   "cell_type": "code",
   "execution_count": 26,
   "id": "bc4726cb",
   "metadata": {
    "execution": {
     "iopub.execute_input": "2024-05-03T07:46:54.314351Z",
     "iopub.status.busy": "2024-05-03T07:46:54.314078Z",
     "iopub.status.idle": "2024-05-03T07:46:54.320255Z",
     "shell.execute_reply": "2024-05-03T07:46:54.319433Z"
    },
    "papermill": {
     "duration": 0.033935,
     "end_time": "2024-05-03T07:46:54.322223",
     "exception": false,
     "start_time": "2024-05-03T07:46:54.288288",
     "status": "completed"
    },
    "tags": []
   },
   "outputs": [],
   "source": [
    "def prepocess_input_sequence(\n",
    "    input_str: str, token_dict: dict, spc_tokens: list\n",
    ") -> list:\n",
    "    \"\"\"\n",
    "    该函数的目标是将输入字符串转换为一系列正整数，以便我们能够进一步使用神经网络处理该字符串。我们将使用上一个函数中生成的字典将字符串中的元素映射到唯一的值。\n",
    "    请注意，我们为输入序列中的每个整数分配一个值。例如，对于输入序列中存在的数字 \"33\"，您应该将其拆分为数字列表，['0', '3']，并将其分配给token_dict中相应的值。\n",
    "\n",
    "    参数:\n",
    "    - input_str: 输入数据中的单个字符串\n",
    "               例如: \"BOS POSITIVE 0333 add POSITIVE 0696 EOS\"\n",
    "    - token_dict: 令牌字典，其键为字符串中的元素，值为唯一的正整数。这是使用 generate_token_dict 函数生成的\n",
    "    - spc_tokens: 除了数字以外的特殊令牌。\n",
    "    返回值:\n",
    "    - out_tokens: 与输入字符串对应的整数列表\n",
    "\n",
    "    \"\"\"\n",
    "    out = []\n",
    "    ##############################################################################\n",
    "    # 对于输入序列中的每个数字，将其拆分为数字列表，并使用该数字列表从token_dict中分配适当的值。\n",
    "    # 对于输入字符串中存在的特殊令牌，为完整的令牌分配适当的值。\n",
    "    ##############################################################################\n",
    "    for item in input_str.split():\n",
    "      if item in spc_tokens:\n",
    "        out.append(token_dict[item])\n",
    "\n",
    "      else:\n",
    "        for digit in item:\n",
    "          out.append(token_dict[digit])\n",
    "    return out\n"
   ]
  },
  {
   "cell_type": "code",
   "execution_count": 27,
   "id": "ccd3c21e",
   "metadata": {
    "execution": {
     "iopub.execute_input": "2024-05-03T07:46:54.375840Z",
     "iopub.status.busy": "2024-05-03T07:46:54.375541Z",
     "iopub.status.idle": "2024-05-03T07:46:54.393420Z",
     "shell.execute_reply": "2024-05-03T07:46:54.392330Z"
    },
    "papermill": {
     "duration": 0.048302,
     "end_time": "2024-05-03T07:46:54.395466",
     "exception": false,
     "start_time": "2024-05-03T07:46:54.347164",
     "status": "completed"
    },
    "tags": []
   },
   "outputs": [
    {
     "name": "stdout",
     "output_type": "stream",
     "text": [
      "preprocess input token error 1:  0.0\n",
      "preprocess input token error 2:  0.0\n",
      "preprocess input token error 3:  0.0\n",
      "preprocess input token error 4:  0.0\n",
      "\n",
      "\n",
      "preprocess output token error 1:  0.0\n",
      "preprocess output token error 2:  0.0\n",
      "preprocess output token error 3:  0.0\n",
      "preprocess output token error 4:  0.0\n"
     ]
    }
   ],
   "source": [
    "convert_str_to_tokens = generate_token_dict(vocab)\n",
    "\n",
    "ex1_in = \"BOS POSITIVE 0333 add POSITIVE 0696 EOS\"\n",
    "ex2_in = \"BOS POSITIVE 0673 add POSITIVE 0675 EOS\"\n",
    "ex3_in = \"BOS NEGATIVE 0286 subtract NEGATIVE 0044 EOS\"\n",
    "ex4_in = \"BOS NEGATIVE 0420 add POSITIVE 0342 EOS\"\n",
    "\n",
    "ex1_out = \"BOS POSITIVE 1029 EOS\"\n",
    "ex2_out = \"BOS POSITIVE 1348 EOS\"\n",
    "ex3_out = \"BOS NEGATIVE 0242 EOS\"\n",
    "ex4_out = \"BOS NEGATIVE 0078 EOS\"\n",
    "\n",
    "ex1_inp_preprocessed = torch.tensor(\n",
    "    prepocess_input_sequence(ex1_in, convert_str_to_tokens, SPECIAL_TOKENS)\n",
    ")\n",
    "ex2_inp_preprocessed = torch.tensor(\n",
    "    prepocess_input_sequence(ex2_in, convert_str_to_tokens, SPECIAL_TOKENS)\n",
    ")\n",
    "ex3_inp_preprocessed = torch.tensor(\n",
    "    prepocess_input_sequence(ex3_in, convert_str_to_tokens, SPECIAL_TOKENS)\n",
    ")\n",
    "ex4_inp_preprocessed = torch.tensor(\n",
    "    prepocess_input_sequence(ex4_in, convert_str_to_tokens, SPECIAL_TOKENS)\n",
    ")\n",
    "\n",
    "ex1_processed_expected = torch.tensor([14, 10, 0, 3, 3, 3, 12, 10, 0, 6, 9, 6, 15])\n",
    "ex2_processed_expected = torch.tensor([14, 10, 0, 6, 7, 3, 12, 10, 0, 6, 7, 5, 15])\n",
    "ex3_processed_expected = torch.tensor([14, 11, 0, 2, 8, 6, 13, 11, 0, 0, 4, 4, 15])\n",
    "ex4_processed_expected = torch.tensor([14, 11, 0, 4, 2, 0, 12, 10, 0, 3, 4, 2, 15])\n",
    "\n",
    "ex1_out = torch.tensor(\n",
    "    prepocess_input_sequence(ex1_out, convert_str_to_tokens, SPECIAL_TOKENS)\n",
    ")\n",
    "ex2_out = torch.tensor(\n",
    "    prepocess_input_sequence(ex2_out, convert_str_to_tokens, SPECIAL_TOKENS)\n",
    ")\n",
    "ex3_out = torch.tensor(\n",
    "    prepocess_input_sequence(ex3_out, convert_str_to_tokens, SPECIAL_TOKENS)\n",
    ")\n",
    "ex4_out = torch.tensor(\n",
    "    prepocess_input_sequence(ex4_out, convert_str_to_tokens, SPECIAL_TOKENS)\n",
    ")\n",
    "\n",
    "ex1_out_expected = torch.tensor([14, 10, 1, 0, 2, 9, 15])\n",
    "ex2_out_expected = torch.tensor([14, 10, 1, 3, 4, 8, 15])\n",
    "ex3_out_expected = torch.tensor([14, 11, 0, 2, 4, 2, 15])\n",
    "ex4_out_expected = torch.tensor([14, 11, 0, 0, 7, 8, 15])\n",
    "\n",
    "print(\n",
    "    \"preprocess input token error 1: \",\n",
    "    rel_error(ex1_processed_expected, ex1_inp_preprocessed),\n",
    ")\n",
    "print(\n",
    "    \"preprocess input token error 2: \",\n",
    "    rel_error(ex2_processed_expected, ex2_inp_preprocessed),\n",
    ")\n",
    "print(\n",
    "    \"preprocess input token error 3: \",\n",
    "    rel_error(ex3_processed_expected, ex3_inp_preprocessed),\n",
    ")\n",
    "print(\n",
    "    \"preprocess input token error 4: \",\n",
    "    rel_error(ex4_processed_expected, ex4_inp_preprocessed),\n",
    ")\n",
    "print(\"\\n\")\n",
    "print(\"preprocess output token error 1: \", rel_error(ex1_out_expected, ex1_out))\n",
    "print(\"preprocess output token error 2: \", rel_error(ex2_out_expected, ex2_out))\n",
    "print(\"preprocess output token error 3: \", rel_error(ex3_out_expected, ex3_out))\n",
    "print(\"preprocess output token error 4: \", rel_error(ex4_out_expected, ex4_out))\n",
    "# 所有error都应该为0"
   ]
  },
  {
   "cell_type": "markdown",
   "id": "ee44bccf",
   "metadata": {
    "id": "579e6f2e-d2f0-4a10-a54f-c65ecdccc587",
    "papermill": {
     "duration": 0.025715,
     "end_time": "2024-05-03T07:46:54.447881",
     "exception": false,
     "start_time": "2024-05-03T07:46:54.422166",
     "status": "completed"
    },
    "tags": []
   },
   "source": [
    "### 构建DataLoader"
   ]
  },
  {
   "cell_type": "markdown",
   "id": "6ea7d775",
   "metadata": {
    "id": "5f2d8dd1",
    "papermill": {
     "duration": 0.025881,
     "end_time": "2024-05-03T07:46:54.500059",
     "exception": false,
     "start_time": "2024-05-03T07:46:54.474178",
     "status": "completed"
    },
    "tags": []
   },
   "source": [
    "现在，我们将使用实现的位置编码来构建一个PyTorch中的数据加载器。数据加载器的作用是为训练/验证返回一个批次。我们首先创建一个Dataset类，该类为我们提供批次中的单个元素，然后使用DataLoader来封装数据集。我们从`torch.utils.data.Dataset`类继承Dataset。这个类包含两个重要的函数，根据你的用例,你会更改这些函数。第一个函数是`__init__`，这包含了*静态*的组件，换句话说，当我们从完整数据中获取下一个元素时，这些变量不会改变。第二个函数是`__getitem__`，它包含最终数据加载器的核心功能。\n",
    "\n",
    "要获取最终的数据加载器，我们将`train_data`和`test_data`包装在`torch.utils.data.DataLoader`类中。\n"
   ]
  },
  {
   "cell_type": "code",
   "execution_count": 28,
   "id": "4946bc09",
   "metadata": {
    "execution": {
     "iopub.execute_input": "2024-05-03T07:46:54.551668Z",
     "iopub.status.busy": "2024-05-03T07:46:54.551349Z",
     "iopub.status.idle": "2024-05-03T07:46:54.560800Z",
     "shell.execute_reply": "2024-05-03T07:46:54.559754Z"
    },
    "papermill": {
     "duration": 0.037931,
     "end_time": "2024-05-03T07:46:54.562989",
     "exception": false,
     "start_time": "2024-05-03T07:46:54.525058",
     "status": "completed"
    },
    "tags": []
   },
   "outputs": [],
   "source": [
    "class AddSubDataset(torch.utils.data.Dataset):\n",
    "    def __init__(\n",
    "        self,\n",
    "        input_seqs,\n",
    "        target_seqs,\n",
    "        convert_str_to_tokens,\n",
    "        special_tokens,\n",
    "        emb_dim,\n",
    "        pos_encode,\n",
    "    ):\n",
    "\n",
    "        \"\"\"\n",
    "       该类实现了将用于玩具数据集的数据加载器。\n",
    "\n",
    "        参数:\n",
    "        - `input_seqs`: 输入字符串列表\n",
    "        - `target_seqs`: 输出字符串列表\n",
    "        - `convert_str_to_tokens`: 将输入字符串转换为标记的字典\n",
    "        - `special_tokens`: 特殊字符串列表\n",
    "        - `emb_dim`: Transformer的嵌入维度\n",
    "        - `pos_encode`: 用于计算数据的位置编码的函数\n",
    "        \"\"\"\n",
    "\n",
    "        self.input_seqs = input_seqs\n",
    "        self.target_seqs = target_seqs\n",
    "        self.convert_str_to_tokens = convert_str_to_tokens\n",
    "        self.emb_dim = emb_dim\n",
    "        self.special_tokens = special_tokens\n",
    "        self.pos_encode = pos_encode\n",
    "\n",
    "    def preprocess(self, inp):\n",
    "        return prepocess_input_sequence(\n",
    "            inp, self.convert_str_to_tokens, self.special_tokens\n",
    "        )\n",
    "\n",
    "    def __getitem__(self, idx):\n",
    "        \"\"\"\n",
    "        获取数据中索引为idx的元素的核心函数。\n",
    "        参数：\n",
    "        - `idx`：需要从数据中提取的元素的索引\n",
    "        返回：\n",
    "        - `preprocess_inp`：长度为K的一维张量，其中K是输入序列的长度\n",
    "        - `inp_pos_enc`：形状为(K, M)的张量，其中K是序列长度，M是嵌入维度\n",
    "        - `preprocess_out`：长度为O的一维张量，其中O是输出序列的长度\n",
    "        - `out_pos_enc`：形状为(O, M)的张量，其中O是序列长度，M是嵌入维度\n",
    "        \"\"\"\n",
    "\n",
    "        inp = self.input_seqs[idx]\n",
    "        out = self.target_seqs[idx]\n",
    "        preprocess_inp = torch.tensor(self.preprocess(inp))\n",
    "        preprocess_out = torch.tensor(self.preprocess(out))\n",
    "        inp_pos = len(preprocess_inp)\n",
    "        inp_pos_enc = self.pos_encode(inp_pos, self.emb_dim)\n",
    "        out_pos = len(preprocess_out)\n",
    "        out_pos_enc = self.pos_encode(out_pos, self.emb_dim)\n",
    "\n",
    "        return preprocess_inp, inp_pos_enc[0], preprocess_out, out_pos_enc[0]\n",
    "\n",
    "    def __len__(self):\n",
    "        return len(self.input_seqs)"
   ]
  },
  {
   "cell_type": "code",
   "execution_count": 29,
   "id": "555471eb",
   "metadata": {
    "execution": {
     "iopub.execute_input": "2024-05-03T07:46:54.615087Z",
     "iopub.status.busy": "2024-05-03T07:46:54.614830Z",
     "iopub.status.idle": "2024-05-03T07:46:54.624260Z",
     "shell.execute_reply": "2024-05-03T07:46:54.623596Z"
    },
    "id": "a673ee9f-c5ae-438c-b696-9662dcb87c52",
    "papermill": {
     "duration": 0.03791,
     "end_time": "2024-05-03T07:46:54.626076",
     "exception": false,
     "start_time": "2024-05-03T07:46:54.588166",
     "status": "completed"
    },
    "tags": []
   },
   "outputs": [],
   "source": [
    "def setup_seed(seed):\n",
    "    torch.manual_seed(seed)\n",
    "    torch.cuda.manual_seed_all(seed)\n",
    "    torch.backends.cudnn.deterministic = True\n",
    "setup_seed(2024)\n",
    "\n",
    "BATCH_SIZE = 16\n",
    "\n",
    "X_train, y_train = train_data[\"inp_expression\"], train_data[\"out_expression\"]\n",
    "X_val, y_val = val_data[\"inp_expression\"], val_data[\"out_expression\"]\n",
    "X_test, y_test = test_data[\"inp_expression\"], test_data[\"out_expression\"]\n",
    "\n",
    "train_data = AddSubDataset(\n",
    "    X_train,\n",
    "    y_train,\n",
    "    convert_str_to_tokens,\n",
    "    SPECIAL_TOKENS,\n",
    "    32,\n",
    "    position_encoding_sinusoid\n",
    "    \n",
    ")\n",
    "valid_data = AddSubDataset(\n",
    "    X_val, y_val, convert_str_to_tokens, SPECIAL_TOKENS, 32, position_encoding_sinusoid\n",
    ")\n",
    "test_data = valid_data = AddSubDataset(\n",
    "    X_test, y_test, convert_str_to_tokens, SPECIAL_TOKENS, 32, position_encoding_sinusoid\n",
    ")\n",
    "\n",
    "\n",
    "train_loader = torch.utils.data.DataLoader(\n",
    "    train_data, batch_size=BATCH_SIZE, shuffle=False, drop_last=True\n",
    ")\n",
    "valid_loader = torch.utils.data.DataLoader(\n",
    "    valid_data, batch_size=BATCH_SIZE, shuffle=False, drop_last=True\n",
    ")\n",
    "test_loader = torch.utils.data.DataLoader(\n",
    "    test_data, batch_size=BATCH_SIZE, shuffle=False, drop_last=True\n",
    ")"
   ]
  },
  {
   "cell_type": "code",
   "execution_count": 30,
   "id": "36e599b0",
   "metadata": {
    "execution": {
     "iopub.execute_input": "2024-05-03T07:46:54.677551Z",
     "iopub.status.busy": "2024-05-03T07:46:54.676875Z",
     "iopub.status.idle": "2024-05-03T07:46:55.741573Z",
     "shell.execute_reply": "2024-05-03T07:46:55.740601Z"
    },
    "papermill": {
     "duration": 1.093031,
     "end_time": "2024-05-03T07:46:55.744043",
     "exception": false,
     "start_time": "2024-05-03T07:46:54.651012",
     "status": "completed"
    },
    "tags": []
   },
   "outputs": [],
   "source": [
    "import torch.optim as optim\n",
    "\n",
    "inp_seq_len = 9\n",
    "out_seq_len = 5\n",
    "num_heads = 4\n",
    "emb_dim = 32\n",
    "dim_feedforward = 64\n",
    "dropout = 0.2\n",
    "num_enc_layers = 4\n",
    "num_dec_layers = 4\n",
    "vocab_len = len(vocab)\n",
    "\n",
    "model = Transformer(\n",
    "    num_heads,\n",
    "    emb_dim,\n",
    "    dim_feedforward,\n",
    "    dropout,\n",
    "    num_enc_layers,\n",
    "    num_dec_layers,\n",
    "    vocab_len,\n",
    ")\n",
    "for it in test_loader:\n",
    "  it\n",
    "  break\n",
    "inp, inp_pos, out, out_pos = it\n",
    "device = DEVICE\n",
    "model = model.to(device)\n",
    "inp_pos = inp_pos.to(device)\n",
    "out_pos = out_pos.to(device)\n",
    "out = out.to(device)\n",
    "inp = inp.to(device)\n",
    "\n",
    "# 验证模型的输出维度是否与数据一致\n",
    "model_out = model(inp.long(), inp_pos, out.long(), out_pos)\n",
    "assert model_out.size(0) == BATCH_SIZE * (out_seq_len - 1)\n",
    "assert model_out.size(1) == vocab_len"
   ]
  },
  {
   "cell_type": "markdown",
   "id": "88025f01",
   "metadata": {
    "id": "17ac4856-63fd-4693-87b2-ae616f438202",
    "papermill": {
     "duration": 0.025474,
     "end_time": "2024-05-03T07:46:55.796183",
     "exception": false,
     "start_time": "2024-05-03T07:46:55.770709",
     "status": "completed"
    },
    "tags": []
   },
   "source": [
    "# 第四部分:在AddSub数据集上训练Transformer"
   ]
  },
  {
   "cell_type": "markdown",
   "id": "1b69497d",
   "metadata": {
    "id": "62a4b8da",
    "papermill": {
     "duration": 0.024664,
     "end_time": "2024-05-03T07:46:55.845745",
     "exception": false,
     "start_time": "2024-05-03T07:46:55.821081",
     "status": "completed"
    },
    "tags": []
   },
   "source": [
    "现在我们已经实现了Transformer模型，我们将进行模型的训练。\n",
    "- 通常，Transformer的训练制度会以预热开始，换句话说，我们会使用较低的学习率对模型进行一些迭代训练，然后增加学习率，以使网络更快地学习。直觉上讲，这有助于在损失函数中获得一个稳定的流形，然后我们增加学习率以在这个稳定的流形中更快地学习。从某种意义上讲，我们在预热网络以进入稳定流形，并在此预热后以更高的学习率开始训练。对于过拟合，我们没有使用这种预热，因为对于如此小的数据，可以直接使用较高的学习率，但在使用完整数据进行训练时，您应该记住这一点。我们从a5_helper.py中使用了两个函数，`train`和`val`。在这里，`train`有三个参数需要注意：\n",
    "  - `warmup_interval`：指定网络应该使用较低学习率进行训练的迭代次数。换句话说，它是在网络将使用较高学习率的迭代次数之后的迭代次数。\n",
    "  - `warmup_lr`：这是在预热期间将使用的学习率。\n",
    "  - `lr`：这是在预热后将使用的学习率。如果warmup_interval为None，则我们将以此学习率开始训练。\n",
    "\n",
    "- 运行以下单元格来使用完整数据拟合模型。请记住，在这里你可以尝试各种实验，包括损失函数、位置编码、预热程序和学习率。"
   ]
  },
  {
   "cell_type": "code",
   "execution_count": 31,
   "id": "f9755943",
   "metadata": {
    "execution": {
     "iopub.execute_input": "2024-05-03T07:46:55.899659Z",
     "iopub.status.busy": "2024-05-03T07:46:55.899325Z",
     "iopub.status.idle": "2024-05-03T07:46:55.906573Z",
     "shell.execute_reply": "2024-05-03T07:46:55.905746Z"
    },
    "papermill": {
     "duration": 0.036316,
     "end_time": "2024-05-03T07:46:55.908658",
     "exception": false,
     "start_time": "2024-05-03T07:46:55.872342",
     "status": "completed"
    },
    "tags": []
   },
   "outputs": [],
   "source": [
    "def LabelSmoothingLoss(pred, ground):\n",
    "    \"\"\"\n",
    "    参数：\n",
    "        pred：预测张量，形状为（N*O，V），其中N是批量大小，O\n",
    "            是目标序列长度，V是词汇表的大小\n",
    "        ground：地面真实张量，形状为（N，O），其中N是批量大小，O\n",
    "            是目标序列\n",
    "    \"\"\"\n",
    "    ground = ground.contiguous().view(-1)\n",
    "    eps = 0.1\n",
    "    n_class = pred.size(1)\n",
    "    one_hot = torch.nn.functional.one_hot(ground).to(pred.dtype)\n",
    "    one_hot = one_hot * (1 - eps) + (1 - one_hot) * eps / (n_class - 1)\n",
    "    log_prb = F.log_softmax(pred, dim=1)\n",
    "    loss = -(one_hot * log_prb).sum(dim=1)\n",
    "    loss = loss.sum()\n",
    "    return loss\n",
    "\n",
    "\n",
    "def CrossEntropyLoss(pred, ground):\n",
    "    \"\"\"\n",
    "    参数：\n",
    "        pred：预测张量，形状为（N*O，V），其中N是批量大小，O\n",
    "            是目标序列长度，V是词汇表的大小\n",
    "        ground：地面真实张量，形状为（N，O），其中N是批量大小，O\n",
    "            是目标序列\n",
    "    \"\"\"\n",
    "    loss = F.cross_entropy(pred, ground, reduction=\"sum\")\n",
    "    return loss\n"
   ]
  },
  {
   "cell_type": "code",
   "execution_count": 32,
   "id": "3c5da2ad",
   "metadata": {
    "execution": {
     "iopub.execute_input": "2024-05-03T07:46:55.962162Z",
     "iopub.status.busy": "2024-05-03T07:46:55.961836Z",
     "iopub.status.idle": "2024-05-03T07:46:56.105922Z",
     "shell.execute_reply": "2024-05-03T07:46:56.104986Z"
    },
    "papermill": {
     "duration": 0.173827,
     "end_time": "2024-05-03T07:46:56.108246",
     "exception": false,
     "start_time": "2024-05-03T07:46:55.934419",
     "status": "completed"
    },
    "tags": []
   },
   "outputs": [],
   "source": [
    "inp_seq_len = 9\n",
    "out_seq_len = 5\n",
    "BATCH_SIZE = 256\n",
    "\n",
    "#You should change these!\n",
    "\n",
    "num_heads = 4\n",
    "emb_dim = 32\n",
    "dim_feedforward = 64\n",
    "dropout = 0.2\n",
    "num_enc_layers = 4\n",
    "num_dec_layers = 4\n",
    "vocab_len = len(vocab)\n",
    "loss_func = LabelSmoothingLoss\n",
    "poss_enc = position_encoding_sinusoid\n",
    "num_epochs = 200\n",
    "warmup_interval = 25\n",
    "lr = 1e-3\n",
    "\n",
    "model = Transformer(\n",
    "    num_heads,\n",
    "    emb_dim,\n",
    "    dim_feedforward,\n",
    "    dropout,\n",
    "    num_enc_layers,\n",
    "    num_dec_layers,\n",
    "    vocab_len,\n",
    ")\n",
    "\n",
    "\n",
    "train_data = AddSubDataset(\n",
    "    X_train,\n",
    "    y_train,\n",
    "    convert_str_to_tokens,\n",
    "    SPECIAL_TOKENS,\n",
    "    emb_dim,\n",
    "    position_encoding_sinusoid,\n",
    ")\n",
    "valid_data = AddSubDataset(\n",
    "    X_val,\n",
    "    y_val,\n",
    "    convert_str_to_tokens,\n",
    "    SPECIAL_TOKENS,\n",
    "    emb_dim,\n",
    "    position_encoding_sinusoid,\n",
    ")\n",
    "test_data = AddSubDataset(\n",
    "    X_test,\n",
    "    y_test,\n",
    "    convert_str_to_tokens,\n",
    "    SPECIAL_TOKENS,\n",
    "    emb_dim,\n",
    "    position_encoding_sinusoid,\n",
    ")\n",
    "\n",
    "train_loader = torch.utils.data.DataLoader(\n",
    "    train_data, batch_size=BATCH_SIZE, shuffle=False, drop_last=True\n",
    ")\n",
    "valid_loader = torch.utils.data.DataLoader(\n",
    "    valid_data, batch_size=BATCH_SIZE, shuffle=False, drop_last=True\n",
    ")\n",
    "test_loader = torch.utils.data.DataLoader(\n",
    "    test_data, batch_size=BATCH_SIZE, shuffle=False, drop_last=True\n",
    ")\n",
    "\n"
   ]
  },
  {
   "cell_type": "code",
   "execution_count": 33,
   "id": "9387273c",
   "metadata": {
    "execution": {
     "iopub.execute_input": "2024-05-03T07:46:56.163308Z",
     "iopub.status.busy": "2024-05-03T07:46:56.162995Z",
     "iopub.status.idle": "2024-05-03T07:46:56.182259Z",
     "shell.execute_reply": "2024-05-03T07:46:56.181535Z"
    },
    "papermill": {
     "duration": 0.049679,
     "end_time": "2024-05-03T07:46:56.184256",
     "exception": false,
     "start_time": "2024-05-03T07:46:56.134577",
     "status": "completed"
    },
    "tags": []
   },
   "outputs": [],
   "source": [
    "def train(\n",
    "    model,\n",
    "    train_dataloader,\n",
    "    val_dataloader,\n",
    "    loss_func,\n",
    "    num_epochs,\n",
    "    batch_size=32,\n",
    "    warmup_lr=6e-6,\n",
    "    warmup_interval=1000,\n",
    "    lr=6e-4,\n",
    "    device=torch.device(\"cpu\"),\n",
    "):\n",
    "    print(\"Training started...\")\n",
    "    if warmup_interval is None:\n",
    "        optimizer = torch.optim.Adam(\n",
    "            model.parameters(), lr=lr, betas=(0.9, 0.995), eps=1e-9\n",
    "        )\n",
    "    else:\n",
    "        optimizer = torch.optim.Adam(\n",
    "            model.parameters(), lr=warmup_lr, betas=(0.9, 0.995), eps=1e-9\n",
    "        )\n",
    "    iteration = 0\n",
    "    for epoch_num in range(num_epochs):\n",
    "        epoch_loss = []\n",
    "        epoch_correct = 0\n",
    "        epoch_total = 0\n",
    "        model.train()\n",
    "        for it in train_dataloader:\n",
    "            inp, inp_pos, out, out_pos = it\n",
    "            model = model.to(device)\n",
    "            inp_pos = inp_pos.to(device)\n",
    "            out_pos = out_pos.to(device)\n",
    "            out = out.to(device)\n",
    "            inp = inp.to(device)\n",
    "            gnd = out[:, 1:].contiguous().view(-1).long()\n",
    "            optimizer.zero_grad()\n",
    "\n",
    "            pred = model(inp.long(), inp_pos, out.long(), out_pos)\n",
    "            # TRAIN ACC\n",
    "            pred_max = pred.max(1)[1]\n",
    "            gnd = gnd.contiguous().view(-1)\n",
    "            n_correct = pred_max.eq(gnd).sum().item()\n",
    "            epoch_correct += n_correct\n",
    "            epoch_total += len(pred_max)\n",
    "            loss = loss_func(pred, gnd)\n",
    "            epoch_loss.append(loss.item())\n",
    "            if warmup_interval is not None and iteration == warmup_interval:\n",
    "                print(\n",
    "                    f\"End of warmup. Swapping learning rates from {warmup_lr} to {lr}\"\n",
    "                )\n",
    "                for param_group in optimizer.param_groups:\n",
    "                    warmup_lr = lr\n",
    "                    param_group[\"lr\"] = lr\n",
    "\n",
    "            loss.backward()\n",
    "            optimizer.step()\n",
    "            iteration = iteration + 1\n",
    "\n",
    "        train_acc = epoch_correct / epoch_total\n",
    "        avg_epoch_loss = sum(epoch_loss) / len(epoch_loss)\n",
    "        val_loss, val_acc = val(model, val_dataloader, loss_func, batch_size)\n",
    "        loss_hist = avg_epoch_loss / (batch_size * 4)\n",
    "        print(\n",
    "            f\"[epoch: {epoch_num+1}]\",\n",
    "            \"[loss: \",\n",
    "            f\"{loss_hist:.4f}\",\n",
    "            \"]\",\n",
    "            \"[train_acc: \",\n",
    "            f\"{train_acc:.4f}\",\n",
    "            \"]\",\n",
    "            \"[val_acc: \",\n",
    "            f\"{val_acc:.4f}\",\n",
    "            \"]\",\n",
    "            \"val_loss: [val_loss \",\n",
    "            f\"{val_loss:.4f}\",\n",
    "            \"]\",\n",
    "        )\n",
    "\n",
    "    return model\n",
    "\n",
    "\n",
    "def val(model, dataloader, loss_func, batch_size, device=torch.device(\"cpu\")):\n",
    "    model.eval()\n",
    "    with torch.no_grad():\n",
    "        epoch_loss = []\n",
    "        num_correct = 0\n",
    "        total = 0\n",
    "        for it in dataloader:\n",
    "            inp, inp_pos, out, out_pos = it\n",
    "\n",
    "            model = model.to(device)\n",
    "            inp_pos = inp_pos.to(device)\n",
    "            out_pos = out_pos.to(device)\n",
    "            out = out.to(device)\n",
    "            inp = inp.to(device)\n",
    "            gnd = out[:, 1:].contiguous().view(-1).long()\n",
    "            pred = model(inp.long(), inp_pos, out.long(), out_pos)\n",
    "            loss = loss_func(pred, gnd)\n",
    "\n",
    "            pred_max = pred.max(1)[1]\n",
    "            gnd = gnd.contiguous().view(-1)\n",
    "\n",
    "            n_correct = pred_max.eq(gnd)\n",
    "            n_correct = n_correct.sum().item()\n",
    "            num_correct = num_correct + n_correct\n",
    "\n",
    "            total = total + len(pred_max)\n",
    "            epoch_loss.append(loss.item())\n",
    "\n",
    "        avg_epoch_loss = sum(epoch_loss) / len(epoch_loss)\n",
    "    return avg_epoch_loss / (batch_size * 4), n_correct / total"
   ]
  },
  {
   "cell_type": "code",
   "execution_count": 34,
   "id": "2c61ad20",
   "metadata": {
    "execution": {
     "iopub.execute_input": "2024-05-03T07:46:56.238258Z",
     "iopub.status.busy": "2024-05-03T07:46:56.237995Z",
     "iopub.status.idle": "2024-05-03T07:56:07.968286Z",
     "shell.execute_reply": "2024-05-03T07:56:07.967201Z"
    },
    "papermill": {
     "duration": 551.759919,
     "end_time": "2024-05-03T07:56:07.970702",
     "exception": false,
     "start_time": "2024-05-03T07:46:56.210783",
     "status": "completed"
    },
    "tags": []
   },
   "outputs": [
    {
     "name": "stdout",
     "output_type": "stream",
     "text": [
      "Training started...\n",
      "[epoch: 1] [loss:  3.3337 ] [train_acc:  0.0778 ] [val_acc:  0.0781 ] val_loss: [val_loss  2.9419 ]\n",
      "End of warmup. Swapping learning rates from 6e-06 to 0.001\n",
      "[epoch: 2] [loss:  3.2258 ] [train_acc:  0.1032 ] [val_acc:  0.2500 ] val_loss: [val_loss  2.5889 ]\n",
      "[epoch: 3] [loss:  2.6826 ] [train_acc:  0.1880 ] [val_acc:  0.2500 ] val_loss: [val_loss  2.4724 ]\n",
      "[epoch: 4] [loss:  2.6068 ] [train_acc:  0.1998 ] [val_acc:  0.2500 ] val_loss: [val_loss  2.4534 ]\n",
      "[epoch: 5] [loss:  2.5752 ] [train_acc:  0.2087 ] [val_acc:  0.2500 ] val_loss: [val_loss  2.4527 ]\n",
      "[epoch: 6] [loss:  2.5636 ] [train_acc:  0.2142 ] [val_acc:  0.2500 ] val_loss: [val_loss  2.4519 ]\n",
      "[epoch: 7] [loss:  2.5469 ] [train_acc:  0.2197 ] [val_acc:  0.2500 ] val_loss: [val_loss  2.4515 ]\n",
      "[epoch: 8] [loss:  2.5338 ] [train_acc:  0.2211 ] [val_acc:  0.2500 ] val_loss: [val_loss  2.4510 ]\n",
      "[epoch: 9] [loss:  2.5240 ] [train_acc:  0.2264 ] [val_acc:  0.2500 ] val_loss: [val_loss  2.4504 ]\n",
      "[epoch: 10] [loss:  2.5114 ] [train_acc:  0.2301 ] [val_acc:  0.2500 ] val_loss: [val_loss  2.4506 ]\n",
      "[epoch: 11] [loss:  2.5002 ] [train_acc:  0.2338 ] [val_acc:  0.2500 ] val_loss: [val_loss  2.4502 ]\n",
      "[epoch: 12] [loss:  2.4981 ] [train_acc:  0.2407 ] [val_acc:  0.2500 ] val_loss: [val_loss  2.4499 ]\n",
      "[epoch: 13] [loss:  2.4959 ] [train_acc:  0.2380 ] [val_acc:  0.2500 ] val_loss: [val_loss  2.4501 ]\n",
      "[epoch: 14] [loss:  2.4887 ] [train_acc:  0.2403 ] [val_acc:  0.2500 ] val_loss: [val_loss  2.4500 ]\n",
      "[epoch: 15] [loss:  2.4873 ] [train_acc:  0.2426 ] [val_acc:  0.2500 ] val_loss: [val_loss  2.4497 ]\n",
      "[epoch: 16] [loss:  2.4816 ] [train_acc:  0.2435 ] [val_acc:  0.2500 ] val_loss: [val_loss  2.4494 ]\n",
      "[epoch: 17] [loss:  2.4779 ] [train_acc:  0.2458 ] [val_acc:  0.2500 ] val_loss: [val_loss  2.4487 ]\n",
      "[epoch: 18] [loss:  2.4757 ] [train_acc:  0.2466 ] [val_acc:  0.2500 ] val_loss: [val_loss  2.4476 ]\n",
      "[epoch: 19] [loss:  2.4713 ] [train_acc:  0.2471 ] [val_acc:  0.2500 ] val_loss: [val_loss  2.4458 ]\n",
      "[epoch: 20] [loss:  2.4678 ] [train_acc:  0.2490 ] [val_acc:  0.2500 ] val_loss: [val_loss  2.4422 ]\n",
      "[epoch: 21] [loss:  2.4648 ] [train_acc:  0.2479 ] [val_acc:  0.2500 ] val_loss: [val_loss  2.4301 ]\n",
      "[epoch: 22] [loss:  2.4520 ] [train_acc:  0.2480 ] [val_acc:  0.2500 ] val_loss: [val_loss  2.3995 ]\n",
      "[epoch: 23] [loss:  2.4304 ] [train_acc:  0.2429 ] [val_acc:  0.2500 ] val_loss: [val_loss  2.3689 ]\n",
      "[epoch: 24] [loss:  2.4018 ] [train_acc:  0.2417 ] [val_acc:  0.2803 ] val_loss: [val_loss  2.3019 ]\n",
      "[epoch: 25] [loss:  2.3487 ] [train_acc:  0.2648 ] [val_acc:  0.4062 ] val_loss: [val_loss  2.1581 ]\n",
      "[epoch: 26] [loss:  2.2524 ] [train_acc:  0.3361 ] [val_acc:  0.4805 ] val_loss: [val_loss  1.9400 ]\n",
      "[epoch: 27] [loss:  2.1136 ] [train_acc:  0.4227 ] [val_acc:  0.5186 ] val_loss: [val_loss  1.8026 ]\n",
      "[epoch: 28] [loss:  2.0095 ] [train_acc:  0.4644 ] [val_acc:  0.5488 ] val_loss: [val_loss  1.7117 ]\n",
      "[epoch: 29] [loss:  1.9405 ] [train_acc:  0.4797 ] [val_acc:  0.5664 ] val_loss: [val_loss  1.6383 ]\n",
      "[epoch: 30] [loss:  1.8742 ] [train_acc:  0.5004 ] [val_acc:  0.5811 ] val_loss: [val_loss  1.5671 ]\n",
      "[epoch: 31] [loss:  1.8080 ] [train_acc:  0.5192 ] [val_acc:  0.6045 ] val_loss: [val_loss  1.5165 ]\n",
      "[epoch: 32] [loss:  1.7482 ] [train_acc:  0.5376 ] [val_acc:  0.6045 ] val_loss: [val_loss  1.4667 ]\n",
      "[epoch: 33] [loss:  1.6912 ] [train_acc:  0.5623 ] [val_acc:  0.6230 ] val_loss: [val_loss  1.4280 ]\n",
      "[epoch: 34] [loss:  1.6330 ] [train_acc:  0.5833 ] [val_acc:  0.6738 ] val_loss: [val_loss  1.3802 ]\n",
      "[epoch: 35] [loss:  1.5764 ] [train_acc:  0.6051 ] [val_acc:  0.6846 ] val_loss: [val_loss  1.3071 ]\n",
      "[epoch: 36] [loss:  1.5191 ] [train_acc:  0.6197 ] [val_acc:  0.6807 ] val_loss: [val_loss  1.3111 ]\n",
      "[epoch: 37] [loss:  1.4681 ] [train_acc:  0.6365 ] [val_acc:  0.6875 ] val_loss: [val_loss  1.2616 ]\n",
      "[epoch: 38] [loss:  1.4359 ] [train_acc:  0.6422 ] [val_acc:  0.6836 ] val_loss: [val_loss  1.2595 ]\n",
      "[epoch: 39] [loss:  1.4161 ] [train_acc:  0.6491 ] [val_acc:  0.7129 ] val_loss: [val_loss  1.2104 ]\n",
      "[epoch: 40] [loss:  1.3873 ] [train_acc:  0.6592 ] [val_acc:  0.7178 ] val_loss: [val_loss  1.1642 ]\n",
      "[epoch: 41] [loss:  1.3630 ] [train_acc:  0.6601 ] [val_acc:  0.7354 ] val_loss: [val_loss  1.1488 ]\n",
      "[epoch: 42] [loss:  1.3271 ] [train_acc:  0.6726 ] [val_acc:  0.7305 ] val_loss: [val_loss  1.1293 ]\n",
      "[epoch: 43] [loss:  1.3050 ] [train_acc:  0.6797 ] [val_acc:  0.7500 ] val_loss: [val_loss  1.1169 ]\n",
      "[epoch: 44] [loss:  1.2872 ] [train_acc:  0.6853 ] [val_acc:  0.7432 ] val_loss: [val_loss  1.1152 ]\n",
      "[epoch: 45] [loss:  1.2642 ] [train_acc:  0.6885 ] [val_acc:  0.7549 ] val_loss: [val_loss  1.1101 ]\n",
      "[epoch: 46] [loss:  1.2520 ] [train_acc:  0.6944 ] [val_acc:  0.7568 ] val_loss: [val_loss  1.0984 ]\n",
      "[epoch: 47] [loss:  1.2467 ] [train_acc:  0.6950 ] [val_acc:  0.7510 ] val_loss: [val_loss  1.0977 ]\n",
      "[epoch: 48] [loss:  1.2271 ] [train_acc:  0.6975 ] [val_acc:  0.7393 ] val_loss: [val_loss  1.0922 ]\n",
      "[epoch: 49] [loss:  1.2184 ] [train_acc:  0.7023 ] [val_acc:  0.7432 ] val_loss: [val_loss  1.0847 ]\n",
      "[epoch: 50] [loss:  1.2122 ] [train_acc:  0.7070 ] [val_acc:  0.7676 ] val_loss: [val_loss  1.0798 ]\n",
      "[epoch: 51] [loss:  1.1947 ] [train_acc:  0.7095 ] [val_acc:  0.7412 ] val_loss: [val_loss  1.0712 ]\n",
      "[epoch: 52] [loss:  1.1878 ] [train_acc:  0.7147 ] [val_acc:  0.7549 ] val_loss: [val_loss  1.0571 ]\n",
      "[epoch: 53] [loss:  1.1722 ] [train_acc:  0.7230 ] [val_acc:  0.7725 ] val_loss: [val_loss  1.0397 ]\n",
      "[epoch: 54] [loss:  1.1526 ] [train_acc:  0.7293 ] [val_acc:  0.7695 ] val_loss: [val_loss  1.0213 ]\n",
      "[epoch: 55] [loss:  1.1291 ] [train_acc:  0.7404 ] [val_acc:  0.7705 ] val_loss: [val_loss  0.9957 ]\n",
      "[epoch: 56] [loss:  1.1184 ] [train_acc:  0.7423 ] [val_acc:  0.7734 ] val_loss: [val_loss  0.9887 ]\n",
      "[epoch: 57] [loss:  1.0940 ] [train_acc:  0.7495 ] [val_acc:  0.7744 ] val_loss: [val_loss  0.9841 ]\n",
      "[epoch: 58] [loss:  1.0841 ] [train_acc:  0.7535 ] [val_acc:  0.7803 ] val_loss: [val_loss  0.9870 ]\n",
      "[epoch: 59] [loss:  1.0696 ] [train_acc:  0.7574 ] [val_acc:  0.7900 ] val_loss: [val_loss  0.9793 ]\n",
      "[epoch: 60] [loss:  1.0640 ] [train_acc:  0.7596 ] [val_acc:  0.7734 ] val_loss: [val_loss  0.9783 ]\n",
      "[epoch: 61] [loss:  1.0564 ] [train_acc:  0.7651 ] [val_acc:  0.7764 ] val_loss: [val_loss  0.9748 ]\n",
      "[epoch: 62] [loss:  1.0485 ] [train_acc:  0.7669 ] [val_acc:  0.8096 ] val_loss: [val_loss  0.9649 ]\n",
      "[epoch: 63] [loss:  1.0386 ] [train_acc:  0.7732 ] [val_acc:  0.7988 ] val_loss: [val_loss  0.9581 ]\n",
      "[epoch: 64] [loss:  1.0304 ] [train_acc:  0.7764 ] [val_acc:  0.8018 ] val_loss: [val_loss  0.9479 ]\n",
      "[epoch: 65] [loss:  1.0283 ] [train_acc:  0.7753 ] [val_acc:  0.7979 ] val_loss: [val_loss  0.9428 ]\n",
      "[epoch: 66] [loss:  1.0214 ] [train_acc:  0.7827 ] [val_acc:  0.8037 ] val_loss: [val_loss  0.9364 ]\n",
      "[epoch: 67] [loss:  1.0201 ] [train_acc:  0.7806 ] [val_acc:  0.7979 ] val_loss: [val_loss  0.9306 ]\n",
      "[epoch: 68] [loss:  1.0055 ] [train_acc:  0.7863 ] [val_acc:  0.8008 ] val_loss: [val_loss  0.9273 ]\n",
      "[epoch: 69] [loss:  1.0057 ] [train_acc:  0.7855 ] [val_acc:  0.7979 ] val_loss: [val_loss  0.9232 ]\n",
      "[epoch: 70] [loss:  0.9930 ] [train_acc:  0.7896 ] [val_acc:  0.7969 ] val_loss: [val_loss  0.9210 ]\n",
      "[epoch: 71] [loss:  0.9920 ] [train_acc:  0.7923 ] [val_acc:  0.7969 ] val_loss: [val_loss  0.9192 ]\n",
      "[epoch: 72] [loss:  0.9842 ] [train_acc:  0.7908 ] [val_acc:  0.7969 ] val_loss: [val_loss  0.9175 ]\n",
      "[epoch: 73] [loss:  0.9801 ] [train_acc:  0.7957 ] [val_acc:  0.7969 ] val_loss: [val_loss  0.9169 ]\n",
      "[epoch: 74] [loss:  0.9782 ] [train_acc:  0.7952 ] [val_acc:  0.7969 ] val_loss: [val_loss  0.9150 ]\n",
      "[epoch: 75] [loss:  0.9756 ] [train_acc:  0.7952 ] [val_acc:  0.7969 ] val_loss: [val_loss  0.9142 ]\n",
      "[epoch: 76] [loss:  0.9655 ] [train_acc:  0.8029 ] [val_acc:  0.7969 ] val_loss: [val_loss  0.9144 ]\n",
      "[epoch: 77] [loss:  0.9648 ] [train_acc:  0.7988 ] [val_acc:  0.7969 ] val_loss: [val_loss  0.9140 ]\n",
      "[epoch: 78] [loss:  0.9694 ] [train_acc:  0.8001 ] [val_acc:  0.7969 ] val_loss: [val_loss  0.9127 ]\n",
      "[epoch: 79] [loss:  0.9669 ] [train_acc:  0.7995 ] [val_acc:  0.7969 ] val_loss: [val_loss  0.9127 ]\n",
      "[epoch: 80] [loss:  0.9621 ] [train_acc:  0.7984 ] [val_acc:  0.7969 ] val_loss: [val_loss  0.9124 ]\n",
      "[epoch: 81] [loss:  0.9549 ] [train_acc:  0.8025 ] [val_acc:  0.8027 ] val_loss: [val_loss  0.9114 ]\n",
      "[epoch: 82] [loss:  0.9561 ] [train_acc:  0.8027 ] [val_acc:  0.7969 ] val_loss: [val_loss  0.9107 ]\n",
      "[epoch: 83] [loss:  0.9519 ] [train_acc:  0.8040 ] [val_acc:  0.7969 ] val_loss: [val_loss  0.9111 ]\n",
      "[epoch: 84] [loss:  0.9506 ] [train_acc:  0.8034 ] [val_acc:  0.7969 ] val_loss: [val_loss  0.9108 ]\n",
      "[epoch: 85] [loss:  0.9496 ] [train_acc:  0.8025 ] [val_acc:  0.7969 ] val_loss: [val_loss  0.9099 ]\n",
      "[epoch: 86] [loss:  0.9475 ] [train_acc:  0.8030 ] [val_acc:  0.7969 ] val_loss: [val_loss  0.9099 ]\n",
      "[epoch: 87] [loss:  0.9465 ] [train_acc:  0.8035 ] [val_acc:  0.7969 ] val_loss: [val_loss  0.9093 ]\n",
      "[epoch: 88] [loss:  0.9440 ] [train_acc:  0.8046 ] [val_acc:  0.7969 ] val_loss: [val_loss  0.9094 ]\n",
      "[epoch: 89] [loss:  0.9434 ] [train_acc:  0.8030 ] [val_acc:  0.7969 ] val_loss: [val_loss  0.9093 ]\n",
      "[epoch: 90] [loss:  0.9398 ] [train_acc:  0.8046 ] [val_acc:  0.7969 ] val_loss: [val_loss  0.9089 ]\n",
      "[epoch: 91] [loss:  0.9411 ] [train_acc:  0.8081 ] [val_acc:  0.7969 ] val_loss: [val_loss  0.9088 ]\n",
      "[epoch: 92] [loss:  0.9398 ] [train_acc:  0.8051 ] [val_acc:  0.7969 ] val_loss: [val_loss  0.9086 ]\n",
      "[epoch: 93] [loss:  0.9398 ] [train_acc:  0.8037 ] [val_acc:  0.7969 ] val_loss: [val_loss  0.9091 ]\n",
      "[epoch: 94] [loss:  0.9394 ] [train_acc:  0.8052 ] [val_acc:  0.7969 ] val_loss: [val_loss  0.9082 ]\n",
      "[epoch: 95] [loss:  0.9386 ] [train_acc:  0.8057 ] [val_acc:  0.7969 ] val_loss: [val_loss  0.9081 ]\n",
      "[epoch: 96] [loss:  0.9355 ] [train_acc:  0.8063 ] [val_acc:  0.7969 ] val_loss: [val_loss  0.9081 ]\n",
      "[epoch: 97] [loss:  0.9358 ] [train_acc:  0.8056 ] [val_acc:  0.7969 ] val_loss: [val_loss  0.9073 ]\n",
      "[epoch: 98] [loss:  0.9405 ] [train_acc:  0.8046 ] [val_acc:  0.7969 ] val_loss: [val_loss  0.9069 ]\n",
      "[epoch: 99] [loss:  0.9345 ] [train_acc:  0.8038 ] [val_acc:  0.7969 ] val_loss: [val_loss  0.9075 ]\n",
      "[epoch: 100] [loss:  0.9344 ] [train_acc:  0.8053 ] [val_acc:  0.7969 ] val_loss: [val_loss  0.9063 ]\n",
      "[epoch: 101] [loss:  0.9325 ] [train_acc:  0.8068 ] [val_acc:  0.7969 ] val_loss: [val_loss  0.9058 ]\n",
      "[epoch: 102] [loss:  0.9328 ] [train_acc:  0.8057 ] [val_acc:  0.7969 ] val_loss: [val_loss  0.9059 ]\n",
      "[epoch: 103] [loss:  0.9292 ] [train_acc:  0.8074 ] [val_acc:  0.7969 ] val_loss: [val_loss  0.9049 ]\n",
      "[epoch: 104] [loss:  0.9299 ] [train_acc:  0.8087 ] [val_acc:  0.7969 ] val_loss: [val_loss  0.9038 ]\n",
      "[epoch: 105] [loss:  0.9371 ] [train_acc:  0.8051 ] [val_acc:  0.7969 ] val_loss: [val_loss  0.9026 ]\n",
      "[epoch: 106] [loss:  0.9326 ] [train_acc:  0.8071 ] [val_acc:  0.8008 ] val_loss: [val_loss  0.9007 ]\n",
      "[epoch: 107] [loss:  0.9302 ] [train_acc:  0.8065 ] [val_acc:  0.7969 ] val_loss: [val_loss  0.9002 ]\n",
      "[epoch: 108] [loss:  0.9300 ] [train_acc:  0.8098 ] [val_acc:  0.8037 ] val_loss: [val_loss  0.8959 ]\n",
      "[epoch: 109] [loss:  0.9230 ] [train_acc:  0.8131 ] [val_acc:  0.8145 ] val_loss: [val_loss  0.8900 ]\n",
      "[epoch: 110] [loss:  0.9213 ] [train_acc:  0.8141 ] [val_acc:  0.8262 ] val_loss: [val_loss  0.8827 ]\n",
      "[epoch: 111] [loss:  0.9192 ] [train_acc:  0.8182 ] [val_acc:  0.8262 ] val_loss: [val_loss  0.8750 ]\n",
      "[epoch: 112] [loss:  0.9135 ] [train_acc:  0.8217 ] [val_acc:  0.8428 ] val_loss: [val_loss  0.8671 ]\n",
      "[epoch: 113] [loss:  0.9117 ] [train_acc:  0.8245 ] [val_acc:  0.8428 ] val_loss: [val_loss  0.8565 ]\n",
      "[epoch: 114] [loss:  0.9063 ] [train_acc:  0.8277 ] [val_acc:  0.8447 ] val_loss: [val_loss  0.8495 ]\n",
      "[epoch: 115] [loss:  0.9044 ] [train_acc:  0.8315 ] [val_acc:  0.8594 ] val_loss: [val_loss  0.8488 ]\n",
      "[epoch: 116] [loss:  0.8977 ] [train_acc:  0.8340 ] [val_acc:  0.8457 ] val_loss: [val_loss  0.8466 ]\n",
      "[epoch: 117] [loss:  0.8934 ] [train_acc:  0.8379 ] [val_acc:  0.8457 ] val_loss: [val_loss  0.8447 ]\n",
      "[epoch: 118] [loss:  0.8924 ] [train_acc:  0.8386 ] [val_acc:  0.8457 ] val_loss: [val_loss  0.8445 ]\n",
      "[epoch: 119] [loss:  0.8899 ] [train_acc:  0.8410 ] [val_acc:  0.8457 ] val_loss: [val_loss  0.8428 ]\n",
      "[epoch: 120] [loss:  0.8844 ] [train_acc:  0.8428 ] [val_acc:  0.8457 ] val_loss: [val_loss  0.8430 ]\n",
      "[epoch: 121] [loss:  0.8797 ] [train_acc:  0.8449 ] [val_acc:  0.8457 ] val_loss: [val_loss  0.8434 ]\n",
      "[epoch: 122] [loss:  0.8769 ] [train_acc:  0.8456 ] [val_acc:  0.8457 ] val_loss: [val_loss  0.8424 ]\n",
      "[epoch: 123] [loss:  0.8784 ] [train_acc:  0.8457 ] [val_acc:  0.8457 ] val_loss: [val_loss  0.8424 ]\n",
      "[epoch: 124] [loss:  0.8779 ] [train_acc:  0.8460 ] [val_acc:  0.8457 ] val_loss: [val_loss  0.8415 ]\n",
      "[epoch: 125] [loss:  0.8872 ] [train_acc:  0.8422 ] [val_acc:  0.8457 ] val_loss: [val_loss  0.8410 ]\n",
      "[epoch: 126] [loss:  0.8822 ] [train_acc:  0.8439 ] [val_acc:  0.8457 ] val_loss: [val_loss  0.8412 ]\n",
      "[epoch: 127] [loss:  0.8742 ] [train_acc:  0.8449 ] [val_acc:  0.8457 ] val_loss: [val_loss  0.8408 ]\n",
      "[epoch: 128] [loss:  0.8729 ] [train_acc:  0.8469 ] [val_acc:  0.8457 ] val_loss: [val_loss  0.8408 ]\n",
      "[epoch: 129] [loss:  0.8714 ] [train_acc:  0.8480 ] [val_acc:  0.8457 ] val_loss: [val_loss  0.8408 ]\n",
      "[epoch: 130] [loss:  0.8691 ] [train_acc:  0.8475 ] [val_acc:  0.8457 ] val_loss: [val_loss  0.8406 ]\n",
      "[epoch: 131] [loss:  0.8677 ] [train_acc:  0.8475 ] [val_acc:  0.8457 ] val_loss: [val_loss  0.8397 ]\n",
      "[epoch: 132] [loss:  0.8688 ] [train_acc:  0.8469 ] [val_acc:  0.8457 ] val_loss: [val_loss  0.8396 ]\n",
      "[epoch: 133] [loss:  0.8658 ] [train_acc:  0.8488 ] [val_acc:  0.8457 ] val_loss: [val_loss  0.8398 ]\n",
      "[epoch: 134] [loss:  0.8656 ] [train_acc:  0.8481 ] [val_acc:  0.8457 ] val_loss: [val_loss  0.8397 ]\n",
      "[epoch: 135] [loss:  0.8657 ] [train_acc:  0.8482 ] [val_acc:  0.8457 ] val_loss: [val_loss  0.8388 ]\n",
      "[epoch: 136] [loss:  0.8651 ] [train_acc:  0.8486 ] [val_acc:  0.8457 ] val_loss: [val_loss  0.8390 ]\n",
      "[epoch: 137] [loss:  0.8668 ] [train_acc:  0.8480 ] [val_acc:  0.8457 ] val_loss: [val_loss  0.8386 ]\n",
      "[epoch: 138] [loss:  0.8653 ] [train_acc:  0.8477 ] [val_acc:  0.8457 ] val_loss: [val_loss  0.8385 ]\n",
      "[epoch: 139] [loss:  0.8699 ] [train_acc:  0.8461 ] [val_acc:  0.8457 ] val_loss: [val_loss  0.8394 ]\n",
      "[epoch: 140] [loss:  0.8644 ] [train_acc:  0.8482 ] [val_acc:  0.8457 ] val_loss: [val_loss  0.8384 ]\n",
      "[epoch: 141] [loss:  0.8628 ] [train_acc:  0.8490 ] [val_acc:  0.8457 ] val_loss: [val_loss  0.8385 ]\n",
      "[epoch: 142] [loss:  0.8604 ] [train_acc:  0.8499 ] [val_acc:  0.8457 ] val_loss: [val_loss  0.8383 ]\n",
      "[epoch: 143] [loss:  0.8615 ] [train_acc:  0.8494 ] [val_acc:  0.8457 ] val_loss: [val_loss  0.8380 ]\n",
      "[epoch: 144] [loss:  0.8625 ] [train_acc:  0.8495 ] [val_acc:  0.8457 ] val_loss: [val_loss  0.8376 ]\n",
      "[epoch: 145] [loss:  0.8628 ] [train_acc:  0.8487 ] [val_acc:  0.8457 ] val_loss: [val_loss  0.8381 ]\n",
      "[epoch: 146] [loss:  0.8626 ] [train_acc:  0.8492 ] [val_acc:  0.8457 ] val_loss: [val_loss  0.8380 ]\n",
      "[epoch: 147] [loss:  0.8634 ] [train_acc:  0.8486 ] [val_acc:  0.8457 ] val_loss: [val_loss  0.8377 ]\n",
      "[epoch: 148] [loss:  0.8622 ] [train_acc:  0.8486 ] [val_acc:  0.8457 ] val_loss: [val_loss  0.8374 ]\n",
      "[epoch: 149] [loss:  0.8594 ] [train_acc:  0.8493 ] [val_acc:  0.8457 ] val_loss: [val_loss  0.8375 ]\n",
      "[epoch: 150] [loss:  0.8605 ] [train_acc:  0.8495 ] [val_acc:  0.8457 ] val_loss: [val_loss  0.8374 ]\n",
      "[epoch: 151] [loss:  0.8580 ] [train_acc:  0.8494 ] [val_acc:  0.8457 ] val_loss: [val_loss  0.8371 ]\n",
      "[epoch: 152] [loss:  0.8605 ] [train_acc:  0.8497 ] [val_acc:  0.8457 ] val_loss: [val_loss  0.8374 ]\n",
      "[epoch: 153] [loss:  0.8575 ] [train_acc:  0.8500 ] [val_acc:  0.8457 ] val_loss: [val_loss  0.8372 ]\n",
      "[epoch: 154] [loss:  0.8566 ] [train_acc:  0.8499 ] [val_acc:  0.8457 ] val_loss: [val_loss  0.8371 ]\n",
      "[epoch: 155] [loss:  0.8590 ] [train_acc:  0.8499 ] [val_acc:  0.8457 ] val_loss: [val_loss  0.8371 ]\n",
      "[epoch: 156] [loss:  0.8607 ] [train_acc:  0.8492 ] [val_acc:  0.8457 ] val_loss: [val_loss  0.8370 ]\n",
      "[epoch: 157] [loss:  0.8571 ] [train_acc:  0.8501 ] [val_acc:  0.8457 ] val_loss: [val_loss  0.8372 ]\n",
      "[epoch: 158] [loss:  0.8562 ] [train_acc:  0.8505 ] [val_acc:  0.8457 ] val_loss: [val_loss  0.8371 ]\n",
      "[epoch: 159] [loss:  0.8546 ] [train_acc:  0.8509 ] [val_acc:  0.8457 ] val_loss: [val_loss  0.8371 ]\n",
      "[epoch: 160] [loss:  0.8559 ] [train_acc:  0.8511 ] [val_acc:  0.8457 ] val_loss: [val_loss  0.8370 ]\n",
      "[epoch: 161] [loss:  0.8549 ] [train_acc:  0.8508 ] [val_acc:  0.8457 ] val_loss: [val_loss  0.8369 ]\n",
      "[epoch: 162] [loss:  0.8542 ] [train_acc:  0.8507 ] [val_acc:  0.8457 ] val_loss: [val_loss  0.8370 ]\n",
      "[epoch: 163] [loss:  0.8569 ] [train_acc:  0.8499 ] [val_acc:  0.8457 ] val_loss: [val_loss  0.8371 ]\n",
      "[epoch: 164] [loss:  0.8560 ] [train_acc:  0.8504 ] [val_acc:  0.8457 ] val_loss: [val_loss  0.8369 ]\n",
      "[epoch: 165] [loss:  0.8538 ] [train_acc:  0.8512 ] [val_acc:  0.8457 ] val_loss: [val_loss  0.8370 ]\n",
      "[epoch: 166] [loss:  0.8527 ] [train_acc:  0.8510 ] [val_acc:  0.8457 ] val_loss: [val_loss  0.8369 ]\n",
      "[epoch: 167] [loss:  0.8550 ] [train_acc:  0.8503 ] [val_acc:  0.8457 ] val_loss: [val_loss  0.8368 ]\n",
      "[epoch: 168] [loss:  0.8579 ] [train_acc:  0.8496 ] [val_acc:  0.8457 ] val_loss: [val_loss  0.8371 ]\n",
      "[epoch: 169] [loss:  0.8538 ] [train_acc:  0.8510 ] [val_acc:  0.8457 ] val_loss: [val_loss  0.8369 ]\n",
      "[epoch: 170] [loss:  0.8536 ] [train_acc:  0.8505 ] [val_acc:  0.8457 ] val_loss: [val_loss  0.8367 ]\n",
      "[epoch: 171] [loss:  0.8556 ] [train_acc:  0.8504 ] [val_acc:  0.8457 ] val_loss: [val_loss  0.8368 ]\n",
      "[epoch: 172] [loss:  0.8538 ] [train_acc:  0.8507 ] [val_acc:  0.8457 ] val_loss: [val_loss  0.8366 ]\n",
      "[epoch: 173] [loss:  0.8540 ] [train_acc:  0.8509 ] [val_acc:  0.8457 ] val_loss: [val_loss  0.8372 ]\n",
      "[epoch: 174] [loss:  0.8572 ] [train_acc:  0.8497 ] [val_acc:  0.8457 ] val_loss: [val_loss  0.8365 ]\n",
      "[epoch: 175] [loss:  0.8728 ] [train_acc:  0.8460 ] [val_acc:  0.8457 ] val_loss: [val_loss  0.8366 ]\n",
      "[epoch: 176] [loss:  0.8614 ] [train_acc:  0.8487 ] [val_acc:  0.8457 ] val_loss: [val_loss  0.8372 ]\n",
      "[epoch: 177] [loss:  0.8598 ] [train_acc:  0.8498 ] [val_acc:  0.8457 ] val_loss: [val_loss  0.8366 ]\n",
      "[epoch: 178] [loss:  0.8572 ] [train_acc:  0.8497 ] [val_acc:  0.8457 ] val_loss: [val_loss  0.8367 ]\n",
      "[epoch: 179] [loss:  0.8545 ] [train_acc:  0.8510 ] [val_acc:  0.8457 ] val_loss: [val_loss  0.8367 ]\n",
      "[epoch: 180] [loss:  0.8535 ] [train_acc:  0.8510 ] [val_acc:  0.8457 ] val_loss: [val_loss  0.8365 ]\n",
      "[epoch: 181] [loss:  0.8524 ] [train_acc:  0.8512 ] [val_acc:  0.8457 ] val_loss: [val_loss  0.8366 ]\n",
      "[epoch: 182] [loss:  0.8514 ] [train_acc:  0.8513 ] [val_acc:  0.8457 ] val_loss: [val_loss  0.8368 ]\n",
      "[epoch: 183] [loss:  0.8530 ] [train_acc:  0.8507 ] [val_acc:  0.8457 ] val_loss: [val_loss  0.8363 ]\n",
      "[epoch: 184] [loss:  0.8541 ] [train_acc:  0.8507 ] [val_acc:  0.8457 ] val_loss: [val_loss  0.8366 ]\n",
      "[epoch: 185] [loss:  0.8563 ] [train_acc:  0.8504 ] [val_acc:  0.8457 ] val_loss: [val_loss  0.8366 ]\n",
      "[epoch: 186] [loss:  0.8525 ] [train_acc:  0.8507 ] [val_acc:  0.8457 ] val_loss: [val_loss  0.8364 ]\n",
      "[epoch: 187] [loss:  0.8516 ] [train_acc:  0.8514 ] [val_acc:  0.8457 ] val_loss: [val_loss  0.8366 ]\n",
      "[epoch: 188] [loss:  0.8524 ] [train_acc:  0.8511 ] [val_acc:  0.8457 ] val_loss: [val_loss  0.8364 ]\n",
      "[epoch: 189] [loss:  0.8502 ] [train_acc:  0.8516 ] [val_acc:  0.8457 ] val_loss: [val_loss  0.8366 ]\n",
      "[epoch: 190] [loss:  0.8523 ] [train_acc:  0.8512 ] [val_acc:  0.8457 ] val_loss: [val_loss  0.8364 ]\n",
      "[epoch: 191] [loss:  0.8510 ] [train_acc:  0.8510 ] [val_acc:  0.8457 ] val_loss: [val_loss  0.8364 ]\n",
      "[epoch: 192] [loss:  0.8534 ] [train_acc:  0.8509 ] [val_acc:  0.8457 ] val_loss: [val_loss  0.8365 ]\n",
      "[epoch: 193] [loss:  0.8501 ] [train_acc:  0.8516 ] [val_acc:  0.8457 ] val_loss: [val_loss  0.8364 ]\n",
      "[epoch: 194] [loss:  0.8513 ] [train_acc:  0.8514 ] [val_acc:  0.8457 ] val_loss: [val_loss  0.8363 ]\n",
      "[epoch: 195] [loss:  0.8578 ] [train_acc:  0.8503 ] [val_acc:  0.8457 ] val_loss: [val_loss  0.8366 ]\n",
      "[epoch: 196] [loss:  0.8521 ] [train_acc:  0.8515 ] [val_acc:  0.8457 ] val_loss: [val_loss  0.8366 ]\n",
      "[epoch: 197] [loss:  0.8522 ] [train_acc:  0.8513 ] [val_acc:  0.8457 ] val_loss: [val_loss  0.8366 ]\n",
      "[epoch: 198] [loss:  0.8510 ] [train_acc:  0.8510 ] [val_acc:  0.8457 ] val_loss: [val_loss  0.8368 ]\n",
      "[epoch: 199] [loss:  0.8538 ] [train_acc:  0.8506 ] [val_acc:  0.8457 ] val_loss: [val_loss  0.8364 ]\n",
      "[epoch: 200] [loss:  0.8519 ] [train_acc:  0.8515 ] [val_acc:  0.8457 ] val_loss: [val_loss  0.8363 ]\n"
     ]
    }
   ],
   "source": [
    "# model.load_state_dict(torch.load()))\n",
    "# model.to(DEVICE)\n",
    "trained_model = train(\n",
    "    model,\n",
    "    train_loader,\n",
    "    valid_loader,\n",
    "    loss_func,\n",
    "    num_epochs,\n",
    "    lr = lr,\n",
    "    batch_size=BATCH_SIZE,\n",
    "    warmup_interval=warmup_interval,\n",
    "    device=DEVICE\n",
    ")\n",
    "weights_path = os.path.join('/kaggle/working/', \"transformer.pt\")\n",
    "torch.save(trained_model.state_dict(), weights_path)"
   ]
  },
  {
   "cell_type": "code",
   "execution_count": 35,
   "id": "fe902bfa",
   "metadata": {
    "execution": {
     "iopub.execute_input": "2024-05-03T07:56:08.059801Z",
     "iopub.status.busy": "2024-05-03T07:56:08.058834Z",
     "iopub.status.idle": "2024-05-03T07:56:08.214961Z",
     "shell.execute_reply": "2024-05-03T07:56:08.213928Z"
    },
    "papermill": {
     "duration": 0.201649,
     "end_time": "2024-05-03T07:56:08.216922",
     "exception": false,
     "start_time": "2024-05-03T07:56:08.015273",
     "status": "completed"
    },
    "tags": []
   },
   "outputs": [
    {
     "name": "stdout",
     "output_type": "stream",
     "text": [
      "Final Model accuracy:  0.85\n"
     ]
    }
   ],
   "source": [
    "#Final test accuracy\n",
    "print(\n",
    "    \"Final Model accuracy: \",\n",
    "    \"{:.2f}\".format(\n",
    "        val(\n",
    "            trained_model, test_loader, CrossEntropyLoss, 4, device=DEVICE\n",
    "        )[1]\n",
    "    ),\n",
    ")\n",
    "\n",
    "# model.load_state_dict(torch.load(weights_path))\n",
    "# model.to(DEVICE)"
   ]
  },
  {
   "cell_type": "markdown",
   "id": "5011d85e",
   "metadata": {
    "papermill": {
     "duration": 0.040547,
     "end_time": "2024-05-03T07:56:08.298716",
     "exception": false,
     "start_time": "2024-05-03T07:56:08.258169",
     "status": "completed"
    },
    "tags": []
   },
   "source": [
    "请自行调节模型训练的超参数、优化器等，使得模型在测试集上的准确率尽可能高。\n",
    "\n",
    "分段给分（计分时准确率四舍五入保留到小数点后2位，例如0.623计为0.62）：\n",
    "\n",
    "| Baseline  | Accuracy        | Score  |\n",
    "| :---:     |    :----:       |  :---: |\n",
    "| Vallina   | \\[0.50, 0.63\\]  |   12   |\n",
    "| Simple    | [0.63, 0.70\\)   |   14   |\n",
    "| Medium    | [0.70, 0.74\\)   |   16   |\n",
    "| Hard      | [0.74, 0.80\\)   |   20   |\n",
    "| Strong    | [0.80, 1.00\\)   |   25   |"
   ]
  },
  {
   "cell_type": "markdown",
   "id": "c6afc9b9",
   "metadata": {
    "id": "c19615d0-9b82-42ac-ba28-e079ca96aed2",
    "papermill": {
     "duration": 0.052815,
     "end_time": "2024-05-03T07:56:08.392298",
     "exception": false,
     "start_time": "2024-05-03T07:56:08.339483",
     "status": "completed"
    },
    "tags": []
   },
   "source": [
    "## 可视化与推断：模型展示"
   ]
  },
  {
   "cell_type": "markdown",
   "id": "3301241e",
   "metadata": {
    "id": "3f413c17-ede5-4d4d-a1fa-54458ca948c5",
    "papermill": {
     "duration": 0.045306,
     "end_time": "2024-05-03T07:56:08.492313",
     "exception": false,
     "start_time": "2024-05-03T07:56:08.447007",
     "status": "completed"
    },
    "tags": []
   },
   "source": [
    "既然我们已经训练了一个模型，让我们来看看最终的结果。我们将首先查看来自验证数据的结果，并可视化注意力权重（记住self.weights_softmax吗？）。这些注意力权重应该让你对网络学习到了什么有一些直觉。我们已经为您实现了所有内容，意图是帮助您探索模型并了解网络学习到了什么。"
   ]
  },
  {
   "cell_type": "code",
   "execution_count": 36,
   "id": "633c6d9b",
   "metadata": {
    "execution": {
     "iopub.execute_input": "2024-05-03T07:56:08.585097Z",
     "iopub.status.busy": "2024-05-03T07:56:08.584724Z",
     "iopub.status.idle": "2024-05-03T07:56:08.592970Z",
     "shell.execute_reply": "2024-05-03T07:56:08.591952Z"
    },
    "id": "c39117ef-da8b-4fb0-904b-c5c4c37fc800",
    "papermill": {
     "duration": 0.054028,
     "end_time": "2024-05-03T07:56:08.594859",
     "exception": false,
     "start_time": "2024-05-03T07:56:08.540831",
     "status": "completed"
    },
    "tags": []
   },
   "outputs": [],
   "source": [
    "def inference(model, inp_exp, inp_exp_pos, out_pos_exp, out_seq_len):\n",
    "    model.eval()\n",
    "    y_init = torch.LongTensor([14]).unsqueeze(0).cuda().view(1, 1)\n",
    "\n",
    "    ques_emb = model.emb_layer(inp_exp)\n",
    "    q_emb_inp = ques_emb + inp_exp_pos\n",
    "    enc_out = model.encoder(q_emb_inp)\n",
    "    for i in range(out_seq_len - 1):\n",
    "        ans_emb = model.emb_layer(y_init)\n",
    "        a_emb_inp = ans_emb + out_pos_exp[:, : y_init.shape[1], :]\n",
    "        dec_out = model.decoder(a_emb_inp, enc_out, None)\n",
    "        _, next_word = torch.max(\n",
    "            dec_out[0, y_init.shape[1] - 1 : y_init.shape[1]], dim=1\n",
    "        )\n",
    "\n",
    "        y_init = torch.cat([y_init, next_word.view(1, 1)], dim=1)\n",
    "    return y_init, model"
   ]
  },
  {
   "cell_type": "markdown",
   "id": "af7c0e95",
   "metadata": {
    "id": "137296b8-8ab8-4f9d-bff5-e2584370a757",
    "papermill": {
     "duration": 0.043118,
     "end_time": "2024-05-03T07:56:08.688530",
     "exception": false,
     "start_time": "2024-05-03T07:56:08.645412",
     "status": "completed"
    },
    "tags": []
   },
   "source": [
    "### 验证数据的结果\n",
    "\n",
    "在下面的单元格中，我们选择验证数据中的第一个数据点，并找到其结果。"
   ]
  },
  {
   "cell_type": "code",
   "execution_count": 37,
   "id": "3615cefd",
   "metadata": {
    "execution": {
     "iopub.execute_input": "2024-05-03T07:56:08.781744Z",
     "iopub.status.busy": "2024-05-03T07:56:08.781358Z",
     "iopub.status.idle": "2024-05-03T07:56:08.910180Z",
     "shell.execute_reply": "2024-05-03T07:56:08.909012Z"
    },
    "id": "37c01cc4-96b0-4a4e-a820-64e5c2dd5549",
    "papermill": {
     "duration": 0.181947,
     "end_time": "2024-05-03T07:56:08.912977",
     "exception": false,
     "start_time": "2024-05-03T07:56:08.731030",
     "status": "completed"
    },
    "tags": []
   },
   "outputs": [
    {
     "name": "stdout",
     "output_type": "stream",
     "text": [
      "Input sequence: \n",
      " BOS POSITIVE 28 add POSITIVE 16 EOS\n"
     ]
    }
   ],
   "source": [
    "for it in valid_loader:\n",
    "    it\n",
    "    break\n",
    "inp, inp_pos, out, out_pos = it\n",
    "opposite_tokens_to_str = {v: k for k, v in convert_str_to_tokens.items()}\n",
    "device = torch.device(\"cuda\")\n",
    "model = model.to(device)\n",
    "inp_pos = inp_pos.to(device)\n",
    "out_pos = out_pos.to(device)\n",
    "out = out.to(device)\n",
    "inp = inp.to(device)\n",
    "\n",
    "inp_exp = inp[:1, :]\n",
    "inp_exp_pos = inp_pos[:1]\n",
    "out_pos_exp = out_pos[:1, :]\n",
    "inp_seq = [opposite_tokens_to_str[w.item()] for w in inp_exp[0]]\n",
    "print(\n",
    "    \"Input sequence: \\n\",\n",
    "    inp_seq[0]\n",
    "    + \" \"\n",
    "    + inp_seq[1]\n",
    "    + \" \"\n",
    "    + inp_seq[2]\n",
    "    + inp_seq[3]\n",
    "    + \" \"\n",
    "    + inp_seq[4]\n",
    "    + \" \"\n",
    "    + inp_seq[5]\n",
    "    + \" \"\n",
    "    + inp_seq[6]\n",
    "    + inp_seq[7]\n",
    "    + \" \"\n",
    "    + inp_seq[8],\n",
    ")"
   ]
  },
  {
   "cell_type": "code",
   "execution_count": 38,
   "id": "5a478833",
   "metadata": {
    "execution": {
     "iopub.execute_input": "2024-05-03T07:56:09.022374Z",
     "iopub.status.busy": "2024-05-03T07:56:09.021188Z",
     "iopub.status.idle": "2024-05-03T07:56:09.134633Z",
     "shell.execute_reply": "2024-05-03T07:56:09.133621Z"
    },
    "id": "ab535f1d-3be0-40ef-a0fd-8fca2fae2414",
    "papermill": {
     "duration": 0.161591,
     "end_time": "2024-05-03T07:56:09.137162",
     "exception": false,
     "start_time": "2024-05-03T07:56:08.975571",
     "status": "completed"
    },
    "tags": []
   },
   "outputs": [
    {
     "name": "stdout",
     "output_type": "stream",
     "text": [
      "Output Sequence:\tBOS 3 6 0 \n"
     ]
    }
   ],
   "source": [
    "out_seq_ans, _ = inference(\n",
    "    trained_model, inp_exp, inp_exp_pos, out_pos_exp, out_seq_len\n",
    ")\n",
    "\n",
    "trained_model.eval()\n",
    "\n",
    "print(\"Output Sequence:\", end=\"\\t\")\n",
    "res = \"BOS \"\n",
    "for i in range(1, out_seq_ans.size(1)):\n",
    "    sym = opposite_tokens_to_str[out_seq_ans[0, i].item()]\n",
    "    if sym == \"EOS\":\n",
    "        break\n",
    "    res += sym + \" \" \n",
    "print(res)"
   ]
  },
  {
   "cell_type": "markdown",
   "id": "e567c788",
   "metadata": {
    "id": "3412c073-d239-450a-aa46-9ec3d61309a6",
    "papermill": {
     "duration": 0.042926,
     "end_time": "2024-05-03T07:56:09.222955",
     "exception": false,
     "start_time": "2024-05-03T07:56:09.180029",
     "status": "completed"
    },
    "tags": []
   },
   "source": [
    "### 选择您自己的探索示例\n",
    "\n",
    "在下面的单元格中，您可以输入一个示例到输入样式中，更改变量 `custom_seq`。我们已经为您填写了一个占位表达式，但随意更改它。"
   ]
  },
  {
   "cell_type": "code",
   "execution_count": 39,
   "id": "bde7cb61",
   "metadata": {
    "execution": {
     "iopub.execute_input": "2024-05-03T07:56:09.309626Z",
     "iopub.status.busy": "2024-05-03T07:56:09.309278Z",
     "iopub.status.idle": "2024-05-03T07:56:09.313630Z",
     "shell.execute_reply": "2024-05-03T07:56:09.312785Z"
    },
    "id": "d7d2f3b1-ba94-4ccf-84e3-f3238059f25d",
    "papermill": {
     "duration": 0.049895,
     "end_time": "2024-05-03T07:56:09.315604",
     "exception": false,
     "start_time": "2024-05-03T07:56:09.265709",
     "status": "completed"
    },
    "tags": []
   },
   "outputs": [],
   "source": [
    "custom_seq = \"BOS POSITIVE 02 subtract NEGATIVE 07 EOS\""
   ]
  },
  {
   "cell_type": "code",
   "execution_count": 40,
   "id": "afef2d0e",
   "metadata": {
    "execution": {
     "iopub.execute_input": "2024-05-03T07:56:09.402463Z",
     "iopub.status.busy": "2024-05-03T07:56:09.402054Z",
     "iopub.status.idle": "2024-05-03T07:56:09.471339Z",
     "shell.execute_reply": "2024-05-03T07:56:09.470301Z"
    },
    "id": "3caa768d-f61f-4ee4-8e87-259043e93cdb",
    "papermill": {
     "duration": 0.115533,
     "end_time": "2024-05-03T07:56:09.473268",
     "exception": false,
     "start_time": "2024-05-03T07:56:09.357735",
     "status": "completed"
    },
    "tags": []
   },
   "outputs": [
    {
     "name": "stdout",
     "output_type": "stream",
     "text": [
      "Output Sequence:\tBOS 3 6 0 \n"
     ]
    }
   ],
   "source": [
    "out = prepocess_input_sequence(custom_seq, convert_str_to_tokens, SPECIAL_TOKENS)\n",
    "inp_exp = torch.tensor(out).to(DEVICE)\n",
    "\n",
    "out_seq_ans, model_for_visv = inference(\n",
    "    trained_model, inp_exp, inp_exp_pos, out_pos_exp, out_seq_len\n",
    ")\n",
    "\n",
    "trained_model.eval()\n",
    "\n",
    "print(\"Output Sequence:\", end=\"\\t\")\n",
    "res = \"BOS \"\n",
    "for i in range(1, out_seq_ans.size(1)):\n",
    "    sym = opposite_tokens_to_str[out_seq_ans[0, i].item()]\n",
    "    if sym == \"EOS\":\n",
    "        break\n",
    "    res += sym + \" \"\n",
    "print(res)"
   ]
  },
  {
   "cell_type": "markdown",
   "id": "8866cc75",
   "metadata": {
    "id": "0b9ae8cd-2813-4845-a4df-d47ebdc60971",
    "papermill": {
     "duration": 0.042212,
     "end_time": "2024-05-03T07:56:09.557629",
     "exception": false,
     "start_time": "2024-05-03T07:56:09.515417",
     "status": "completed"
    },
    "tags": []
   },
   "source": [
    "### 可视化注意力权重\n",
    "\n",
    "在这部分中，我们将为您输入的特定自定义输入可视化注意力权重。编码器和解码器有单独的热图。颜色中的较浅值显示了该行和列中存在的令牌之间的较高关联，而较暗的颜色则显示它们之间的关系较弱。"
   ]
  },
  {
   "cell_type": "code",
   "execution_count": 41,
   "id": "197dfdb8",
   "metadata": {
    "execution": {
     "iopub.execute_input": "2024-05-03T07:56:09.644528Z",
     "iopub.status.busy": "2024-05-03T07:56:09.644231Z",
     "iopub.status.idle": "2024-05-03T07:56:09.648959Z",
     "shell.execute_reply": "2024-05-03T07:56:09.648116Z"
    },
    "id": "8e82ff56-d55b-45b7-8507-514ee5968ed5",
    "papermill": {
     "duration": 0.049375,
     "end_time": "2024-05-03T07:56:09.650798",
     "exception": false,
     "start_time": "2024-05-03T07:56:09.601423",
     "status": "completed"
    },
    "tags": []
   },
   "outputs": [],
   "source": [
    "def draw(data, x, y, ax):\n",
    "    seaborn.heatmap(\n",
    "        data,\n",
    "        xticklabels=x,\n",
    "        square=True,\n",
    "        yticklabels=y,\n",
    "        vmin=0.0,\n",
    "        vmax=1.0,\n",
    "        cbar=False,\n",
    "        ax=ax,\n",
    "    )"
   ]
  },
  {
   "cell_type": "code",
   "execution_count": 42,
   "id": "b01da727",
   "metadata": {
    "execution": {
     "iopub.execute_input": "2024-05-03T07:56:09.735409Z",
     "iopub.status.busy": "2024-05-03T07:56:09.735133Z",
     "iopub.status.idle": "2024-05-03T07:56:09.739010Z",
     "shell.execute_reply": "2024-05-03T07:56:09.738194Z"
    },
    "id": "db22789f",
    "papermill": {
     "duration": 0.048362,
     "end_time": "2024-05-03T07:56:09.740798",
     "exception": false,
     "start_time": "2024-05-03T07:56:09.692436",
     "status": "completed"
    },
    "tags": []
   },
   "outputs": [],
   "source": [
    "target_exp = res.split()"
   ]
  },
  {
   "cell_type": "code",
   "execution_count": 43,
   "id": "16eb29ed",
   "metadata": {
    "execution": {
     "iopub.execute_input": "2024-05-03T07:56:09.826663Z",
     "iopub.status.busy": "2024-05-03T07:56:09.826388Z",
     "iopub.status.idle": "2024-05-03T07:56:13.393645Z",
     "shell.execute_reply": "2024-05-03T07:56:13.392609Z"
    },
    "id": "9cae7e26-2587-4297-a44c-c59ab541dfc8",
    "papermill": {
     "duration": 3.613123,
     "end_time": "2024-05-03T07:56:13.396002",
     "exception": false,
     "start_time": "2024-05-03T07:56:09.782879",
     "status": "completed"
    },
    "tags": []
   },
   "outputs": [
    {
     "name": "stdout",
     "output_type": "stream",
     "text": [
      "Encoder Block Number 1\n"
     ]
    },
    {
     "data": {
      "image/png": "[encoded data removed]",
      "text/plain": [
       "<Figure size 2000x1000 with 4 Axes>"
      ]
     },
     "metadata": {},
     "output_type": "display_data"
    },
    {
     "name": "stdout",
     "output_type": "stream",
     "text": [
      "Encoder Block Number 2\n"
     ]
    },
    {
     "data": {
      "image/png": "[encoded data removed]",
      "text/plain": [
       "<Figure size 2000x1000 with 4 Axes>"
      ]
     },
     "metadata": {},
     "output_type": "display_data"
    },
    {
     "name": "stdout",
     "output_type": "stream",
     "text": [
      "Encoder Block Number 3\n"
     ]
    },
    {
     "data": {
      "image/png": "[encoded data removed]",
      "text/plain": [
       "<Figure size 2000x1000 with 4 Axes>"
      ]
     },
     "metadata": {},
     "output_type": "display_data"
    },
    {
     "name": "stdout",
     "output_type": "stream",
     "text": [
      "Encoder Block Number 4\n"
     ]
    },
    {
     "data": {
      "image/png": "[encoded data removed]",
      "text/plain": [
       "<Figure size 2000x1000 with 4 Axes>"
      ]
     },
     "metadata": {},
     "output_type": "display_data"
    }
   ],
   "source": [
    "for layer in range(num_enc_layers):\n",
    "    fig, axs = plt.subplots(1, num_heads, figsize=(20, 10))\n",
    "    print(\"Encoder Block Number\", layer + 1)\n",
    "    for h in range(num_heads):\n",
    "        draw(\n",
    "            trained_model.encoder.layers[layer]\n",
    "            .multihead_attention.heads[h]\n",
    "            .weights_softmax.data.cpu()\n",
    "            .numpy()[0],\n",
    "            inp_seq,\n",
    "            inp_seq if h == 0 else [],\n",
    "            ax=axs[h],\n",
    "        )\n",
    "    plt.show()\n",
    "plt.close()\n"
   ]
  },
  {
   "cell_type": "code",
   "execution_count": 44,
   "id": "5107615d",
   "metadata": {
    "execution": {
     "iopub.execute_input": "2024-05-03T07:56:13.489226Z",
     "iopub.status.busy": "2024-05-03T07:56:13.488643Z",
     "iopub.status.idle": "2024-05-03T07:56:19.144310Z",
     "shell.execute_reply": "2024-05-03T07:56:19.143385Z"
    },
    "id": "be6ba6cb",
    "papermill": {
     "duration": 5.704052,
     "end_time": "2024-05-03T07:56:19.146195",
     "exception": false,
     "start_time": "2024-05-03T07:56:13.442143",
     "status": "completed"
    },
    "tags": []
   },
   "outputs": [
    {
     "name": "stdout",
     "output_type": "stream",
     "text": [
      "Decoder Block number  1\n",
      "Decoder Self Attention 1\n"
     ]
    },
    {
     "data": {
      "image/png": "[encoded data removed]",
      "text/plain": [
       "<Figure size 2000x1000 with 4 Axes>"
      ]
     },
     "metadata": {},
     "output_type": "display_data"
    },
    {
     "name": "stdout",
     "output_type": "stream",
     "text": [
      "Decoder Cross attention 1\n"
     ]
    },
    {
     "data": {
      "image/png": "[encoded data removed]",
      "text/plain": [
       "<Figure size 2000x1000 with 4 Axes>"
      ]
     },
     "metadata": {},
     "output_type": "display_data"
    },
    {
     "name": "stdout",
     "output_type": "stream",
     "text": [
      "Decoder Block number  2\n",
      "Decoder Self Attention 2\n"
     ]
    },
    {
     "data": {
      "image/png": "[encoded data removed]",
      "text/plain": [
       "<Figure size 2000x1000 with 4 Axes>"
      ]
     },
     "metadata": {},
     "output_type": "display_data"
    },
    {
     "name": "stdout",
     "output_type": "stream",
     "text": [
      "Decoder Cross attention 2\n"
     ]
    },
    {
     "data": {
      "image/png": "[encoded data removed]",
      "text/plain": [
       "<Figure size 2000x1000 with 4 Axes>"
      ]
     },
     "metadata": {},
     "output_type": "display_data"
    },
    {
     "name": "stdout",
     "output_type": "stream",
     "text": [
      "Decoder Block number  3\n",
      "Decoder Self Attention 3\n"
     ]
    },
    {
     "data": {
      "image/png": "[encoded data removed]",
      "text/plain": [
       "<Figure size 2000x1000 with 4 Axes>"
      ]
     },
     "metadata": {},
     "output_type": "display_data"
    },
    {
     "name": "stdout",
     "output_type": "stream",
     "text": [
      "Decoder Cross attention 3\n"
     ]
    },
    {
     "data": {
      "image/png": "[encoded data removed]",
      "text/plain": [
       "<Figure size 2000x1000 with 4 Axes>"
      ]
     },
     "metadata": {},
     "output_type": "display_data"
    },
    {
     "name": "stdout",
     "output_type": "stream",
     "text": [
      "Decoder Block number  4\n",
      "Decoder Self Attention 4\n"
     ]
    },
    {
     "data": {
      "image/png": "[encoded data removed]",
      "text/plain": [
       "<Figure size 2000x1000 with 4 Axes>"
      ]
     },
     "metadata": {},
     "output_type": "display_data"
    },
    {
     "name": "stdout",
     "output_type": "stream",
     "text": [
      "Decoder Cross attention 4\n"
     ]
    },
    {
     "data": {
      "image/png": "[encoded data removed]",
      "text/plain": [
       "<Figure size 2000x1000 with 4 Axes>"
      ]
     },
     "metadata": {},
     "output_type": "display_data"
    }
   ],
   "source": [
    "for layer in range(num_dec_layers):\n",
    "    fig, axs = plt.subplots(1, num_heads, figsize=(20, 10))\n",
    "\n",
    "    print(\"Decoder Block number \", layer + 1)\n",
    "\n",
    "    print(\"Decoder Self Attention\", layer + 1)\n",
    "    for h in range(num_heads):\n",
    "        draw(\n",
    "            trained_model.decoder.layers[layer]\n",
    "            .attention_self.heads[h]\n",
    "            .weights_softmax.data.cpu()\n",
    "            .numpy()[0],\n",
    "            target_exp,\n",
    "            target_exp if h == 0 else [],\n",
    "            ax=axs[h],\n",
    "        )\n",
    "    plt.show()\n",
    "    print(\"Decoder Cross attention\", layer + 1)\n",
    "    fig, axs = plt.subplots(1, 4, figsize=(20, 10))\n",
    "    for h in range(num_heads):\n",
    "        draw(\n",
    "            trained_model.decoder.layers[layer]\n",
    "            .attention_cross.heads[h]\n",
    "            .weights_softmax.data.cpu()\n",
    "            .numpy()[0],\n",
    "            inp_seq,\n",
    "            target_exp if h == 0 else [],\n",
    "            ax=axs[h],\n",
    "        )\n",
    "    plt.show()"
   ]
  }
 ],
 "metadata": {
  "accelerator": "GPU",
  "colab": {
   "collapsed_sections": [
    "b43b5e66-7d96-49a7-8d73-649c1d8de2ef",
    "137296b8-8ab8-4f9d-bff5-e2584370a757",
    "3412c073-d239-450a-aa46-9ec3d61309a6",
    "0b9ae8cd-2813-4845-a4df-d47ebdc60971"
   ],
   "name": "Transformers.ipynb",
   "provenance": []
  },
  "interpreter": {
   "hash": "3e6a8e772529b48ea93620fbc55d49ea9e469a86dedbc53ac24607b5264d00e5"
  },
  "kaggle": {
   "accelerator": "nvidiaTeslaT4",
   "dataSources": [
    {
     "datasetId": 4867368,
     "sourceId": 8212761,
     "sourceType": "datasetVersion"
    }
   ],
   "dockerImageVersionId": 30699,
   "isGpuEnabled": true,
   "isInternetEnabled": true,
   "language": "python",
   "sourceType": "notebook"
  },
  "kernelspec": {
   "display_name": "Python 3",
   "language": "python",
   "name": "python3"
  },
  "language_info": {
   "codemirror_mode": {
    "name": "ipython",
    "version": 3
   },
   "file_extension": ".py",
   "mimetype": "text/x-python",
   "name": "python",
   "nbconvert_exporter": "python",
   "pygments_lexer": "ipython3",
   "version": "3.10.13"
  },
  "papermill": {
   "default_parameters": {},
   "duration": 589.297526,
   "end_time": "2024-05-03T07:56:20.719990",
   "environment_variables": {},
   "exception": null,
   "input_path": "__notebook__.ipynb",
   "output_path": "__notebook__.ipynb",
   "parameters": {},
   "start_time": "2024-05-03T07:46:31.422464",
   "version": "2.5.0"
  }
 },
 "nbformat": 4,
 "nbformat_minor": 5
}
